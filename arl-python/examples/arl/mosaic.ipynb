{
 "cells": [
  {
   "cell_type": "markdown",
   "metadata": {},
   "source": [
    "# Demonstration of linear mosaic\n",
    "\n",
    "Reads a CASA MeasurementSet containing 7 pointing observation of CASA at 8.4 GHz, forms linear mosaic of dirty images"
   ]
  },
  {
   "cell_type": "code",
   "execution_count": null,
   "metadata": {
    "collapsed": true
   },
   "outputs": [],
   "source": [
    "%matplotlib inline\n",
    "\n",
    "import os\n",
    "import sys\n",
    "import multiprocessing\n",
    "\n",
    "sys.path.append(os.path.join('..', '..'))\n",
    "\n",
    "results_dir = './results'\n",
    "os.makedirs(results_dir, exist_ok=True)\n",
    "\n",
    "from matplotlib import pylab\n",
    "\n",
    "pylab.rcParams['figure.figsize'] = (8.0, 8.0)\n",
    "pylab.rcParams['image.cmap'] = 'rainbow'\n",
    "\n",
    "import numpy\n",
    "\n",
    "\n",
    "from astropy.coordinates import SkyCoord\n",
    "from astropy import units as u\n",
    "from astropy import constants as const\n",
    "from astropy.wcs.utils import pixel_to_skycoord\n",
    "\n",
    "from matplotlib import pyplot as plt\n",
    "\n",
    "from arl.data.data_models import Visibility, Configuration\n",
    "from arl.data.polarisation import PolarisationFrame, ReceptorFrame\n",
    "\n",
    "from arl.visibility.base import create_visibility, create_visibility_from_ms\n",
    "from arl.skycomponent.operations import create_skycomponent\n",
    "from arl.image.operations import show_image, export_image_to_fits, create_empty_image_like, fft_image, copy_image\n",
    "from arl.image.deconvolution import deconvolve_cube, restore_cube\n",
    "from arl.image.iterators import  image_raster_iter\n",
    "from arl.visibility.iterators import vis_timeslice_iter\n",
    "from arl.util.testing_support import create_named_configuration, create_test_image\n",
    "from arl.util.primary_beams import create_pb_vla\n",
    "from arl.imaging import create_image_from_visibility, invert_2d, predict_2d\n",
    "from arl.imaging.weighting import weight_visibility\n",
    "\n",
    "from arl.data.polarisation import PolarisationFrame\n",
    "\n",
    "import logging\n",
    "\n",
    "log = logging.getLogger()\n",
    "log.setLevel(logging.DEBUG)\n",
    "log.addHandler(logging.StreamHandler(sys.stdout))"
   ]
  },
  {
   "cell_type": "code",
   "execution_count": null,
   "metadata": {
    "scrolled": false
   },
   "outputs": [],
   "source": [
    "vis_list=create_visibility_from_ms('../../data/vis/xcasa.ms')"
   ]
  },
  {
   "cell_type": "code",
   "execution_count": null,
   "metadata": {
    "scrolled": false
   },
   "outputs": [],
   "source": [
    "# plot the amplitude of the visibility for each field\n",
    "for field, vt in enumerate(vis_list):\n",
    "    uvdist=numpy.sqrt(vt.data['uvw'][:,0]**2+vt.data['uvw'][:,1]**2)\n",
    "    plt.clf()\n",
    "    plt.plot(uvdist, numpy.abs(vt.data['vis']), '.')\n",
    "    plt.xlabel('uvdist')\n",
    "    plt.ylabel('Amp Visibility')\n",
    "    plt.title('Field %d' % (field))\n",
    "    plt.show()"
   ]
  },
  {
   "cell_type": "markdown",
   "metadata": {},
   "source": [
    "Make the dirty images"
   ]
  },
  {
   "cell_type": "code",
   "execution_count": null,
   "metadata": {},
   "outputs": [],
   "source": [
    "cellsize=0.00001\n",
    "\n",
    "model = create_image_from_visibility(vt, cellsize=cellsize, npixel=512, nchan=2, \n",
    "                                     phasecentre=vis_list[0].phasecentre,\n",
    "                                     polarisation_frame=PolarisationFrame('stokesIQUV'))\n",
    "mosaic = copy_image(model)\n",
    "mosaicsens = copy_image(model)\n",
    "work = copy_image(model)\n",
    "\n",
    "for vt in vis_list:\n",
    "    beam = create_pb_vla(model, pointingcentre=vt.phasecentre)\n",
    "    beam.data /= numpy.max(beam.data)\n",
    "    dirty, sumwt = invert_2d(vt, model)\n",
    "    mosaic.data += dirty.data * beam.data\n",
    "    mosaicsens.data += beam.data**2\n",
    "    \n",
    "show_image(mosaic, title='Linear mosaic')\n",
    "plt.show()\n",
    "show_image(mosaicsens, title='Linear mosaic sensitivity')\n",
    "plt.show()\n"
   ]
  },
  {
   "cell_type": "code",
   "execution_count": null,
   "metadata": {
    "collapsed": true
   },
   "outputs": [],
   "source": []
  }
 ],
 "metadata": {
  "kernelspec": {
   "display_name": "Python 3",
   "language": "python",
   "name": "python3"
  },
  "language_info": {
   "codemirror_mode": {
    "name": "ipython",
    "version": 3
   },
   "file_extension": ".py",
   "mimetype": "text/x-python",
   "name": "python",
   "nbconvert_exporter": "python",
   "pygments_lexer": "ipython3",
   "version": "3.6.1"
  }
 },
 "nbformat": 4,
 "nbformat_minor": 1
}
