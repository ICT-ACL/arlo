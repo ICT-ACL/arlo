{
 "cells": [
  {
   "cell_type": "markdown",
   "metadata": {},
   "source": [
    "# Gridding "
   ]
  },
  {
   "cell_type": "code",
   "execution_count": null,
   "metadata": {
    "collapsed": false
   },
   "outputs": [],
   "source": [
    "%matplotlib inline\n",
    "\n",
    "import sys, os\n",
    "sys.path.append(os.path.join('..','..'))\n",
    "\n",
    "from matplotlib import pylab\n",
    "pylab.rcParams['figure.figsize'] = (8.0, 8.0)\n",
    "pylab.rcParams['image.cmap'] = 'rainbow'\n",
    "\n",
    "import numpy\n",
    "\n",
    "from matplotlib import pyplot as plt\n",
    "\n",
    "from arl.fourier_transforms.convolutional_gridding import *\n",
    "from arl.fourier_transforms.convolutional_gridding import coordinates\n",
    "\n",
    "\n",
    "import logging\n",
    "log = logging.getLogger()\n",
    "log.setLevel(logging.DEBUG)\n",
    "log.addHandler(logging.StreamHandler(sys.stdout))"
   ]
  },
  {
   "cell_type": "code",
   "execution_count": null,
   "metadata": {
    "collapsed": false
   },
   "outputs": [],
   "source": [
    "shape=(256,256)\n",
    "oversampling=16\n",
    "support=3"
   ]
  },
  {
   "cell_type": "markdown",
   "metadata": {},
   "source": [
    "A spheroidal function is commonly used as anti-aliasing function. The function grdsf calculates this \n",
    "for a particular choice of parameters. Here we plot that function."
   ]
  },
  {
   "cell_type": "code",
   "execution_count": null,
   "metadata": {
    "collapsed": false
   },
   "outputs": [],
   "source": [
    "nu = numpy.arange(-support, +support, 1.0/oversampling)\n",
    "kernel1d  = grdsf(nu/support)[1]\n",
    "\n",
    "\n",
    "plt.clf();\n",
    "plt.plot(nu, kernel1d)\n",
    "plt.xlabel('Offset in U (pixels)')\n",
    "plt.plot(nu, kernel1d)\n",
    "plt.title('Gridding convolution kernel')\n",
    "\n",
    "plt.show()"
   ]
  },
  {
   "cell_type": "markdown",
   "metadata": {},
   "source": [
    "Use of this convolution function causes decorrection at the edge of the image. This must be corrected \n",
    "by multiplying the image by the grid correction function. Note that this is finely tuned to cut off\n",
    "at the edge of the image. The particular form of spheroidal function used minimises the aliased power\n",
    "weighted by (1-nu)**2 where nu=1 at the edge of the image."
   ]
  },
  {
   "cell_type": "code",
   "execution_count": null,
   "metadata": {
    "collapsed": false
   },
   "outputs": [],
   "source": [
    "plt.clf()\n",
    "\n",
    "gc, kc = anti_aliasing_calculate(shape=shape, oversampling=oversampling,\n",
    "                                   support=3)\n",
    "plt.plot(range(shape[0]), gc.real[shape[0] // 2, :] **2 , color='g',label='calculate')\n",
    "plt.legend()\n",
    "plt.title('Image plane gridding correction function')\n",
    "plt.show()"
   ]
  },
  {
   "cell_type": "markdown",
   "metadata": {},
   "source": [
    "Now we will look at how this function is rearranged in 1D to facilitate gridding"
   ]
  },
  {
   "cell_type": "markdown",
   "metadata": {},
   "source": [
    "Now we assemble the kernels in two dimensions, structured so the last two axes are the fractional offsets.The centering and\n",
    "coordinate mapping is set to agree with the transform approach."
   ]
  },
  {
   "cell_type": "code",
   "execution_count": null,
   "metadata": {
    "collapsed": false
   },
   "outputs": [],
   "source": [
    "l1d = len(kernel1d)\n",
    "s1d = 2 * support + 2\n",
    "\n",
    "kernel4d = numpy.zeros((oversampling, oversampling, s1d, s1d))\n",
    "for yf in range(oversampling):\n",
    "    my = range(yf, l1d, oversampling)[::-1]\n",
    "    for xf in range(oversampling):\n",
    "        mx = range(xf, l1d, oversampling)[::-1]\n",
    "        kernel4d[yf, xf, 2:, 2:] = numpy.outer(kernel1d[my], kernel1d[mx])\n",
    "print(kernel4d.shape)\n",
    "plt.clf()\n",
    "for i in range(oversampling):\n",
    "    plt.subplot(4, oversampling // 4, i+1)\n",
    "    plt.imshow(kernel4d[i,i].real)"
   ]
  },
  {
   "cell_type": "markdown",
   "metadata": {},
   "source": [
    "This calculation is performed by anti_aliasing_calculate."
   ]
  },
  {
   "cell_type": "code",
   "execution_count": null,
   "metadata": {
    "collapsed": false
   },
   "outputs": [],
   "source": [
    "gc, kc = anti_aliasing_calculate(shape=shape, oversampling=oversampling,\n",
    "                                   support=3)\n",
    "kc = kc / kc.max()\n",
    "plt.clf()\n",
    "for i in range(oversampling):\n",
    "    plt.subplot(4, oversampling // 4, i+1)\n",
    "    plt.imshow(numpy.abs(kc[i,i]))"
   ]
  },
  {
   "cell_type": "code",
   "execution_count": null,
   "metadata": {
    "collapsed": true
   },
   "outputs": [],
   "source": []
  }
 ],
 "metadata": {
  "kernelspec": {
   "display_name": "Python 3",
   "language": "python",
   "name": "python3"
  },
  "language_info": {
   "codemirror_mode": {
    "name": "ipython",
    "version": 3
   },
   "file_extension": ".py",
   "mimetype": "text/x-python",
   "name": "python",
   "nbconvert_exporter": "python",
   "pygments_lexer": "ipython3",
   "version": "3.6.0"
  }
 },
 "nbformat": 4,
 "nbformat_minor": 0
}
