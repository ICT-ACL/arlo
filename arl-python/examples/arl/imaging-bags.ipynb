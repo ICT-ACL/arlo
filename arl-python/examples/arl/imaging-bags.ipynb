{
 "cells": [
  {
   "cell_type": "markdown",
   "metadata": {},
   "source": [
    "# Dask bag-based imaging demonstration\n",
    "\n",
    "This notebook explores the use of dask bags for parallelisation. For the most part we work with the bags directly. Much of this can be hidden in standard functions.\n",
    "\n",
    "See imaging-dask notebook for processing with dask delayed"
   ]
  },
  {
   "cell_type": "markdown",
   "metadata": {},
   "source": [
    "We create the visibility and fill in values with the transform of a number of point sources. "
   ]
  },
  {
   "cell_type": "code",
   "execution_count": null,
   "metadata": {
    "ExecuteTime": {
     "end_time": "2017-12-01T10:13:21.864558Z",
     "start_time": "2017-12-01T10:13:19.684494Z"
    }
   },
   "outputs": [],
   "source": [
    "%matplotlib inline\n",
    "\n",
    "import os\n",
    "import sys\n",
    "\n",
    "from dask import delayed, bag\n",
    "from distributed import Client\n",
    "\n",
    "results_dir = './results'\n",
    "os.makedirs(results_dir, exist_ok=True)\n",
    "\n",
    "from matplotlib import pylab\n",
    "\n",
    "pylab.rcParams['figure.figsize'] = (12.0, 12.0)\n",
    "pylab.rcParams['image.cmap'] = 'rainbow'\n",
    "\n",
    "import numpy\n",
    "\n",
    "from astropy.coordinates import SkyCoord\n",
    "from astropy import units as u\n",
    "from astropy.wcs.utils import pixel_to_skycoord\n",
    "\n",
    "from matplotlib import pyplot as plt\n",
    "\n",
    "from arl.calibration.operations import apply_gaintable\n",
    "from arl.data.polarisation import PolarisationFrame\n",
    "from arl.visibility.base import create_visibility, copy_visibility\n",
    "from arl.visibility.operations import concatenate_visibility\n",
    "from arl.skycomponent.operations import create_skycomponent\n",
    "from arl.image.operations import show_image, qa_image, create_empty_image_like,\\\n",
    "    pad_image\n",
    "from arl.image.deconvolution import deconvolve_cube, restore_cube\n",
    "from arl.util.testing_support import create_named_configuration, create_test_image\n",
    "from arl.imaging import create_image_from_visibility, predict_skycomponent_visibility, \\\n",
    "    advise_wide_field, predict_2d, invert_2d, normalize_sumwt\n",
    "from arl.imaging.wstack import predict_wstack_single, invert_wstack_single\n",
    "from arl.imaging.timeslice import predict_timeslice_single, invert_timeslice_single\n",
    "from arl.visibility.gather_scatter import visibility_gather_w, visibility_scatter_w\n",
    "from arl.visibility.gather_scatter import visibility_gather_time, visibility_scatter_time\n",
    "from arl.imaging.weighting import weight_visibility\n",
    "from arl.graphs.dask_init import get_dask_Client\n",
    "from arl.pipelines.graphs import create_continuum_imaging_pipeline_graph\n",
    "from arl.graphs.bags import safe_invert_list, safe_predict_list, sum_invert_bag_results, deconvolve_bag\n",
    "\n",
    "import logging\n",
    "\n",
    "log = logging.getLogger()\n",
    "log.setLevel(logging.INFO)\n",
    "log.addHandler(logging.StreamHandler(sys.stdout))"
   ]
  },
  {
   "cell_type": "markdown",
   "metadata": {},
   "source": [
    "Define a function to create the visibilities"
   ]
  },
  {
   "cell_type": "code",
   "execution_count": null,
   "metadata": {
    "ExecuteTime": {
     "end_time": "2017-12-01T10:13:21.918999Z",
     "start_time": "2017-12-01T10:13:21.866254Z"
    }
   },
   "outputs": [],
   "source": [
    "def ingest_visibility(freq=1e8, chan_width=1e6, reffrequency=[1e8], npixel=512,\n",
    "                      init=False):\n",
    "    lowcore = create_named_configuration('LOWBD2-CORE')\n",
    "    times = numpy.linspace(-numpy.pi / 4, numpy.pi / 4, 7)\n",
    "    frequency = numpy.array([freq])\n",
    "    channel_bandwidth = numpy.array([chan_width])\n",
    "\n",
    "    phasecentre = SkyCoord(\n",
    "        ra=+15.0 * u.deg, dec=-26.7 * u.deg, frame='icrs', equinox='J2000')\n",
    "    vt = create_visibility(\n",
    "        lowcore,\n",
    "        times,\n",
    "        frequency,\n",
    "        channel_bandwidth=channel_bandwidth,\n",
    "        weight=1.0,\n",
    "        phasecentre=phasecentre,\n",
    "        polarisation_frame=PolarisationFrame(\"stokesI\"))\n",
    "    if init:\n",
    "        cellsize = 0.001\n",
    "        model = create_image_from_visibility(\n",
    "            vt,\n",
    "            npixel=npixel,\n",
    "            cellsize=cellsize,\n",
    "            npol=1,\n",
    "            frequency=reffrequency,\n",
    "            polarisation_frame=PolarisationFrame(\"stokesI\"))\n",
    "        flux = numpy.array([[100.0]])\n",
    "        facets = 4\n",
    "\n",
    "        spacing_pixels = npixel // facets\n",
    "        spacing = 180.0 * cellsize * spacing_pixels / numpy.pi\n",
    "        centers = -1.5, -0.5, +0.5, +1.5\n",
    "        comps = list()\n",
    "        for iy in centers:\n",
    "            for ix in centers:\n",
    "                pra = int(round(npixel // 2 + ix * spacing_pixels - 1))\n",
    "                pdec = int(round(npixel // 2 + iy * spacing_pixels - 1))\n",
    "                sc = pixel_to_skycoord(pra, pdec, model.wcs)\n",
    "                comps.append(\n",
    "                    create_skycomponent(\n",
    "                        flux=flux,\n",
    "                        frequency=reffrequency,\n",
    "                        direction=sc,\n",
    "                        polarisation_frame=PolarisationFrame(\"stokesI\")))\n",
    "        predict_skycomponent_visibility(vt, comps)\n",
    "\n",
    "    return vt"
   ]
  },
  {
   "cell_type": "markdown",
   "metadata": {},
   "source": [
    "Now make seven of these spanning 800MHz to 1200MHz and put them into a Dask bag."
   ]
  },
  {
   "cell_type": "code",
   "execution_count": null,
   "metadata": {
    "ExecuteTime": {
     "end_time": "2017-12-01T10:13:26.088405Z",
     "start_time": "2017-12-01T10:13:21.921040Z"
    },
    "scrolled": false
   },
   "outputs": [],
   "source": [
    "nfreqwin=7\n",
    "vis_bag=bag.from_sequence([ingest_visibility(freq) \n",
    "                           for freq in numpy.linspace(0.8e8,1.2e8,nfreqwin)])\n",
    "print(vis_bag)"
   ]
  },
  {
   "cell_type": "markdown",
   "metadata": {},
   "source": [
    "We need to compute the bag in order to use it. First we just need a representative data set to calculate imaging parameters."
   ]
  },
  {
   "cell_type": "code",
   "execution_count": null,
   "metadata": {
    "ExecuteTime": {
     "end_time": "2017-12-01T10:13:26.244103Z",
     "start_time": "2017-12-01T10:13:26.090168Z"
    },
    "scrolled": false
   },
   "outputs": [],
   "source": [
    "npixel=512\n",
    "facets=4\n",
    "def get_LSM(vt, cellsize=0.001, reffrequency=[1e8], npixel=512):\n",
    "    model = pad_image(create_test_image(vt, cellsize=cellsize, frequency=reffrequency, \n",
    "                                        phasecentre=vt.phasecentre,\n",
    "                                        polarisation_frame=PolarisationFrame(\"stokesI\")),\n",
    "                                        shape=[1, 1, 512, 512])\n",
    "    return model\n",
    "\n",
    "vis_bag = list(vis_bag)\n",
    "model = get_LSM(vis_bag[0])\n",
    "advice=advise_wide_field(vis_bag[0], guard_band_image=4.0)\n",
    "vis_slices=11"
   ]
  },
  {
   "cell_type": "markdown",
   "metadata": {},
   "source": [
    "Now we can set up the prediction of the visibility from the model. We scatter over w and then apply the wstack for a single w plane. Then we concatenate the visibilities back together.\n",
    "\n",
    "To save recomputing this, we compute it now and place it into another bag of the same name."
   ]
  },
  {
   "cell_type": "code",
   "execution_count": null,
   "metadata": {
    "ExecuteTime": {
     "end_time": "2017-12-01T10:13:43.499057Z",
     "start_time": "2017-12-01T10:13:26.247431Z"
    },
    "scrolled": false
   },
   "outputs": [],
   "source": [
    "vis_bag=bag.from_sequence([ingest_visibility(freq) \n",
    "                           for freq in numpy.linspace(0.8e8,1.2e8,nfreqwin)])\\\n",
    "    .map(visibility_scatter_w, vis_slices=vis_slices)\\\n",
    "    .map(safe_predict_list, model, predict=predict_wstack_single)\\\n",
    "    .map(concatenate_visibility)\n",
    "    \n",
    "vis_bag=bag.from_sequence(vis_bag.compute())"
   ]
  },
  {
   "cell_type": "markdown",
   "metadata": {
    "ExecuteTime": {
     "end_time": "2017-11-29T11:33:41.649504Z",
     "start_time": "2017-11-29T11:33:41.645245Z"
    }
   },
   "source": [
    "Check out the visibility function. To get the result out of the bag, we do need to compute it but this time it's just a lookup."
   ]
  },
  {
   "cell_type": "code",
   "execution_count": null,
   "metadata": {
    "ExecuteTime": {
     "end_time": "2017-12-01T10:13:44.084286Z",
     "start_time": "2017-12-01T10:13:43.502238Z"
    },
    "scrolled": false
   },
   "outputs": [],
   "source": [
    "vt = vis_bag.compute()[0]\n",
    "\n",
    "# To check that we got the prediction right, plot the amplitude of the visibility.\n",
    "uvdist=numpy.sqrt(vt.data['uvw'][:,0]**2+vt.data['uvw'][:,1]**2)\n",
    "plt.clf()\n",
    "plt.plot(uvdist, numpy.abs(vt.data['vis']), '.')\n",
    "plt.xlabel('uvdist')\n",
    "plt.ylabel('Amp Visibility')\n",
    "plt.show()"
   ]
  },
  {
   "cell_type": "markdown",
   "metadata": {},
   "source": [
    "Now we can make the dirty images. As before we will scatter each of the 7 frequency windows (patitions) over w, giving a 2 level nested structure. We make a separate image for each frequency window. The image resolution noticeably improves for the high frequencies."
   ]
  },
  {
   "cell_type": "code",
   "execution_count": null,
   "metadata": {
    "ExecuteTime": {
     "end_time": "2017-12-01T10:14:08.936510Z",
     "start_time": "2017-12-01T10:13:44.086960Z"
    },
    "scrolled": false
   },
   "outputs": [],
   "source": [
    "dirty_bag=vis_bag\\\n",
    "    .map(visibility_scatter_w, vis_slices=vis_slices)\\\n",
    "    .map(safe_invert_list, model, invert_wstack_single, dopsf=False, normalize=True)\\\n",
    "    .map(sum_invert_bag_results)\n",
    "dirty_bag=bag.from_sequence(dirty_bag.compute())\n",
    "\n",
    "psf_bag=vis_bag\\\n",
    "    .map(visibility_scatter_w, vis_slices=vis_slices)\\\n",
    "    .map(safe_invert_list, model, invert_wstack_single, dopsf=True, normalize=True)\\\n",
    "    .map(sum_invert_bag_results)\n",
    "    \n",
    "psf_bag=bag.from_sequence(psf_bag.compute())\n",
    "    \n",
    "for i, dirty in enumerate(dirty_bag.compute()):\n",
    "    print(qa_image(dirty[0], context='dirty'))\n",
    "    fig = show_image(dirty[0], title='Dirty image %d, weight %.3f' \n",
    "                     % (i, dirty[1]))\n",
    "    plt.show()"
   ]
  },
  {
   "cell_type": "markdown",
   "metadata": {},
   "source": [
    "In the next step all these seven images will be deconvolved in parallel. In this case we again need to zip the dirty and psf images and then use a simple adapter function."
   ]
  },
  {
   "cell_type": "code",
   "execution_count": null,
   "metadata": {
    "ExecuteTime": {
     "end_time": "2017-12-01T10:15:10.804069Z",
     "start_time": "2017-12-01T10:14:08.938358Z"
    },
    "scrolled": false
   },
   "outputs": [],
   "source": [
    "def bag_deconvolve(dirty_psf_zip, **kwargs):\n",
    "    result = deconvolve_cube(dirty_psf_zip[0][0], dirty_psf_zip[1][0], **kwargs)\n",
    "    return result[0]\n",
    "\n",
    "comp_bag=bag.zip(dirty_bag, psf_bag).map(bag_deconvolve, niter=1000, threshold=0.001, \n",
    "                                         fracthresh=0.01, window_shape='quarter',\n",
    "                                         gain=0.7, scales=[0, 3, 10, 30])\n",
    "\n",
    "comp = comp_bag.compute()\n",
    "fig=show_image(comp[0])\n",
    "\n",
    "comp_bag=bag.from_sequence(comp)"
   ]
  },
  {
   "cell_type": "markdown",
   "metadata": {},
   "source": [
    "Now we can calculate the model and residual visibility. To calculate the residual visibility, we will zip the original and model visibilities together and map our adapter across the zipped bag."
   ]
  },
  {
   "cell_type": "code",
   "execution_count": null,
   "metadata": {
    "ExecuteTime": {
     "end_time": "2017-12-01T10:16:40.730739Z",
     "start_time": "2017-12-01T10:15:10.806655Z"
    },
    "scrolled": false
   },
   "outputs": [],
   "source": [
    "model_vis_bag=vis_bag\\\n",
    "    .map(visibility_scatter_w, vis_slices=101)\\\n",
    "    .map(safe_predict_list, comp_bag, predict=predict_wstack_single)\\\n",
    "    .map(concatenate_visibility)\n",
    "    \n",
    "model_vis_bag = bag.from_sequence(model_vis_bag.compute())\n",
    "\n",
    "def subtract_vis(vis_model_zip):\n",
    "    residual_vis = copy_visibility(vis_model_zip[0])\n",
    "    residual_vis.data['vis'] -= vis_model_zip[1].data['vis']\n",
    "    return residual_vis\n",
    "\n",
    "residual_vis_bag = bag.zip(vis_bag, model_vis_bag)\\\n",
    "    .map(subtract_vis)\n",
    "    \n",
    "residual_vis_bag=bag.from_sequence(residual_vis_bag.compute())\n",
    "    \n",
    "ovt = vis_bag.compute()[0]\n",
    "vt = residual_vis_bag.compute()[0]\n",
    "\n",
    "# To check that we got the prediction right, plot the amplitude of the visibility.\n",
    "uvdist=numpy.sqrt(vt.data['uvw'][:,0]**2+vt.data['uvw'][:,1]**2)\n",
    "plt.clf()\n",
    "plt.plot(uvdist, numpy.abs(ovt.data['vis']), '.', color='b')\n",
    "plt.plot(uvdist, numpy.abs(vt.data['vis']), '.', color='r')\n",
    "plt.xlabel('uvdist')\n",
    "plt.ylabel('Amp Visibility')\n",
    "plt.show()"
   ]
  },
  {
   "cell_type": "markdown",
   "metadata": {},
   "source": [
    "Now we can restore the images"
   ]
  },
  {
   "cell_type": "code",
   "execution_count": null,
   "metadata": {
    "ExecuteTime": {
     "end_time": "2017-12-01T10:16:53.918665Z",
     "start_time": "2017-12-01T10:16:40.733598Z"
    },
    "scrolled": false
   },
   "outputs": [],
   "source": [
    "residual_bag=residual_vis_bag\\\n",
    "    .map(visibility_scatter_w, vis_slices=11)\\\n",
    "    .map(safe_invert_list, model, invert_wstack_single, dopsf=False, normalize=True)\\\n",
    "    .map(sum_invert_bag_results)\n",
    "    \n",
    "residual_bag=bag.from_sequence(residual_bag.compute())\n",
    "\n",
    "def bag_restore(cpr_zip, **kwargs):\n",
    "    return restore_cube(cpr_zip[0], cpr_zip[1][0], cpr_zip[2][0], **kwargs)\n",
    "\n",
    "restore_bag = bag.zip(comp_bag, psf_bag, residual_bag)\\\n",
    "    .map(bag_restore)\n",
    "\n",
    "for i, restored in enumerate(restore_bag.compute()):\n",
    "    fig = show_image(restored, title='Restored image %d' %i)\n",
    "    plt.show()"
   ]
  },
  {
   "cell_type": "code",
   "execution_count": null,
   "metadata": {},
   "outputs": [],
   "source": []
  }
 ],
 "metadata": {
  "kernelspec": {
   "display_name": "Python 3",
   "language": "python",
   "name": "python3"
  },
  "language_info": {
   "codemirror_mode": {
    "name": "ipython",
    "version": 3
   },
   "file_extension": ".py",
   "mimetype": "text/x-python",
   "name": "python",
   "nbconvert_exporter": "python",
   "pygments_lexer": "ipython3",
   "version": "3.6.1"
  },
  "notify_time": "30"
 },
 "nbformat": 4,
 "nbformat_minor": 1
}
