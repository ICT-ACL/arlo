{
 "cells": [
  {
   "cell_type": "code",
   "execution_count": 1,
   "metadata": {
    "collapsed": true
   },
   "outputs": [],
   "source": [
    "import os\n",
    "import sys\n",
    "import multiprocessing\n",
    "\n",
    "sys.path.append(os.path.join('..', '..'))\n",
    "\n",
    "\n",
    "from matplotlib import pylab\n",
    "\n",
    "pylab.rcParams['figure.figsize'] = (10.0, 10.0)\n",
    "pylab.rcParams['image.cmap'] = 'rainbow'\n",
    "\n",
    "import numpy\n",
    "\n",
    "from astropy.coordinates import SkyCoord\n",
    "from astropy import units as u\n",
    "from astropy import constants as const\n",
    "from astropy.wcs.utils import pixel_to_skycoord\n",
    "\n",
    "from arl.data.polarisation import PolarisationFrame\n",
    "from arl.visibility.base import create_visibility\n",
    "from arl.skycomponent.operations import create_skycomponent\n",
    "from arl.image.operations import show_image, import_image_from_fits, export_image_to_fits, \\\n",
    "    smooth_image, calculate_image_frequency_moments, calculate_image_from_frequency_moments\n",
    "from arl.image.deconvolution import deconvolve_cube, restore_cube\n",
    "from arl.image.iterators import  image_raster_iter\n",
    "from arl.image.solvers import solve_image\n",
    "from arl.visibility.iterators import vis_timeslice_iter\n",
    "from arl.util.testing_support import create_named_configuration, \\\n",
    "    create_low_test_image_from_gleam, create_low_test_beam\n",
    "from arl.imaging import *\n",
    "from arl.imaging.weighting import weight_visibility\n",
    "\n",
    "import logging\n",
    "import time\n",
    "import pickle\n",
    "\n",
    "log = logging.getLogger()\n",
    "log.setLevel(logging.DEBUG)\n",
    "log.addHandler(logging.StreamHandler(sys.stdout))"
   ]
  },
  {
   "cell_type": "code",
   "execution_count": 2,
   "metadata": {
    "collapsed": true
   },
   "outputs": [],
   "source": [
    "case = 'core'   # core or full\n",
    "\n",
    "results_dir = os.path.join('./results', case)\n",
    "data_dir = os.path.join('./examples/arl', results_dir)\n",
    "os.makedirs(results_dir, exist_ok=True)"
   ]
  },
  {
   "cell_type": "code",
   "execution_count": 3,
   "metadata": {},
   "outputs": [
    {
     "name": "stdout",
     "output_type": "stream",
     "text": [
      "./examples/arl/./results/core\n",
      "./results/core\n"
     ]
    }
   ],
   "source": [
    "print(data_dir)\n",
    "print(results_dir)"
   ]
  },
  {
   "cell_type": "code",
   "execution_count": 4,
   "metadata": {},
   "outputs": [
    {
     "name": "stdout",
     "output_type": "stream",
     "text": [
      "config time: 0.0943s\n"
     ]
    }
   ],
   "source": [
    "# construct low configuration\n",
    "start = time.time()\n",
    "low = create_named_configuration('LOWBD2-CORE')\n",
    "stop = time.time()\n",
    "elapsed = stop - start\n",
    "print('config time: %.4fs' % elapsed)"
   ]
  },
  {
   "cell_type": "code",
   "execution_count": 5,
   "metadata": {},
   "outputs": [
    {
     "name": "stdout",
     "output_type": "stream",
     "text": [
      "create vis time: 0.1068s\n"
     ]
    }
   ],
   "source": [
    "# create visibility\n",
    "\n",
    "config = case\n",
    "if config == 'full':\n",
    "    low = create_named_configuration('LOWBD2')\n",
    "    cellsize = 0.00001\n",
    "    npixel=5 * 2048\n",
    "    padding = 1\n",
    "\n",
    "else:\n",
    "    low = create_named_configuration('LOWBD2-CORE')\n",
    "    cellsize = 0.001\n",
    "    npixel=512\n",
    "    padding = 2\n",
    "    \n",
    "oversampling = 32\n",
    "nchan = 7\n",
    "times = numpy.linspace(-3, +3, 5) * numpy.pi / 12.0\n",
    "frequency = numpy.linspace(0.8e8, 1.2e8, nchan)\n",
    "ntimes, nfreq = len(times), len(frequency)\n",
    "centre_frequency = numpy.array([numpy.average(frequency)])\n",
    "channel_bandwidth=numpy.array(nchan * [frequency[1]-frequency[0]])\n",
    "total_bandwidth = numpy.array([numpy.sum(channel_bandwidth)])\n",
    "polarisation_frame = PolarisationFrame('stokesI')\n",
    "\n",
    "\n",
    "start = time.time()\n",
    "ra, dec = +15.0, -45.0\n",
    "# phasecentre = SkyCoord(ra=ra * u.deg, dec=dec * u.deg, frame='icrs', equinox='J2000')\n",
    "# vt = create_visibility(low, times, frequency, channel_bandwidth=channel_bandwidth,\n",
    "#                        weight=1.0, phasecentre=phasecentre,\n",
    "#                        polarisation_frame=polarisation_frame)\n",
    "\n",
    "# pickle.dump(vt, open('%s/visibility_%d_%d.vis' % (results_dir, ra, dec), 'wb'))\n",
    "vt = pickle.load(open('%s/visibility_%d_%d.vis' % (results_dir, ra, dec), 'rb'))\n",
    "\n",
    "stop = time.time()\n",
    "elapsed = stop - start\n",
    "print('create vis time: %.4fs' % elapsed)"
   ]
  },
  {
   "cell_type": "code",
   "execution_count": 6,
   "metadata": {},
   "outputs": [
    {
     "name": "stdout",
     "output_type": "stream",
     "text": [
      "advise_wide_field: Maximum wavelength 3.747 (meters)\n",
      "advise_wide_field: Minimum wavelength 2.498 (meters)\n",
      "advise_wide_field: Maximum baseline 315.2 (wavelengths)\n",
      "advise_wide_field: Station/antenna diameter 35.0 (meters)\n",
      "advise_wide_field: Primary beam 0.107069 (rad) 6.135 (deg)\n",
      "advise_wide_field: Image field of view 0.642412 (rad) 36.808 (deg)\n",
      "advise_wide_field: Synthesized beam 0.003173 (rad) 0.182 (deg)\n",
      "advise_wide_field: Cellsize 0.001058 (rad) 0.061 (deg)\n",
      "advice_wide_field: Npixels per side = 607\n",
      "advice_wide_field: Npixels (power of 2, 3) per side = 768\n",
      "advice_wide_field: W sampling for full image = 0.2 (wavelengths)\n",
      "advice_wide_field: W sampling for primary beam = 5.6 (wavelengths)\n",
      "advice_wide_field: Time sampling for full image = 13.5 (s)\n",
      "advice_wide_field: Time sampling for primary beam = 484.6 (s)\n",
      "advice_wide_field: Frequency sampling for full image = 18696.1 (Hz)\n",
      "advice_wide_field: Frequency sampling for primary beam = 673058.5 (Hz)\n",
      "advice_wide_field: Number of planes in w stack 56\n",
      "advice_wide_field: Number of planes in w projection 1\n",
      "advice_wide_field: Recommend 2d gridding\n"
     ]
    }
   ],
   "source": [
    "advice = advise_wide_field(vt, wprojection_planes=1)"
   ]
  },
  {
   "cell_type": "code",
   "execution_count": 7,
   "metadata": {},
   "outputs": [
    {
     "name": "stdout",
     "output_type": "stream",
     "text": [
      "import_image_from_fits: created >f8 image of shape (1, 1, 512, 512), size 0.002 (GB)\n",
      "import_image_from_fits: Max, min in ./examples/arl/./results/core/model_centrechannel_5_7.fits = 40.971054, -0.127373\n",
      "import model centre channel time: 0.0250s\n",
      "import_image_from_fits: created >f8 image of shape (7, 1, 512, 512), size 0.014 (GB)\n",
      "import_image_from_fits: Max, min in ./examples/arl/./results/core/model_multichannel_5_7.fits = 48.234946, -0.479117\n",
      "import model multi channel time: 0.0353s\n"
     ]
    }
   ],
   "source": [
    "# make a test image\n",
    "start = time.time()\n",
    "# model_centrechannel = create_low_test_image_from_gleam(npixel=npixel,\n",
    "#                                                        frequency=centre_frequency,\n",
    "#                                                        channel_bandwidth=total_bandwidth,\n",
    "#                                                        cellsize=cellsize,\n",
    "#                                                        phasecentre=phasecentre,\n",
    "#                                                         polarisation_frame=polarisation_frame)\n",
    "# export_image_to_fits(model_centrechannel, '%s/model_centrechannel_%d_%d.fits' % (results_dir, ntimes, nfreq))\n",
    "model_centrechannel = import_image_from_fits('%s/model_centrechannel_%d_%d.fits' % (data_dir, ntimes, nfreq))\n",
    "stop = time.time()\n",
    "elapsed = stop - start\n",
    "print('import model centre channel time: %.4fs' % elapsed)\n",
    "\n",
    "\n",
    "start = time.time()\n",
    "# model_multichannel = create_low_test_image_from_gleam(npixel=npixel, frequency=frequency,\n",
    "#                                                       channel_bandwidth=channel_bandwidth,\n",
    "#                                                       cellsize=cellsize,\n",
    "#                                                       phasecentre=phasecentre,\n",
    "#                                                     polarisation_frame=polarisation_frame)\n",
    "# export_image_to_fits(model_multichannel, '%s/model_multichannel_%d_%d.fits' % (results_dir, ntimes, nfreq))\n",
    "model_multichannel = import_image_from_fits('%s/model_multichannel_%d_%d.fits' % (data_dir, ntimes, nfreq))\n",
    "stop = time.time()\n",
    "elapsed = stop - start\n",
    "print('import model multi channel time: %.4fs' % elapsed)"
   ]
  },
  {
   "cell_type": "code",
   "execution_count": 8,
   "metadata": {},
   "outputs": [
    {
     "name": "stdout",
     "output_type": "stream",
     "text": [
      "import_image_from_fits: created >f8 image of shape (7, 1, 512, 512), size 0.014 (GB)\n",
      "import_image_from_fits: Max, min in ./examples/arl/./results/core/beam_5_7.fits = 48.234946, -0.479117\n",
      "beam time: 0.0734s\n"
     ]
    }
   ],
   "source": [
    "start = time.time()\n",
    "# beam=create_low_test_beam(model_multichannel)\n",
    "# export_image_to_fits(model_multichannel, '%s/beam_%d_%d.fits' % (results_dir, ntimes, nfreq))\n",
    "beam = import_image_from_fits('%s/beam_%d_%d.fits' % (data_dir, ntimes, nfreq))\n",
    "model_multichannel.data*=beam.data\n",
    "stop = time.time()\n",
    "elapsed = stop - start\n",
    "print('beam time: %.4fs' % elapsed)"
   ]
  },
  {
   "cell_type": "code",
   "execution_count": 9,
   "metadata": {},
   "outputs": [
    {
     "name": "stdout",
     "output_type": "stream",
     "text": [
      "calculate_image_frequency_moments: Reference frequency = 100000000.000 (MHz)\n",
      "moment_cube time: 0.0689s\n"
     ]
    }
   ],
   "source": [
    "# moment cube\n",
    "start = time.time()\n",
    "moment_cube = calculate_image_frequency_moments(model_multichannel,nmoments=3)\n",
    "export_image_to_fits(moment_cube, '%s/moment_cube.fits' % (results_dir))\n",
    "stop = time.time()\n",
    "elapsed = stop - start\n",
    "print('moment_cube time: %.4fs' % elapsed)"
   ]
  },
  {
   "cell_type": "code",
   "execution_count": 10,
   "metadata": {},
   "outputs": [
    {
     "name": "stdout",
     "output_type": "stream",
     "text": [
      "calculate_image_from_frequency_moments: Reference frequency = 100000000.000 (MHz)\n",
      "reconstructed_cube time: 0.1063s\n"
     ]
    }
   ],
   "source": [
    "# reconstructed cube\n",
    "start = time.time()\n",
    "reconstructed_cube = calculate_image_from_frequency_moments(model_multichannel, moment_cube)\n",
    "export_image_to_fits(reconstructed_cube, '%s/reconstructed_cube.fits' % (results_dir))\n",
    "stop = time.time()\n",
    "elapsed = stop - start\n",
    "print('reconstructed_cube time: %.4fs' % elapsed)"
   ]
  },
  {
   "cell_type": "code",
   "execution_count": 11,
   "metadata": {
    "collapsed": true
   },
   "outputs": [],
   "source": [
    "# predict and invert algorithm\n",
    "predict_processors = [predict_2d, predict_wstack, predict_timeslice, predict_facets, predict_wprojection]\n",
    "invert_processors =  [invert_2d,  invert_wstack,  invert_timeslice,  invert_facets,  invert_wprojection]\n",
    "proc = 0\n",
    "predict = predict_processors[proc]\n",
    "invert  = invert_processors[proc]"
   ]
  },
  {
   "cell_type": "code",
   "execution_count": 12,
   "metadata": {},
   "outputs": [
    {
     "name": "stdout",
     "output_type": "stream",
     "text": [
      "predict_2d: predict using 2d transform\n",
      "shift_vis_from_image: shifting phasecentre from image phase centre <SkyCoord (ICRS): (ra, dec) in deg\n",
      "    ( 15., -35.)> to visibility phasecentre <SkyCoord (ICRS): (ra, dec) in deg\n",
      "    ( 15., -45.)>\n",
      "freq : 0.5655s\n",
      "fft  : 1.6901s\n",
      "grid : 0.1916s\n",
      "shift: 1.7105s\n",
      "predict time: 4.1955s\n"
     ]
    }
   ],
   "source": [
    "# predict\n",
    "start = time.time()\n",
    "vt.data['vis'] *= 0.0\n",
    "# vt = predict(vt, model_multichannel)\n",
    "vt = predict(vt, model_multichannel, nprocessor=1, timeslice='auto', vis_slices=31,\n",
    "            oversampling=oversampling, facets=4, wstep=advice['w_sampling_primary_beam'],\n",
    "            polarisation_frame=polarisation_frame)\n",
    "stop = time.time()\n",
    "elapsed = stop - start\n",
    "print('predict time: %.4fs' % elapsed)"
   ]
  },
  {
   "cell_type": "code",
   "execution_count": 13,
   "metadata": {},
   "outputs": [
    {
     "name": "stdout",
     "output_type": "stream",
     "text": [
      "weight_gridding: Performing uniform weighting\n",
      "weight_visibility time: 2.8384s\n"
     ]
    }
   ],
   "source": [
    "# weight visibility\n",
    "start = time.time()\n",
    "vt, density, densitygrid = weight_visibility(vt, model_centrechannel)\n",
    "stop = time.time()\n",
    "elapsed = stop - start\n",
    "print('weight_visibility time: %.4fs' % elapsed)"
   ]
  },
  {
   "cell_type": "code",
   "execution_count": 17,
   "metadata": {},
   "outputs": [
    {
     "name": "stdout",
     "output_type": "stream",
     "text": [
      "invert_2d: inverting using 2d transform\n",
      "invert_2d: inverting using 2d transform\n",
      "[[ 0.01149425]\n",
      " [ 0.01041667]\n",
      " [ 0.01041667]\n",
      " [ 0.01162791]\n",
      " [ 0.01265823]\n",
      " [ 0.01265823]\n",
      " [ 0.01408451]\n",
      " [ 0.0106383 ]\n",
      " [ 0.01515152]\n",
      " [ 0.01612903]\n",
      " [ 0.01587302]\n",
      " [ 0.01265823]\n",
      " [ 0.01369863]\n",
      " [ 0.01492537]\n",
      " [ 0.01111111]\n",
      " [ 0.0125    ]\n",
      " [ 0.01162791]\n",
      " [ 0.01162791]\n",
      " [ 0.01333333]\n",
      " [ 0.01587302]]\n",
      "invert_2d: inverting using 2d transform\n",
      "invert_2d: inverting using 2d transform\n",
      "[[ 0.01149425]\n",
      " [ 0.01041667]\n",
      " [ 0.01041667]\n",
      " [ 0.01162791]\n",
      " [ 0.01265823]\n",
      " [ 0.01265823]\n",
      " [ 0.01408451]\n",
      " [ 0.0106383 ]\n",
      " [ 0.01515152]\n",
      " [ 0.01612903]\n",
      " [ 0.01587302]\n",
      " [ 0.01265823]\n",
      " [ 0.01369863]\n",
      " [ 0.01492537]\n",
      " [ 0.01111111]\n",
      " [ 0.0125    ]\n",
      " [ 0.01162791]\n",
      " [ 0.01162791]\n",
      " [ 0.01333333]\n",
      " [ 0.01587302]]\n",
      "invert time: 24.0774s\n"
     ]
    }
   ],
   "source": [
    "# invert\n",
    "start = time.time()\n",
    "dirty, sumwt = invert(vt, model_multichannel, padding=1)\n",
    "psf, sumwt = invert(vt, model_multichannel, dopsf=True, padding=1)\n",
    "# dirty, sumwt = invert(vt, model_multichannel, timeslice='auto', padding=1, oversampling=oversampling,\n",
    "#                          facets=4, wstack=advice['w_sampling_primary_beam'], vis_slices=31,\n",
    "#                          wstep=advice['w_sampling_primary_beam'])\n",
    "# psf, sumwt = invert(vt, model_multichannel, dopsf=True, timeslice='auto', padding=1, oversampling=oversampling,\n",
    "#                          facets=4, wstack=advice['w_sampling_primary_beam'], vis_slices=31,\n",
    "#                          wstep=advice['w_sampling_primary_beam'])\n",
    "stop = time.time()\n",
    "elapsed = stop - start\n",
    "print('invert time: %.4fs' % elapsed)"
   ]
  },
  {
   "cell_type": "code",
   "execution_count": 15,
   "metadata": {
    "collapsed": true
   },
   "outputs": [],
   "source": [
    "# export_image_to_fits(dirty, '%s/dirty.fits' % (results_dir))\n",
    "# export_image_to_fits(psf, '%s/psf.fits' % (results_dir))"
   ]
  },
  {
   "cell_type": "code",
   "execution_count": 1,
   "metadata": {
    "scrolled": true
   },
   "outputs": [
    {
     "name": "stdout",
     "output_type": "stream",
     "text": [
      "import_image_from_fits: created >f8 image of shape (7, 1, 512, 512), size 0.014 (GB)\n",
      "import_image_from_fits: Max, min in ./examples/arl/./results/core/dirty.fits = 557.061248, -233.749146\n",
      "import_image_from_fits: created >f8 image of shape (7, 1, 512, 512), size 0.014 (GB)\n",
      "import_image_from_fits: Max, min in ./examples/arl/./results/core/psf.fits = 0.999930, -0.225244\n",
      "deconvolve_cube: Multi-scale multi-frequency clean of each polarisation separately\n",
      "calculate_image_frequency_moments: Reference frequency = 100000000.000 (MHz)\n",
      "calculate_image_frequency_moments: Reference frequency = 100000000.000 (MHz)\n",
      "time1: 0.1428s\n",
      "shape: 1\n",
      "deconvolve_cube: Processing pol 0\n",
      "msmfsclean: Peak of PSF = 5.9995701184 at (0, 256, 256)\n",
      "msmfsclean: Peak of Dirty = 2721.39021015 at (0, 310, 300)\n",
      "msmfsclean: Moment-moment coupling matrix[scale 0] =\n",
      " [[  1.00000000e+00  -3.33332772e-02   1.40740719e-02]\n",
      " [ -3.33332772e-02   1.40740719e-02  -1.33333270e-03]\n",
      " [  1.40740719e-02  -1.33333270e-03   3.78600770e-04]]\n",
      "msmfsclean: Moment-moment coupling matrix[scale 1] =\n",
      " [[  8.62632331e-01  -3.32420555e-02   1.24604210e-02]\n",
      " [ -3.32420555e-02   1.24604210e-02  -1.26829719e-03]\n",
      " [  1.24604210e-02  -1.26829719e-03   3.41540593e-04]]\n",
      "msmfsclean: Moment-moment coupling matrix[scale 2] =\n",
      " [[  1.92009408e-01  -1.68229957e-02   3.63665048e-03]\n",
      " [ -1.68229957e-02   3.63665048e-03  -5.53552523e-04]\n",
      " [  3.63665048e-03  -5.53552523e-04   1.15076325e-04]]\n",
      "msmfsclean: Moment-moment coupling matrix[scale 3] =\n",
      " [[  2.08683950e-02  -2.22736506e-03   4.51005551e-04]\n",
      " [ -2.22736506e-03   4.51005551e-04  -7.45346832e-05]\n",
      " [  4.51005551e-04  -7.45346832e-05   1.50232953e-05]]\n",
      "msmfsclean: Max abs in dirty Image = 453.597534\n",
      "msmfsclean: Start of minor cycle\n",
      "msmfsclean: This minor cycle will stop at 1000 iterations or peak < 0.453597533897\n",
      "msmfsclean: Minor cycle 0, peak [  443.62162568  -806.78701815 -1201.99379065] at [310, 300, 0]\n",
      "msmfsclean: Minor cycle 100, peak [  51.45940352  -52.16505754  117.79404706] at [191, 29, 0]\n",
      "msmfsclean: Minor cycle 200, peak [  -44.39280884    91.85897218  1596.68188606] at [490, 19, 0]\n",
      "msmfsclean: Minor cycle 300, peak [  33.12190087  -35.59586859 -934.07662088] at [194, 1, 0]\n",
      "msmfsclean: Minor cycle 400, peak [ -25.32952628   24.81694352  261.1257813 ] at [256, 224, 0]\n",
      "msmfsclean: Minor cycle 500, peak [   28.78473719  -108.81609393 -1077.2542819 ] at [204, 181, 0]\n",
      "msmfsclean: Minor cycle 600, peak [ -25.97683475  -73.27446641  432.68764722] at [213, 372, 0]\n",
      "msmfsclean: Minor cycle 700, peak [  16.64614756    1.40805456  629.90396052] at [270, 322, 0]\n",
      "msmfsclean: Minor cycle 800, peak [ 18.04094889 -95.56408162  61.51624719] at [489, 33, 0]\n",
      "msmfsclean: Minor cycle 900, peak [  21.43206356  -56.61302459 -394.31859047] at [72, 222, 0]\n",
      "clean time: 147.6698s\n",
      "msmfsclean: End of minor cycles\n",
      "msmfsclean: Scale counts [900  75  25   0]\n",
      "msmfsclean: Scale flux [ 5483.67589959  6039.74795945  3820.16980542     0.        ]\n",
      "time2: 157.4397s\n",
      "Deconvolve_cube: calculating spectral cubes\n",
      "calculate_image_from_frequency_moments: Reference frequency = 100000000.000 (MHz)\n",
      "calculate_image_from_frequency_moments: Reference frequency = 100000000.000 (MHz)\n",
      "time3: 0.1637s\n",
      "deconvolve_cube time: 157.7508s\n",
      "restore_cube: psfwidth = Parameter('y_stddev', value=1.50639054323103)\n",
      "restore_cube time: 3.2686s\n"
     ]
    }
   ],
   "source": [
    "# import os\n",
    "# import sys\n",
    "# import multiprocessing\n",
    "\n",
    "# sys.path.append(os.path.join('..', '..'))\n",
    "\n",
    "\n",
    "\n",
    "# from matplotlib import pylab\n",
    "\n",
    "# pylab.rcParams['figure.figsize'] = (10.0, 10.0)\n",
    "# pylab.rcParams['image.cmap'] = 'rainbow'\n",
    "\n",
    "# import numpy\n",
    "\n",
    "# from astropy.coordinates import SkyCoord\n",
    "# from astropy import units as u\n",
    "# from astropy import constants as const\n",
    "# from astropy.wcs.utils import pixel_to_skycoord\n",
    "\n",
    "# from arl.data.polarisation import PolarisationFrame\n",
    "# from arl.visibility.base import create_visibility\n",
    "# from arl.skycomponent.operations import create_skycomponent\n",
    "# from arl.image.operations import show_image, import_image_from_fits, export_image_to_fits, \\\n",
    "#     smooth_image, calculate_image_frequency_moments, calculate_image_from_frequency_moments\n",
    "# from arl.image.deconvolution import deconvolve_cube, restore_cube\n",
    "# from arl.image.iterators import  image_raster_iter\n",
    "# from arl.image.solvers import solve_image\n",
    "# from arl.visibility.iterators import vis_timeslice_iter\n",
    "# from arl.util.testing_support import create_named_configuration, \\\n",
    "#     create_low_test_image_from_gleam, create_low_test_beam\n",
    "# from arl.imaging import *\n",
    "# from arl.imaging.weighting import weight_visibility\n",
    "\n",
    "# import logging\n",
    "# import time\n",
    "# import pickle\n",
    "\n",
    "# log = logging.getLogger()\n",
    "# log.setLevel(logging.DEBUG)\n",
    "# log.addHandler(logging.StreamHandler(sys.stdout))\n",
    "\n",
    "# case = 'core'   # core or full\n",
    "# results_dir = os.path.join('./results', case)\n",
    "# data_dir = os.path.join('./examples/arl', results_dir)\n",
    "# os.makedirs(results_dir, exist_ok=True)\n",
    "\n",
    "\n",
    "\n",
    "# dirty = import_image_from_fits('%s/dirty.fits' % (data_dir))\n",
    "# psf = import_image_from_fits('%s/psf.fits' % (data_dir))\n",
    "\n",
    "start = time.time()\n",
    "comp, residual = deconvolve_cube(dirty, psf, niter=1000, gain=0.7, algorithm='msmfsclean',\n",
    "                scales=[0, 3, 10, 30], threshold=0.01, fractional_threshold=0.001, nmoments=3)\n",
    "\n",
    "\n",
    "stop = time.time()\n",
    "elapsed = stop - start\n",
    "print('deconvolve_cube time: %.4fs' % elapsed)\n",
    "\n",
    "start = time.time()\n",
    "clean = restore_cube(model=comp, psf=psf, residual=residual)\n",
    "export_image_to_fits(clean, '%s/mfs_clean.fits' % (results_dir))\n",
    "stop = time.time()\n",
    "elapsed = stop - start\n",
    "print('restore_cube time: %.4fs' % elapsed)"
   ]
  },
  {
   "cell_type": "code",
   "execution_count": null,
   "metadata": {
    "collapsed": true
   },
   "outputs": [],
   "source": []
  }
 ],
 "metadata": {
  "kernelspec": {
   "display_name": "Python 3",
   "language": "python",
   "name": "python3"
  },
  "language_info": {
   "codemirror_mode": {
    "name": "ipython",
    "version": 3
   },
   "file_extension": ".py",
   "mimetype": "text/x-python",
   "name": "python",
   "nbconvert_exporter": "python",
   "pygments_lexer": "ipython3",
   "version": "3.6.1"
  }
 },
 "nbformat": 4,
 "nbformat_minor": 2
}
