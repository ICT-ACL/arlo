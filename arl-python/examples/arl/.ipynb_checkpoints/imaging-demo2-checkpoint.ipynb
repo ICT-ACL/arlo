{
 "cells": [
  {
   "cell_type": "code",
   "execution_count": 1,
   "metadata": {},
   "outputs": [
    {
     "data": {
      "text/html": [
       "<script>requirejs.config({paths: { 'plotly': ['https://cdn.plot.ly/plotly-latest.min']},});if(!window.Plotly) {{require(['plotly'],function(plotly) {window.Plotly=plotly;});}}</script>"
      ],
      "text/vnd.plotly.v1+html": [
       "<script>requirejs.config({paths: { 'plotly': ['https://cdn.plot.ly/plotly-latest.min']},});if(!window.Plotly) {{require(['plotly'],function(plotly) {window.Plotly=plotly;});}}</script>"
      ]
     },
     "metadata": {},
     "output_type": "display_data"
    }
   ],
   "source": [
    "import os\n",
    "import sys\n",
    "import multiprocessing\n",
    "\n",
    "sys.path.append(os.path.join('..', '..'))\n",
    "\n",
    "from matplotlib import pylab\n",
    "\n",
    "pylab.rcParams['figure.figsize'] = (10.0, 10.0)\n",
    "pylab.rcParams['image.cmap'] = 'rainbow'\n",
    "\n",
    "import numpy as np\n",
    "import pandas as pd\n",
    "import logging\n",
    "import time\n",
    "import pickle\n",
    "\n",
    "from astropy.coordinates import SkyCoord\n",
    "from astropy import units as u\n",
    "from astropy import constants as const\n",
    "from astropy.wcs.utils import pixel_to_skycoord\n",
    "\n",
    "from arl.data.polarisation import PolarisationFrame\n",
    "from arl.visibility.base import create_visibility\n",
    "from arl.skycomponent.operations import create_skycomponent\n",
    "from arl.image.operations import show_image, import_image_from_fits, export_image_to_fits, \\\n",
    "    smooth_image, calculate_image_frequency_moments, calculate_image_from_frequency_moments\n",
    "from arl.image.deconvolution import deconvolve_cube, restore_cube\n",
    "from arl.image.iterators import  image_raster_iter\n",
    "from arl.image.solvers import solve_image\n",
    "from arl.visibility.iterators import vis_timeslice_iter\n",
    "# from arl.util.testing_support import create_named_configuration, \\\n",
    "#     create_low_test_image_from_gleam, create_low_test_beam\n",
    "from arl.imaging import *\n",
    "from arl.imaging.weighting import weight_visibility\n",
    "\n",
    "from IPython.display import display, HTML\n",
    "import plotly.offline as py\n",
    "\n",
    "from help.array import add_arr_sum\n",
    "from help.plot import plot_table_bar, show\n",
    "\n",
    "log = logging.getLogger()\n",
    "log.setLevel(logging.DEBUG)\n",
    "log.addHandler(logging.StreamHandler(sys.stdout))\n",
    "\n",
    "py.init_notebook_mode(connected=True)"
   ]
  },
  {
   "cell_type": "code",
   "execution_count": 2,
   "metadata": {},
   "outputs": [],
   "source": [
    "# construct low configuration\n",
    "results_dir = './results'\n",
    "data_dir = os.path.join('./examples/arl', results_dir)  # for import/export\n",
    "os.makedirs(results_dir, exist_ok=True)\n",
    "\n",
    "# low = create_named_configuration('LOWBD2-CORE')\n",
    "cellsize = 0.001\n",
    "npixel=512\n",
    "padding = 2\n",
    "oversampling = 2\n",
    "nchan = 2\n",
    "times = np.linspace(-3, +3, 3) * np.pi / 12.0\n",
    "frequency = np.linspace(0.8e8, 1.2e8, nchan)\n",
    "ntimes, nfreq = len(times), len(frequency)\n",
    "centre_frequency = np.array([np.average(frequency)])\n",
    "channel_bandwidth=np.array(nchan * [frequency[1]-frequency[0]])\n",
    "total_bandwidth = np.array([np.sum(channel_bandwidth)])\n",
    "polarisation_frame = PolarisationFrame('stokesI')"
   ]
  },
  {
   "cell_type": "code",
   "execution_count": 3,
   "metadata": {},
   "outputs": [],
   "source": [
    "# create visibility\n",
    "vt = pickle.load(open('%s/visibility2.vis' % results_dir, 'rb'))"
   ]
  },
  {
   "cell_type": "code",
   "execution_count": 4,
   "metadata": {},
   "outputs": [
    {
     "name": "stdout",
     "output_type": "stream",
     "text": [
      "import_image_from_fits: created >f8 image of shape (1, 1, 512, 512), size 0.002 (GB)\n",
      "import_image_from_fits: Max, min in ./examples/arl/./results/model_centrechannel2.fits = 40.971054, -0.127373\n"
     ]
    }
   ],
   "source": [
    "# make a test image\n",
    "model = import_image_from_fits('%s/model_centrechannel2.fits' % data_dir)"
   ]
  },
  {
   "cell_type": "code",
   "execution_count": 5,
   "metadata": {},
   "outputs": [],
   "source": [
    "# predict\n",
    "def test_predict(predict, vt, model):\n",
    "    vt.data['vis'] *= 0.0\n",
    "\n",
    "    time_pred0 = -time.time()\n",
    "    vt0 = predict(vt, model, nprocessor=1, timeslice='auto', vis_slices=1,\n",
    "        oversampling=oversampling, facets=2, wstep=50, polarisation_frame=polarisation_frame)\n",
    "    time_pred0 += time.time()\n",
    "\n",
    "    time_pred1 = -time.time()\n",
    "    vt1 = predict(vt, model, nprocessor=1, timeslice='auto', vis_slices=1,\n",
    "        oversampling=oversampling, facets=2, wstep=50, polarisation_frame=polarisation_frame, opt=True)\n",
    "    time_pred1 += time.time()\n",
    "\n",
    "    vt = vt0\n",
    "    \n",
    "    display(HTML('<h4>Original  predict time: {:.2f}s'.format(time_pred0)))\n",
    "    display(HTML('<h4>Optimized predict time: {:.2f}s'.format(time_pred1)))\n",
    "    \n",
    "    return vt, time_pred0, time_pred1"
   ]
  },
  {
   "cell_type": "code",
   "execution_count": 6,
   "metadata": {},
   "outputs": [],
   "source": [
    "# invert\n",
    "def test_invert(invert, vt, model):\n",
    "    time_inv0 = -time.time()\n",
    "    dirty0, sumwt0 = invert(vt, model, padding=1, nprocessor=1, timeslice='auto', vis_slices=1,\n",
    "        oversampling=oversampling, facets=2, wstep=50, polarisation_frame=polarisation_frame)\n",
    "    psf0, sumwt0 = invert(vt, model, dopsf=True, padding=1, nprocessor=1, \n",
    "        timeslice='auto', vis_slices=1, oversampling=oversampling, facets=2, wstep=50, \n",
    "        polarisation_frame=polarisation_frame)\n",
    "    time_inv0 += time.time()\n",
    "\n",
    "    time_inv1 = -time.time()\n",
    "    dirty1, sumwt1 = invert(vt, model, padding=1, nprocessor=1, timeslice='auto', vis_slices=1,\n",
    "        oversampling=oversampling, facets=2, wstep=50, polarisation_frame=polarisation_frame, opt=True)\n",
    "    psf1, sumwt1 = invert(vt, model, dopsf=True, padding=1, nprocessor=1, \n",
    "        timeslice='auto', vis_slices=1, oversampling=oversampling, facets=2, wstep=50, \n",
    "        polarisation_frame=polarisation_frame, opt=True)\n",
    "    time_inv1 += time.time()\n",
    "\n",
    "    dirty, psf, sumwt = dirty0, psf0, sumwt0\n",
    "    \n",
    "    display(HTML('<h4>Original  invert time: {:.2f}s'.format(time_inv0)))\n",
    "    display(HTML('<h4>Optimized invert time: {:.2f}s'.format(time_inv1)))\n",
    "    \n",
    "    return dirty, psf, sumwt, time_inv0, time_inv1"
   ]
  },
  {
   "cell_type": "code",
   "execution_count": 7,
   "metadata": {},
   "outputs": [
    {
     "name": "stdout",
     "output_type": "stream",
     "text": [
      "predict_2d: predict using 2d transform\n",
      "Using original algorithm\n",
      "shift_vis_from_image: shifting phasecentre from image phase centre <SkyCoord (ICRS): (ra, dec) in deg\n",
      "    (15., -35.)> to visibility phasecentre <SkyCoord (ICRS): (ra, dec) in deg\n",
      "    (15., -45.)>\n",
      "predict_2d: predict using 2d transform\n",
      "Using optimized algorithm\n",
      "shift_vis_from_image: shifting phasecentre from image phase centre <SkyCoord (ICRS): (ra, dec) in deg\n",
      "    (15., -35.)> to visibility phasecentre <SkyCoord (ICRS): (ra, dec) in deg\n",
      "    (15., -45.)>\n"
     ]
    },
    {
     "data": {
      "text/html": [
       "<h4>Original  predict time: 2.73s"
      ],
      "text/plain": [
       "<IPython.core.display.HTML object>"
      ]
     },
     "metadata": {},
     "output_type": "display_data"
    },
    {
     "data": {
      "text/html": [
       "<h4>Optimized predict time: 0.52s"
      ],
      "text/plain": [
       "<IPython.core.display.HTML object>"
      ]
     },
     "metadata": {},
     "output_type": "display_data"
    },
    {
     "name": "stdout",
     "output_type": "stream",
     "text": [
      "invert_2d: inverting using 2d transform\n",
      "Using original algorithm\n",
      "invert_2d: inverting using 2d transform\n",
      "Using original algorithm\n",
      "invert_2d: inverting using 2d transform\n",
      "Using optimized algorithm\n",
      "invert_2d: inverting using 2d transform\n",
      "Using optimized algorithm\n"
     ]
    },
    {
     "data": {
      "text/html": [
       "<h4>Original  invert time: 3.76s"
      ],
      "text/plain": [
       "<IPython.core.display.HTML object>"
      ]
     },
     "metadata": {},
     "output_type": "display_data"
    },
    {
     "data": {
      "text/html": [
       "<h4>Optimized invert time: 0.24s"
      ],
      "text/plain": [
       "<IPython.core.display.HTML object>"
      ]
     },
     "metadata": {},
     "output_type": "display_data"
    },
    {
     "name": "stdout",
     "output_type": "stream",
     "text": [
      "predict_wstack: predicting using wstack\n",
      "predict_with_vis_iterator: Processing chunks\n",
      "predict_wstack_single: predicting using single w slice\n",
      "create_w_term_image: For w = -39.3, field of view = 0.512000, Fresnel number = 2.58\n",
      "Using original algorithm\n",
      "Using original algorithm\n",
      "predict_wstack: predicting using wstack\n",
      "predict_with_vis_iterator: Processing chunks\n",
      "predict_wstack_single: predicting using single w slice\n",
      "create_w_term_image: For w = -39.3, field of view = 0.512000, Fresnel number = 2.58\n",
      "Using optimized algorithm\n",
      "Using optimized algorithm\n"
     ]
    },
    {
     "data": {
      "text/html": [
       "<h4>Original  predict time: 2.69s"
      ],
      "text/plain": [
       "<IPython.core.display.HTML object>"
      ]
     },
     "metadata": {},
     "output_type": "display_data"
    },
    {
     "data": {
      "text/html": [
       "<h4>Optimized predict time: 0.53s"
      ],
      "text/plain": [
       "<IPython.core.display.HTML object>"
      ]
     },
     "metadata": {},
     "output_type": "display_data"
    },
    {
     "name": "stdout",
     "output_type": "stream",
     "text": [
      "invert_wstack: inverting using wstack\n",
      "invert_wstack_single: predicting using single w slice\n",
      "Using original algorithm\n",
      "invert_2d_base: retaining imaginary part of dirty image\n",
      "create_w_term_image: For w = -39.3, field of view = 0.512000, Fresnel number = 2.58\n",
      "invert_wstack: inverting using wstack\n",
      "invert_wstack_single: predicting using single w slice\n",
      "Using original algorithm\n",
      "invert_2d_base: retaining imaginary part of dirty image\n",
      "create_w_term_image: For w = -39.3, field of view = 0.512000, Fresnel number = 2.58\n",
      "invert_wstack: inverting using wstack\n",
      "invert_wstack_single: predicting using single w slice\n",
      "Using optimized algorithm\n",
      "invert_2d_base: retaining imaginary part of dirty image\n",
      "create_w_term_image: For w = -39.3, field of view = 0.512000, Fresnel number = 2.58\n",
      "invert_wstack: inverting using wstack\n",
      "invert_wstack_single: predicting using single w slice\n",
      "Using optimized algorithm\n",
      "invert_2d_base: retaining imaginary part of dirty image\n",
      "create_w_term_image: For w = -39.3, field of view = 0.512000, Fresnel number = 2.58\n"
     ]
    },
    {
     "data": {
      "text/html": [
       "<h4>Original  invert time: 2.07s"
      ],
      "text/plain": [
       "<IPython.core.display.HTML object>"
      ]
     },
     "metadata": {},
     "output_type": "display_data"
    },
    {
     "data": {
      "text/html": [
       "<h4>Optimized invert time: 0.40s"
      ],
      "text/plain": [
       "<IPython.core.display.HTML object>"
      ]
     },
     "metadata": {},
     "output_type": "display_data"
    },
    {
     "name": "stdout",
     "output_type": "stream",
     "text": [
      "predict_timeslice: predicting using time slices\n",
      "predict_with_vis_iterator: Processing chunks\n",
      "predict_timeslice_single: predicting using single time slice\n",
      "fit_uvwplane: Fit to 54780 rows reduces rms w from 47.5 to 35.5 m\n",
      "Using original algorithm\n",
      "predict_timeslice: predicting using time slices\n",
      "predict_with_vis_iterator: Processing chunks\n",
      "predict_timeslice_single: predicting using single time slice\n",
      "fit_uvwplane: Fit to 54780 rows reduces rms w from 47.5 to 35.5 m\n",
      "Using optimized algorithm\n"
     ]
    },
    {
     "data": {
      "text/html": [
       "<h4>Original  predict time: 18.54s"
      ],
      "text/plain": [
       "<IPython.core.display.HTML object>"
      ]
     },
     "metadata": {},
     "output_type": "display_data"
    },
    {
     "data": {
      "text/html": [
       "<h4>Optimized predict time: 16.91s"
      ],
      "text/plain": [
       "<IPython.core.display.HTML object>"
      ]
     },
     "metadata": {},
     "output_type": "display_data"
    },
    {
     "name": "stdout",
     "output_type": "stream",
     "text": [
      "invert_timeslice: inverting using time slices\n",
      "invert_timeslice_single: inverting using single time slice\n",
      "fit_uvwplane: Fit to 54780 rows reduces rms w from 47.5 to 35.5 m\n",
      "Using original algorithm\n",
      "invert_timeslice: inverting using time slices\n",
      "invert_timeslice_single: inverting using single time slice\n",
      "fit_uvwplane: Fit to 54780 rows reduces rms w from 47.5 to 35.5 m\n",
      "Using original algorithm\n",
      "invert_timeslice: inverting using time slices\n",
      "invert_timeslice_single: inverting using single time slice\n",
      "fit_uvwplane: Fit to 54780 rows reduces rms w from 47.5 to 35.5 m\n",
      "Using optimized algorithm\n",
      "invert_timeslice: inverting using time slices\n",
      "invert_timeslice_single: inverting using single time slice\n",
      "fit_uvwplane: Fit to 54780 rows reduces rms w from 47.5 to 35.5 m\n",
      "Using optimized algorithm\n"
     ]
    },
    {
     "data": {
      "text/html": [
       "<h4>Original  invert time: 26.87s"
      ],
      "text/plain": [
       "<IPython.core.display.HTML object>"
      ]
     },
     "metadata": {},
     "output_type": "display_data"
    },
    {
     "data": {
      "text/html": [
       "<h4>Optimized invert time: 25.16s"
      ],
      "text/plain": [
       "<IPython.core.display.HTML object>"
      ]
     },
     "metadata": {},
     "output_type": "display_data"
    },
    {
     "name": "stdout",
     "output_type": "stream",
     "text": [
      "predict_facets: Predicting by image facets\n",
      "predict_with_image_iterator: Predicting by image partitions\n",
      "raster: predicting using 2 x 2 image partitions\n",
      "raster: spacing of raster (256, 256)\n",
      "raster: partition (0, 0) of (2, 2)\n",
      "Using original algorithm\n",
      "shift_vis_from_image: shifting phasecentre from image phase centre <SkyCoord (ICRS): (ra, dec) in deg\n",
      "    (24.91597536, -41.98624265)> to visibility phasecentre <SkyCoord (ICRS): (ra, dec) in deg\n",
      "    (15., -35.)>\n",
      "raster: partition (1, 0) of (2, 2)\n",
      "Using original algorithm\n",
      "shift_vis_from_image: shifting phasecentre from image phase centre <SkyCoord (ICRS): (ra, dec) in deg\n",
      "    (5.08402464, -41.98624265)> to visibility phasecentre <SkyCoord (ICRS): (ra, dec) in deg\n",
      "    (15., -35.)>\n",
      "raster: partition (0, 1) of (2, 2)\n",
      "Using original algorithm\n",
      "shift_vis_from_image: shifting phasecentre from image phase centre <SkyCoord (ICRS): (ra, dec) in deg\n",
      "    (23.2848329, -27.33867206)> to visibility phasecentre <SkyCoord (ICRS): (ra, dec) in deg\n",
      "    (15., -35.)>\n",
      "raster: partition (1, 1) of (2, 2)\n",
      "Using original algorithm\n",
      "shift_vis_from_image: shifting phasecentre from image phase centre <SkyCoord (ICRS): (ra, dec) in deg\n",
      "    (6.7151671, -27.33867206)> to visibility phasecentre <SkyCoord (ICRS): (ra, dec) in deg\n",
      "    (15., -35.)>\n",
      "predict_facets: Predicting by image facets\n",
      "predict_with_image_iterator: Predicting by image partitions\n",
      "raster: predicting using 2 x 2 image partitions\n",
      "raster: spacing of raster (256, 256)\n",
      "raster: partition (0, 0) of (2, 2)\n",
      "Using optimized algorithm\n",
      "shift_vis_from_image: shifting phasecentre from image phase centre <SkyCoord (ICRS): (ra, dec) in deg\n",
      "    (24.91597536, -41.98624265)> to visibility phasecentre <SkyCoord (ICRS): (ra, dec) in deg\n",
      "    (15., -35.)>\n",
      "raster: partition (1, 0) of (2, 2)\n",
      "Using optimized algorithm\n",
      "shift_vis_from_image: shifting phasecentre from image phase centre <SkyCoord (ICRS): (ra, dec) in deg\n",
      "    (5.08402464, -41.98624265)> to visibility phasecentre <SkyCoord (ICRS): (ra, dec) in deg\n",
      "    (15., -35.)>\n",
      "raster: partition (0, 1) of (2, 2)\n",
      "Using optimized algorithm\n",
      "shift_vis_from_image: shifting phasecentre from image phase centre <SkyCoord (ICRS): (ra, dec) in deg\n",
      "    (23.2848329, -27.33867206)> to visibility phasecentre <SkyCoord (ICRS): (ra, dec) in deg\n",
      "    (15., -35.)>\n",
      "raster: partition (1, 1) of (2, 2)\n",
      "Using optimized algorithm\n",
      "shift_vis_from_image: shifting phasecentre from image phase centre <SkyCoord (ICRS): (ra, dec) in deg\n",
      "    (6.7151671, -27.33867206)> to visibility phasecentre <SkyCoord (ICRS): (ra, dec) in deg\n",
      "    (15., -35.)>\n"
     ]
    },
    {
     "data": {
      "text/html": [
       "<h4>Original  predict time: 10.27s"
      ],
      "text/plain": [
       "<IPython.core.display.HTML object>"
      ]
     },
     "metadata": {},
     "output_type": "display_data"
    },
    {
     "data": {
      "text/html": [
       "<h4>Optimized predict time: 1.72s"
      ],
      "text/plain": [
       "<IPython.core.display.HTML object>"
      ]
     },
     "metadata": {},
     "output_type": "display_data"
    },
    {
     "name": "stdout",
     "output_type": "stream",
     "text": [
      "invert_facets: Inverting by image facets\n",
      "invert_with_image_iterator: Inverting by image partitions\n",
      "raster: predicting using 2 x 2 image partitions\n",
      "raster: spacing of raster (256, 256)\n",
      "raster: partition (0, 0) of (2, 2)\n",
      "Using original algorithm\n",
      "shift_vis_from_image: shifting phasecentre from vis phasecentre <SkyCoord (ICRS): (ra, dec) in deg\n",
      "    (15., -35.)> to image phasecentre <SkyCoord (ICRS): (ra, dec) in deg\n",
      "    (24.91597536, -41.98624265)>\n",
      "raster: partition (1, 0) of (2, 2)\n",
      "Using original algorithm\n",
      "shift_vis_from_image: shifting phasecentre from vis phasecentre <SkyCoord (ICRS): (ra, dec) in deg\n",
      "    (15., -35.)> to image phasecentre <SkyCoord (ICRS): (ra, dec) in deg\n",
      "    (5.08402464, -41.98624265)>\n",
      "raster: partition (0, 1) of (2, 2)\n",
      "Using original algorithm\n",
      "shift_vis_from_image: shifting phasecentre from vis phasecentre <SkyCoord (ICRS): (ra, dec) in deg\n",
      "    (15., -35.)> to image phasecentre <SkyCoord (ICRS): (ra, dec) in deg\n",
      "    (23.2848329, -27.33867206)>\n",
      "raster: partition (1, 1) of (2, 2)\n",
      "Using original algorithm\n",
      "shift_vis_from_image: shifting phasecentre from vis phasecentre <SkyCoord (ICRS): (ra, dec) in deg\n",
      "    (15., -35.)> to image phasecentre <SkyCoord (ICRS): (ra, dec) in deg\n",
      "    (6.7151671, -27.33867206)>\n",
      "invert_facets: Inverting by image facets\n",
      "invert_with_image_iterator: Inverting by image partitions\n",
      "raster: predicting using 2 x 2 image partitions\n",
      "raster: spacing of raster (256, 256)\n",
      "raster: partition (0, 0) of (2, 2)\n",
      "Using original algorithm\n",
      "shift_vis_from_image: shifting phasecentre from vis phasecentre <SkyCoord (ICRS): (ra, dec) in deg\n",
      "    (15., -35.)> to image phasecentre <SkyCoord (ICRS): (ra, dec) in deg\n",
      "    (24.91597536, -41.98624265)>\n",
      "raster: partition (1, 0) of (2, 2)\n",
      "Using original algorithm\n",
      "shift_vis_from_image: shifting phasecentre from vis phasecentre <SkyCoord (ICRS): (ra, dec) in deg\n",
      "    (15., -35.)> to image phasecentre <SkyCoord (ICRS): (ra, dec) in deg\n",
      "    (5.08402464, -41.98624265)>\n",
      "raster: partition (0, 1) of (2, 2)\n",
      "Using original algorithm\n",
      "shift_vis_from_image: shifting phasecentre from vis phasecentre <SkyCoord (ICRS): (ra, dec) in deg\n",
      "    (15., -35.)> to image phasecentre <SkyCoord (ICRS): (ra, dec) in deg\n",
      "    (23.2848329, -27.33867206)>\n",
      "raster: partition (1, 1) of (2, 2)\n",
      "Using original algorithm\n",
      "shift_vis_from_image: shifting phasecentre from vis phasecentre <SkyCoord (ICRS): (ra, dec) in deg\n",
      "    (15., -35.)> to image phasecentre <SkyCoord (ICRS): (ra, dec) in deg\n",
      "    (6.7151671, -27.33867206)>\n",
      "invert_facets: Inverting by image facets\n",
      "invert_with_image_iterator: Inverting by image partitions\n",
      "raster: predicting using 2 x 2 image partitions\n",
      "raster: spacing of raster (256, 256)\n",
      "raster: partition (0, 0) of (2, 2)\n",
      "Using optimized algorithm\n",
      "shift_vis_from_image: shifting phasecentre from vis phasecentre <SkyCoord (ICRS): (ra, dec) in deg\n",
      "    (15., -35.)> to image phasecentre <SkyCoord (ICRS): (ra, dec) in deg\n",
      "    (24.91597536, -41.98624265)>\n",
      "raster: partition (1, 0) of (2, 2)\n",
      "Using optimized algorithm\n",
      "shift_vis_from_image: shifting phasecentre from vis phasecentre <SkyCoord (ICRS): (ra, dec) in deg\n",
      "    (15., -35.)> to image phasecentre <SkyCoord (ICRS): (ra, dec) in deg\n",
      "    (5.08402464, -41.98624265)>\n",
      "raster: partition (0, 1) of (2, 2)\n",
      "Using optimized algorithm\n",
      "shift_vis_from_image: shifting phasecentre from vis phasecentre <SkyCoord (ICRS): (ra, dec) in deg\n",
      "    (15., -35.)> to image phasecentre <SkyCoord (ICRS): (ra, dec) in deg\n",
      "    (23.2848329, -27.33867206)>\n",
      "raster: partition (1, 1) of (2, 2)\n",
      "Using optimized algorithm\n",
      "shift_vis_from_image: shifting phasecentre from vis phasecentre <SkyCoord (ICRS): (ra, dec) in deg\n",
      "    (15., -35.)> to image phasecentre <SkyCoord (ICRS): (ra, dec) in deg\n",
      "    (6.7151671, -27.33867206)>\n",
      "invert_facets: Inverting by image facets\n",
      "invert_with_image_iterator: Inverting by image partitions\n",
      "raster: predicting using 2 x 2 image partitions\n",
      "raster: spacing of raster (256, 256)\n",
      "raster: partition (0, 0) of (2, 2)\n",
      "Using optimized algorithm\n",
      "shift_vis_from_image: shifting phasecentre from vis phasecentre <SkyCoord (ICRS): (ra, dec) in deg\n",
      "    (15., -35.)> to image phasecentre <SkyCoord (ICRS): (ra, dec) in deg\n",
      "    (24.91597536, -41.98624265)>\n",
      "raster: partition (1, 0) of (2, 2)\n",
      "Using optimized algorithm\n",
      "shift_vis_from_image: shifting phasecentre from vis phasecentre <SkyCoord (ICRS): (ra, dec) in deg\n",
      "    (15., -35.)> to image phasecentre <SkyCoord (ICRS): (ra, dec) in deg\n",
      "    (5.08402464, -41.98624265)>\n",
      "raster: partition (0, 1) of (2, 2)\n",
      "Using optimized algorithm\n",
      "shift_vis_from_image: shifting phasecentre from vis phasecentre <SkyCoord (ICRS): (ra, dec) in deg\n",
      "    (15., -35.)> to image phasecentre <SkyCoord (ICRS): (ra, dec) in deg\n",
      "    (23.2848329, -27.33867206)>\n",
      "raster: partition (1, 1) of (2, 2)\n",
      "Using optimized algorithm\n",
      "shift_vis_from_image: shifting phasecentre from vis phasecentre <SkyCoord (ICRS): (ra, dec) in deg\n",
      "    (15., -35.)> to image phasecentre <SkyCoord (ICRS): (ra, dec) in deg\n",
      "    (6.7151671, -27.33867206)>\n"
     ]
    },
    {
     "data": {
      "text/html": [
       "<h4>Original  invert time: 21.44s"
      ],
      "text/plain": [
       "<IPython.core.display.HTML object>"
      ]
     },
     "metadata": {},
     "output_type": "display_data"
    },
    {
     "data": {
      "text/html": [
       "<h4>Optimized invert time: 7.31s"
      ],
      "text/plain": [
       "<IPython.core.display.HTML object>"
      ]
     },
     "metadata": {},
     "output_type": "display_data"
    },
    {
     "name": "stdout",
     "output_type": "stream",
     "text": [
      "predict_wprojection: predict using wprojection\n",
      "Using original algorithm\n",
      "get_kernel_list: Using wprojection kernel\n",
      "get_kernel_list: Fresnel number = 65.536000\n",
      "advise_wide_field: Maximum wavelength 3.747 (meters)\n",
      "advise_wide_field: Minimum wavelength 2.498 (meters)\n",
      "advise_wide_field: Maximum baseline 315.2 (wavelengths)\n",
      "advise_wide_field: Station/antenna diameter 35.0 (meters)\n",
      "advise_wide_field: Primary beam 0.107069 (rad) 6.135 (deg)\n",
      "advise_wide_field: Image field of view 0.642412 (rad) 36.808 (deg)\n",
      "advise_wide_field: Synthesized beam 0.003173 (rad) 0.182 (deg)\n",
      "advise_wide_field: Cellsize 0.001058 (rad) 0.061 (deg)\n",
      "advice_wide_field: Npixels per side = 607\n",
      "advice_wide_field: Npixels (power of 2, 3) per side = 768\n",
      "advice_wide_field: W sampling for full image = 0.2 (wavelengths)\n",
      "advice_wide_field: W sampling for primary beam = 5.6 (wavelengths)\n",
      "advice_wide_field: Time sampling for full image = 13.5 (s)\n",
      "advice_wide_field: Time sampling for primary beam = 484.6 (s)\n",
      "advice_wide_field: Frequency sampling for full image = 18696.1 (Hz)\n",
      "advice_wide_field: Frequency sampling for primary beam = 673058.5 (Hz)\n",
      "advice_wide_field: Number of planes in w stack 56\n",
      "advice_wide_field: Number of planes in w projection 1\n",
      "advice_wide_field: Recommend 2d gridding\n",
      "get_kernel_list: Using w projection with wstep = 50.000000\n",
      "get_kernel_list: Maximum w kernel full width = 102 pixels\n",
      "w_kernel_list: Maximum absolute w = 203.6, step is 50.0 wavelengths\n",
      "==== 10 50 10\n",
      "create_w_term_image: For w = -203.6, field of view = 1.024000, Fresnel number = 53.37\n",
      "create_w_term_image: For w = -158.3, field of view = 1.024000, Fresnel number = 41.51\n",
      "create_w_term_image: For w = -113.1, field of view = 1.024000, Fresnel number = 29.65\n",
      "create_w_term_image: For w = -67.9, field of view = 1.024000, Fresnel number = 17.79\n",
      "create_w_term_image: For w = -22.6, field of view = 1.024000, Fresnel number = 5.93\n",
      "create_w_term_image: For w = 22.6, field of view = 1.024000, Fresnel number = 5.93\n",
      "create_w_term_image: For w = 67.9, field of view = 1.024000, Fresnel number = 17.79\n",
      "create_w_term_image: For w = 113.1, field of view = 1.024000, Fresnel number = 29.65\n",
      "create_w_term_image: For w = 158.3, field of view = 1.024000, Fresnel number = 41.51\n",
      "create_w_term_image: For w = 203.6, field of view = 1.024000, Fresnel number = 53.37\n",
      "predict_wprojection: predict using wprojection\n",
      "Using optimized algorithm\n",
      "get_kernel_list: Using wprojection kernel\n",
      "get_kernel_list: Fresnel number = 65.536000\n",
      "advise_wide_field: Maximum wavelength 3.747 (meters)\n",
      "advise_wide_field: Minimum wavelength 2.498 (meters)\n",
      "advise_wide_field: Maximum baseline 315.2 (wavelengths)\n",
      "advise_wide_field: Station/antenna diameter 35.0 (meters)\n",
      "advise_wide_field: Primary beam 0.107069 (rad) 6.135 (deg)\n",
      "advise_wide_field: Image field of view 0.642412 (rad) 36.808 (deg)\n",
      "advise_wide_field: Synthesized beam 0.003173 (rad) 0.182 (deg)\n",
      "advise_wide_field: Cellsize 0.001058 (rad) 0.061 (deg)\n",
      "advice_wide_field: Npixels per side = 607\n",
      "advice_wide_field: Npixels (power of 2, 3) per side = 768\n",
      "advice_wide_field: W sampling for full image = 0.2 (wavelengths)\n",
      "advice_wide_field: W sampling for primary beam = 5.6 (wavelengths)\n",
      "advice_wide_field: Time sampling for full image = 13.5 (s)\n",
      "advice_wide_field: Time sampling for primary beam = 484.6 (s)\n",
      "advice_wide_field: Frequency sampling for full image = 18696.1 (Hz)\n",
      "advice_wide_field: Frequency sampling for primary beam = 673058.5 (Hz)\n",
      "advice_wide_field: Number of planes in w stack 56\n",
      "advice_wide_field: Number of planes in w projection 1\n",
      "advice_wide_field: Recommend 2d gridding\n",
      "get_kernel_list: Using w projection with wstep = 50.000000\n",
      "get_kernel_list: Maximum w kernel full width = 102 pixels\n",
      "w_kernel_list: Maximum absolute w = 203.6, step is 50.0 wavelengths\n",
      "==== 10 50 10\n",
      "create_w_term_image: For w = -203.6, field of view = 1.024000, Fresnel number = 53.37\n",
      "create_w_term_image: For w = -158.3, field of view = 1.024000, Fresnel number = 41.51\n",
      "create_w_term_image: For w = -113.1, field of view = 1.024000, Fresnel number = 29.65\n",
      "create_w_term_image: For w = -67.9, field of view = 1.024000, Fresnel number = 17.79\n",
      "create_w_term_image: For w = -22.6, field of view = 1.024000, Fresnel number = 5.93\n",
      "create_w_term_image: For w = 22.6, field of view = 1.024000, Fresnel number = 5.93\n",
      "create_w_term_image: For w = 67.9, field of view = 1.024000, Fresnel number = 17.79\n",
      "create_w_term_image: For w = 113.1, field of view = 1.024000, Fresnel number = 29.65\n",
      "create_w_term_image: For w = 158.3, field of view = 1.024000, Fresnel number = 41.51\n",
      "create_w_term_image: For w = 203.6, field of view = 1.024000, Fresnel number = 53.37\n"
     ]
    },
    {
     "data": {
      "text/html": [
       "<h4>Original  predict time: 27.43s"
      ],
      "text/plain": [
       "<IPython.core.display.HTML object>"
      ]
     },
     "metadata": {},
     "output_type": "display_data"
    },
    {
     "data": {
      "text/html": [
       "<h4>Optimized predict time: 17.92s"
      ],
      "text/plain": [
       "<IPython.core.display.HTML object>"
      ]
     },
     "metadata": {},
     "output_type": "display_data"
    },
    {
     "name": "stdout",
     "output_type": "stream",
     "text": [
      "invert_2d: inverting using wprojection\n",
      "Using original algorithm\n",
      "get_kernel_list: Using wprojection kernel\n",
      "get_kernel_list: Fresnel number = 65.536000\n",
      "advise_wide_field: Maximum wavelength 3.747 (meters)\n",
      "advise_wide_field: Minimum wavelength 2.498 (meters)\n",
      "advise_wide_field: Maximum baseline 315.2 (wavelengths)\n",
      "advise_wide_field: Station/antenna diameter 35.0 (meters)\n",
      "advise_wide_field: Primary beam 0.107069 (rad) 6.135 (deg)\n",
      "advise_wide_field: Image field of view 0.642412 (rad) 36.808 (deg)\n",
      "advise_wide_field: Synthesized beam 0.003173 (rad) 0.182 (deg)\n",
      "advise_wide_field: Cellsize 0.001058 (rad) 0.061 (deg)\n",
      "advice_wide_field: Npixels per side = 607\n",
      "advice_wide_field: Npixels (power of 2, 3) per side = 768\n",
      "advice_wide_field: W sampling for full image = 0.2 (wavelengths)\n",
      "advice_wide_field: W sampling for primary beam = 5.6 (wavelengths)\n",
      "advice_wide_field: Time sampling for full image = 13.5 (s)\n",
      "advice_wide_field: Time sampling for primary beam = 484.6 (s)\n",
      "advice_wide_field: Frequency sampling for full image = 18696.1 (Hz)\n",
      "advice_wide_field: Frequency sampling for primary beam = 673058.5 (Hz)\n",
      "advice_wide_field: Number of planes in w stack 56\n",
      "advice_wide_field: Number of planes in w projection 1\n",
      "advice_wide_field: Recommend 2d gridding\n",
      "get_kernel_list: Using w projection with wstep = 50.000000\n",
      "get_kernel_list: Maximum w kernel full width = 52 pixels\n",
      "w_kernel_list: Maximum absolute w = 203.6, step is 50.0 wavelengths\n",
      "==== 10 50 10\n",
      "create_w_term_image: For w = -203.6, field of view = 0.512000, Fresnel number = 13.34\n",
      "create_w_term_image: For w = -158.3, field of view = 0.512000, Fresnel number = 10.38\n",
      "create_w_term_image: For w = -113.1, field of view = 0.512000, Fresnel number = 7.41\n",
      "create_w_term_image: For w = -67.9, field of view = 0.512000, Fresnel number = 4.45\n",
      "create_w_term_image: For w = -22.6, field of view = 0.512000, Fresnel number = 1.48\n",
      "create_w_term_image: For w = 22.6, field of view = 0.512000, Fresnel number = 1.48\n",
      "create_w_term_image: For w = 67.9, field of view = 0.512000, Fresnel number = 4.45\n",
      "create_w_term_image: For w = 113.1, field of view = 0.512000, Fresnel number = 7.41\n",
      "create_w_term_image: For w = 158.3, field of view = 0.512000, Fresnel number = 10.38\n",
      "create_w_term_image: For w = 203.6, field of view = 0.512000, Fresnel number = 13.34\n",
      "invert_2d: inverting using wprojection\n",
      "Using original algorithm\n",
      "get_kernel_list: Using wprojection kernel\n",
      "get_kernel_list: Fresnel number = 65.536000\n",
      "advise_wide_field: Maximum wavelength 3.747 (meters)\n",
      "advise_wide_field: Minimum wavelength 2.498 (meters)\n",
      "advise_wide_field: Maximum baseline 315.2 (wavelengths)\n",
      "advise_wide_field: Station/antenna diameter 35.0 (meters)\n",
      "advise_wide_field: Primary beam 0.107069 (rad) 6.135 (deg)\n",
      "advise_wide_field: Image field of view 0.642412 (rad) 36.808 (deg)\n",
      "advise_wide_field: Synthesized beam 0.003173 (rad) 0.182 (deg)\n",
      "advise_wide_field: Cellsize 0.001058 (rad) 0.061 (deg)\n",
      "advice_wide_field: Npixels per side = 607\n",
      "advice_wide_field: Npixels (power of 2, 3) per side = 768\n",
      "advice_wide_field: W sampling for full image = 0.2 (wavelengths)\n",
      "advice_wide_field: W sampling for primary beam = 5.6 (wavelengths)\n",
      "advice_wide_field: Time sampling for full image = 13.5 (s)\n",
      "advice_wide_field: Time sampling for primary beam = 484.6 (s)\n",
      "advice_wide_field: Frequency sampling for full image = 18696.1 (Hz)\n",
      "advice_wide_field: Frequency sampling for primary beam = 673058.5 (Hz)\n",
      "advice_wide_field: Number of planes in w stack 56\n",
      "advice_wide_field: Number of planes in w projection 1\n",
      "advice_wide_field: Recommend 2d gridding\n",
      "get_kernel_list: Using w projection with wstep = 50.000000\n",
      "get_kernel_list: Maximum w kernel full width = 52 pixels\n",
      "w_kernel_list: Maximum absolute w = 203.6, step is 50.0 wavelengths\n",
      "==== 10 50 10\n",
      "create_w_term_image: For w = -203.6, field of view = 0.512000, Fresnel number = 13.34\n",
      "create_w_term_image: For w = -158.3, field of view = 0.512000, Fresnel number = 10.38\n",
      "create_w_term_image: For w = -113.1, field of view = 0.512000, Fresnel number = 7.41\n",
      "create_w_term_image: For w = -67.9, field of view = 0.512000, Fresnel number = 4.45\n",
      "create_w_term_image: For w = -22.6, field of view = 0.512000, Fresnel number = 1.48\n",
      "create_w_term_image: For w = 22.6, field of view = 0.512000, Fresnel number = 1.48\n",
      "create_w_term_image: For w = 67.9, field of view = 0.512000, Fresnel number = 4.45\n",
      "create_w_term_image: For w = 113.1, field of view = 0.512000, Fresnel number = 7.41\n",
      "create_w_term_image: For w = 158.3, field of view = 0.512000, Fresnel number = 10.38\n",
      "create_w_term_image: For w = 203.6, field of view = 0.512000, Fresnel number = 13.34\n",
      "invert_2d: inverting using wprojection\n",
      "Using optimized algorithm\n",
      "get_kernel_list: Using wprojection kernel\n",
      "get_kernel_list: Fresnel number = 65.536000\n",
      "advise_wide_field: Maximum wavelength 3.747 (meters)\n",
      "advise_wide_field: Minimum wavelength 2.498 (meters)\n",
      "advise_wide_field: Maximum baseline 315.2 (wavelengths)\n",
      "advise_wide_field: Station/antenna diameter 35.0 (meters)\n",
      "advise_wide_field: Primary beam 0.107069 (rad) 6.135 (deg)\n",
      "advise_wide_field: Image field of view 0.642412 (rad) 36.808 (deg)\n",
      "advise_wide_field: Synthesized beam 0.003173 (rad) 0.182 (deg)\n",
      "advise_wide_field: Cellsize 0.001058 (rad) 0.061 (deg)\n",
      "advice_wide_field: Npixels per side = 607\n",
      "advice_wide_field: Npixels (power of 2, 3) per side = 768\n",
      "advice_wide_field: W sampling for full image = 0.2 (wavelengths)\n",
      "advice_wide_field: W sampling for primary beam = 5.6 (wavelengths)\n",
      "advice_wide_field: Time sampling for full image = 13.5 (s)\n",
      "advice_wide_field: Time sampling for primary beam = 484.6 (s)\n",
      "advice_wide_field: Frequency sampling for full image = 18696.1 (Hz)\n",
      "advice_wide_field: Frequency sampling for primary beam = 673058.5 (Hz)\n",
      "advice_wide_field: Number of planes in w stack 56\n",
      "advice_wide_field: Number of planes in w projection 1\n",
      "advice_wide_field: Recommend 2d gridding\n",
      "get_kernel_list: Using w projection with wstep = 50.000000\n",
      "get_kernel_list: Maximum w kernel full width = 52 pixels\n",
      "w_kernel_list: Maximum absolute w = 203.6, step is 50.0 wavelengths\n",
      "==== 10 50 10\n",
      "create_w_term_image: For w = -203.6, field of view = 0.512000, Fresnel number = 13.34\n",
      "create_w_term_image: For w = -158.3, field of view = 0.512000, Fresnel number = 10.38\n",
      "create_w_term_image: For w = -113.1, field of view = 0.512000, Fresnel number = 7.41\n",
      "create_w_term_image: For w = -67.9, field of view = 0.512000, Fresnel number = 4.45\n",
      "create_w_term_image: For w = -22.6, field of view = 0.512000, Fresnel number = 1.48\n",
      "create_w_term_image: For w = 22.6, field of view = 0.512000, Fresnel number = 1.48\n",
      "create_w_term_image: For w = 67.9, field of view = 0.512000, Fresnel number = 4.45\n",
      "create_w_term_image: For w = 113.1, field of view = 0.512000, Fresnel number = 7.41\n",
      "create_w_term_image: For w = 158.3, field of view = 0.512000, Fresnel number = 10.38\n",
      "create_w_term_image: For w = 203.6, field of view = 0.512000, Fresnel number = 13.34\n",
      "invert_2d: inverting using wprojection\n",
      "Using optimized algorithm\n",
      "get_kernel_list: Using wprojection kernel\n",
      "get_kernel_list: Fresnel number = 65.536000\n",
      "advise_wide_field: Maximum wavelength 3.747 (meters)\n",
      "advise_wide_field: Minimum wavelength 2.498 (meters)\n",
      "advise_wide_field: Maximum baseline 315.2 (wavelengths)\n",
      "advise_wide_field: Station/antenna diameter 35.0 (meters)\n",
      "advise_wide_field: Primary beam 0.107069 (rad) 6.135 (deg)\n",
      "advise_wide_field: Image field of view 0.642412 (rad) 36.808 (deg)\n",
      "advise_wide_field: Synthesized beam 0.003173 (rad) 0.182 (deg)\n",
      "advise_wide_field: Cellsize 0.001058 (rad) 0.061 (deg)\n",
      "advice_wide_field: Npixels per side = 607\n",
      "advice_wide_field: Npixels (power of 2, 3) per side = 768\n",
      "advice_wide_field: W sampling for full image = 0.2 (wavelengths)\n",
      "advice_wide_field: W sampling for primary beam = 5.6 (wavelengths)\n",
      "advice_wide_field: Time sampling for full image = 13.5 (s)\n",
      "advice_wide_field: Time sampling for primary beam = 484.6 (s)\n",
      "advice_wide_field: Frequency sampling for full image = 18696.1 (Hz)\n",
      "advice_wide_field: Frequency sampling for primary beam = 673058.5 (Hz)\n",
      "advice_wide_field: Number of planes in w stack 56\n",
      "advice_wide_field: Number of planes in w projection 1\n",
      "advice_wide_field: Recommend 2d gridding\n",
      "get_kernel_list: Using w projection with wstep = 50.000000\n"
     ]
    },
    {
     "name": "stdout",
     "output_type": "stream",
     "text": [
      "get_kernel_list: Maximum w kernel full width = 52 pixels\n",
      "w_kernel_list: Maximum absolute w = 203.6, step is 50.0 wavelengths\n",
      "==== 10 50 10\n",
      "create_w_term_image: For w = -203.6, field of view = 0.512000, Fresnel number = 13.34\n",
      "create_w_term_image: For w = -158.3, field of view = 0.512000, Fresnel number = 10.38\n",
      "create_w_term_image: For w = -113.1, field of view = 0.512000, Fresnel number = 7.41\n",
      "create_w_term_image: For w = -67.9, field of view = 0.512000, Fresnel number = 4.45\n",
      "create_w_term_image: For w = -22.6, field of view = 0.512000, Fresnel number = 1.48\n",
      "create_w_term_image: For w = 22.6, field of view = 0.512000, Fresnel number = 1.48\n",
      "create_w_term_image: For w = 67.9, field of view = 0.512000, Fresnel number = 4.45\n",
      "create_w_term_image: For w = 113.1, field of view = 0.512000, Fresnel number = 7.41\n",
      "create_w_term_image: For w = 158.3, field of view = 0.512000, Fresnel number = 10.38\n",
      "create_w_term_image: For w = 203.6, field of view = 0.512000, Fresnel number = 13.34\n"
     ]
    },
    {
     "data": {
      "text/html": [
       "<h4>Original  invert time: 17.51s"
      ],
      "text/plain": [
       "<IPython.core.display.HTML object>"
      ]
     },
     "metadata": {},
     "output_type": "display_data"
    },
    {
     "data": {
      "text/html": [
       "<h4>Optimized invert time: 10.33s"
      ],
      "text/plain": [
       "<IPython.core.display.HTML object>"
      ]
     },
     "metadata": {},
     "output_type": "display_data"
    }
   ],
   "source": [
    "# predict and invert algorithm\n",
    "predict_processors = [predict_2d, predict_wstack, predict_timeslice, predict_facets, predict_wprojection]\n",
    "invert_processors =  [invert_2d,  invert_wstack,  invert_timeslice,  invert_facets,  invert_wprojection]\n",
    "\n",
    "time_pred_ori, time_pred_opt = [], []\n",
    "time_inv_ori,  time_inv_opt  = [], []\n",
    "\n",
    "for predict, invert in zip(predict_processors, invert_processors):\n",
    "    vt, time_pred0, time_pred1 = test_predict(predict, vt, model)\n",
    "    dirty, psf, sumwt, time_inv0, time_inv1 = test_invert(invert, vt, model)\n",
    "    \n",
    "    time_pred_ori.append(time_pred0)\n",
    "    time_pred_opt.append(time_pred1)\n",
    "    time_inv_ori.append(time_inv0)\n",
    "    time_inv_opt.append(time_inv1)"
   ]
  },
  {
   "cell_type": "code",
   "execution_count": 8,
   "metadata": {
    "scrolled": false
   },
   "outputs": [
    {
     "data": {
      "application/vnd.plotly.v1+json": {
       "data": [
        {
         "cells": {
          "align": [
           "right"
          ],
          "fill": {
           "color": "#F5F8FF"
          },
          "font": {
           "size": 13
          },
          "height": 35,
          "values": [
           [
            "<b>Origin",
            "<b>Optimized",
            "<b>Speedup"
           ],
           [
            "2.73",
            "0.52",
            "x5.2"
           ],
           [
            "2.69",
            "0.53",
            "x5.1"
           ],
           [
            "18.54",
            "16.91",
            "x1.1"
           ],
           [
            "10.27",
            "1.72",
            "x6.0"
           ],
           [
            "27.43",
            "17.92",
            "x1.5"
           ]
          ]
         },
         "columnwidth": [
          1.4,
          1,
          1,
          1,
          1,
          1
         ],
         "domain": {
          "x": [
           0,
           0.5
          ],
          "y": [
           0,
           1
          ]
         },
         "header": {
          "align": [
           "center"
          ],
          "fill": {
           "color": "rgb(54,56,128)"
          },
          "font": {
           "color": "white",
           "size": 13
          },
          "height": 35,
          "values": [
           "",
           "<b>2D",
           "<b>Wstack",
           "<b>Timeslice",
           "<b>Facets",
           "<b>WProject"
          ]
         },
         "type": "table"
        },
        {
         "marker": {
          "color": "rgb(54,141,202)"
         },
         "name": "Origin",
         "type": "bar",
         "width": 0.35,
         "x": [
          "2D",
          "Wstack",
          "Timeslice",
          "Facets",
          "WProject"
         ],
         "y": [
          "2.73",
          "2.69",
          "18.54",
          "10.27",
          "27.43"
         ]
        },
        {
         "marker": {
          "color": "rgb(104,85,201)"
         },
         "name": "Optimized",
         "type": "bar",
         "width": 0.35,
         "x": [
          "2D",
          "Wstack",
          "Timeslice",
          "Facets",
          "WProject"
         ],
         "y": [
          "0.52",
          "0.53",
          "16.91",
          "1.72",
          "17.92"
         ]
        }
       ],
       "layout": {
        "annotations": [
         {
          "font": {
           "size": 15
          },
          "showarrow": false,
          "text": "<b>Running Time(s)",
          "x": 0.2,
          "xanchor": "left",
          "xref": "paper",
          "y": 1.01,
          "yanchor": "bottom",
          "yref": "paper"
         },
         {
          "font": {
           "size": 15
          },
          "showarrow": false,
          "text": "<b>Compare",
          "x": 0.73,
          "xanchor": "left",
          "xref": "paper",
          "y": 1.01,
          "yanchor": "bottom",
          "yref": "paper"
         }
        ],
        "autosize": false,
        "height": 400,
        "margin": {
         "b": 100,
         "l": 0,
         "r": 0,
         "t": 100
        },
        "title": "<b>Imaging algorithm (Predict)",
        "width": 950,
        "xaxis": {
         "domain": [
          0.62,
          0.96
         ],
         "mirror": false,
         "showline": false,
         "tickfont": {
          "size": 11
         },
         "ticklen": 4,
         "zeroline": true
        },
        "yaxis": {
         "domain": [
          0.3,
          1
         ],
         "mirror": false,
         "showline": false,
         "tickfont": {
          "size": 11
         },
         "ticklen": 4,
         "title": "Time(s)",
         "titlefont": {
          "size": 12
         },
         "zeroline": true
        }
       }
      },
      "text/html": [
       "<div id=\"3582b5e1-42cd-4e56-82a0-23ebb088a7bb\" style=\"height: 400px; width: 950px;\" class=\"plotly-graph-div\"></div><script type=\"text/javascript\">require([\"plotly\"], function(Plotly) { window.PLOTLYENV=window.PLOTLYENV || {};window.PLOTLYENV.BASE_URL=\"https://plot.ly\";Plotly.newPlot(\"3582b5e1-42cd-4e56-82a0-23ebb088a7bb\", [{\"type\": \"table\", \"domain\": {\"x\": [0.0, 0.5], \"y\": [0, 1.0]}, \"columnwidth\": [1.4, 1, 1, 1, 1, 1], \"header\": {\"values\": [\"\", \"<b>2D\", \"<b>Wstack\", \"<b>Timeslice\", \"<b>Facets\", \"<b>WProject\"], \"fill\": {\"color\": \"rgb(54,56,128)\"}, \"align\": [\"center\"], \"font\": {\"color\": \"white\", \"size\": 13}, \"height\": 35}, \"cells\": {\"values\": [[\"<b>Origin\", \"<b>Optimized\", \"<b>Speedup\"], [\"2.73\", \"0.52\", \"x5.2\"], [\"2.69\", \"0.53\", \"x5.1\"], [\"18.54\", \"16.91\", \"x1.1\"], [\"10.27\", \"1.72\", \"x6.0\"], [\"27.43\", \"17.92\", \"x1.5\"]], \"fill\": {\"color\": \"#F5F8FF\"}, \"align\": [\"right\"], \"font\": {\"size\": 13}, \"height\": 35}}, {\"type\": \"bar\", \"x\": [\"2D\", \"Wstack\", \"Timeslice\", \"Facets\", \"WProject\"], \"y\": [\"2.73\", \"2.69\", \"18.54\", \"10.27\", \"27.43\"], \"name\": \"Origin\", \"marker\": {\"color\": \"rgb(54,141,202)\"}, \"width\": 0.35}, {\"type\": \"bar\", \"x\": [\"2D\", \"Wstack\", \"Timeslice\", \"Facets\", \"WProject\"], \"y\": [\"0.52\", \"0.53\", \"16.91\", \"1.72\", \"17.92\"], \"name\": \"Optimized\", \"marker\": {\"color\": \"rgb(104,85,201)\"}, \"width\": 0.35}], {\"width\": 950, \"height\": 400, \"autosize\": false, \"title\": \"<b>Imaging algorithm (Predict)\", \"margin\": {\"t\": 100, \"l\": 0, \"r\": 0, \"b\": 100}, \"xaxis\": {\"showline\": false, \"zeroline\": true, \"mirror\": false, \"ticklen\": 4, \"tickfont\": {\"size\": 11}, \"domain\": [0.62, 0.96]}, \"yaxis\": {\"showline\": false, \"zeroline\": true, \"mirror\": false, \"ticklen\": 4, \"tickfont\": {\"size\": 11}, \"domain\": [0.3, 1], \"title\": \"Time(s)\", \"titlefont\": {\"size\": 12}}, \"annotations\": [{\"showarrow\": false, \"font\": {\"size\": 15}, \"xref\": \"paper\", \"yref\": \"paper\", \"y\": 1.01, \"xanchor\": \"left\", \"yanchor\": \"bottom\", \"text\": \"<b>Running Time(s)\", \"x\": 0.2}, {\"showarrow\": false, \"font\": {\"size\": 15}, \"xref\": \"paper\", \"yref\": \"paper\", \"y\": 1.01, \"xanchor\": \"left\", \"yanchor\": \"bottom\", \"text\": \"<b>Compare\", \"x\": 0.73}]}, {\"showLink\": true, \"linkText\": \"Export to plot.ly\"})});</script>"
      ],
      "text/vnd.plotly.v1+html": [
       "<div id=\"3582b5e1-42cd-4e56-82a0-23ebb088a7bb\" style=\"height: 400px; width: 950px;\" class=\"plotly-graph-div\"></div><script type=\"text/javascript\">require([\"plotly\"], function(Plotly) { window.PLOTLYENV=window.PLOTLYENV || {};window.PLOTLYENV.BASE_URL=\"https://plot.ly\";Plotly.newPlot(\"3582b5e1-42cd-4e56-82a0-23ebb088a7bb\", [{\"type\": \"table\", \"domain\": {\"x\": [0.0, 0.5], \"y\": [0, 1.0]}, \"columnwidth\": [1.4, 1, 1, 1, 1, 1], \"header\": {\"values\": [\"\", \"<b>2D\", \"<b>Wstack\", \"<b>Timeslice\", \"<b>Facets\", \"<b>WProject\"], \"fill\": {\"color\": \"rgb(54,56,128)\"}, \"align\": [\"center\"], \"font\": {\"color\": \"white\", \"size\": 13}, \"height\": 35}, \"cells\": {\"values\": [[\"<b>Origin\", \"<b>Optimized\", \"<b>Speedup\"], [\"2.73\", \"0.52\", \"x5.2\"], [\"2.69\", \"0.53\", \"x5.1\"], [\"18.54\", \"16.91\", \"x1.1\"], [\"10.27\", \"1.72\", \"x6.0\"], [\"27.43\", \"17.92\", \"x1.5\"]], \"fill\": {\"color\": \"#F5F8FF\"}, \"align\": [\"right\"], \"font\": {\"size\": 13}, \"height\": 35}}, {\"type\": \"bar\", \"x\": [\"2D\", \"Wstack\", \"Timeslice\", \"Facets\", \"WProject\"], \"y\": [\"2.73\", \"2.69\", \"18.54\", \"10.27\", \"27.43\"], \"name\": \"Origin\", \"marker\": {\"color\": \"rgb(54,141,202)\"}, \"width\": 0.35}, {\"type\": \"bar\", \"x\": [\"2D\", \"Wstack\", \"Timeslice\", \"Facets\", \"WProject\"], \"y\": [\"0.52\", \"0.53\", \"16.91\", \"1.72\", \"17.92\"], \"name\": \"Optimized\", \"marker\": {\"color\": \"rgb(104,85,201)\"}, \"width\": 0.35}], {\"width\": 950, \"height\": 400, \"autosize\": false, \"title\": \"<b>Imaging algorithm (Predict)\", \"margin\": {\"t\": 100, \"l\": 0, \"r\": 0, \"b\": 100}, \"xaxis\": {\"showline\": false, \"zeroline\": true, \"mirror\": false, \"ticklen\": 4, \"tickfont\": {\"size\": 11}, \"domain\": [0.62, 0.96]}, \"yaxis\": {\"showline\": false, \"zeroline\": true, \"mirror\": false, \"ticklen\": 4, \"tickfont\": {\"size\": 11}, \"domain\": [0.3, 1], \"title\": \"Time(s)\", \"titlefont\": {\"size\": 12}}, \"annotations\": [{\"showarrow\": false, \"font\": {\"size\": 15}, \"xref\": \"paper\", \"yref\": \"paper\", \"y\": 1.01, \"xanchor\": \"left\", \"yanchor\": \"bottom\", \"text\": \"<b>Running Time(s)\", \"x\": 0.2}, {\"showarrow\": false, \"font\": {\"size\": 15}, \"xref\": \"paper\", \"yref\": \"paper\", \"y\": 1.01, \"xanchor\": \"left\", \"yanchor\": \"bottom\", \"text\": \"<b>Compare\", \"x\": 0.73}]}, {\"showLink\": true, \"linkText\": \"Export to plot.ly\"})});</script>"
      ]
     },
     "metadata": {},
     "output_type": "display_data"
    },
    {
     "data": {
      "application/vnd.plotly.v1+json": {
       "data": [
        {
         "cells": {
          "align": [
           "right"
          ],
          "fill": {
           "color": "#F5F8FF"
          },
          "font": {
           "size": 13
          },
          "height": 35,
          "values": [
           [
            "<b>Origin",
            "<b>Optimized",
            "<b>Speedup"
           ],
           [
            "3.76",
            "0.24",
            "x15.7"
           ],
           [
            "2.07",
            "0.4",
            "x5.2"
           ],
           [
            "26.87",
            "25.16",
            "x1.1"
           ],
           [
            "21.44",
            "7.31",
            "x2.9"
           ],
           [
            "17.51",
            "10.33",
            "x1.7"
           ]
          ]
         },
         "columnwidth": [
          1.4,
          1,
          1,
          1,
          1,
          1
         ],
         "domain": {
          "x": [
           0,
           0.5
          ],
          "y": [
           0,
           1
          ]
         },
         "header": {
          "align": [
           "center"
          ],
          "fill": {
           "color": "rgb(54,56,128)"
          },
          "font": {
           "color": "white",
           "size": 13
          },
          "height": 35,
          "values": [
           "",
           "<b>2D",
           "<b>Wstack",
           "<b>Timeslice",
           "<b>Facets",
           "<b>WProject"
          ]
         },
         "type": "table"
        },
        {
         "marker": {
          "color": "rgb(54,141,202)"
         },
         "name": "Origin",
         "type": "bar",
         "width": 0.35,
         "x": [
          "2D",
          "Wstack",
          "Timeslice",
          "Facets",
          "WProject"
         ],
         "y": [
          "3.76",
          "2.07",
          "26.87",
          "21.44",
          "17.51"
         ]
        },
        {
         "marker": {
          "color": "rgb(104,85,201)"
         },
         "name": "Optimized",
         "type": "bar",
         "width": 0.35,
         "x": [
          "2D",
          "Wstack",
          "Timeslice",
          "Facets",
          "WProject"
         ],
         "y": [
          "0.24",
          "0.4",
          "25.16",
          "7.31",
          "10.33"
         ]
        }
       ],
       "layout": {
        "annotations": [
         {
          "font": {
           "size": 15
          },
          "showarrow": false,
          "text": "<b>Running Time(s)",
          "x": 0.2,
          "xanchor": "left",
          "xref": "paper",
          "y": 1.01,
          "yanchor": "bottom",
          "yref": "paper"
         },
         {
          "font": {
           "size": 15
          },
          "showarrow": false,
          "text": "<b>Compare",
          "x": 0.73,
          "xanchor": "left",
          "xref": "paper",
          "y": 1.01,
          "yanchor": "bottom",
          "yref": "paper"
         }
        ],
        "autosize": false,
        "height": 400,
        "margin": {
         "b": 100,
         "l": 0,
         "r": 0,
         "t": 100
        },
        "title": "<b>Imaging algorithm (Invert)",
        "width": 950,
        "xaxis": {
         "domain": [
          0.62,
          0.96
         ],
         "mirror": false,
         "showline": false,
         "tickfont": {
          "size": 11
         },
         "ticklen": 4,
         "zeroline": true
        },
        "yaxis": {
         "domain": [
          0.3,
          1
         ],
         "mirror": false,
         "showline": false,
         "tickfont": {
          "size": 11
         },
         "ticklen": 4,
         "title": "Time(s)",
         "titlefont": {
          "size": 12
         },
         "zeroline": true
        }
       }
      },
      "text/html": [
       "<div id=\"073c14dc-5362-4156-ae21-b91f31d139e4\" style=\"height: 400px; width: 950px;\" class=\"plotly-graph-div\"></div><script type=\"text/javascript\">require([\"plotly\"], function(Plotly) { window.PLOTLYENV=window.PLOTLYENV || {};window.PLOTLYENV.BASE_URL=\"https://plot.ly\";Plotly.newPlot(\"073c14dc-5362-4156-ae21-b91f31d139e4\", [{\"type\": \"table\", \"domain\": {\"x\": [0.0, 0.5], \"y\": [0, 1.0]}, \"columnwidth\": [1.4, 1, 1, 1, 1, 1], \"header\": {\"values\": [\"\", \"<b>2D\", \"<b>Wstack\", \"<b>Timeslice\", \"<b>Facets\", \"<b>WProject\"], \"fill\": {\"color\": \"rgb(54,56,128)\"}, \"align\": [\"center\"], \"font\": {\"color\": \"white\", \"size\": 13}, \"height\": 35}, \"cells\": {\"values\": [[\"<b>Origin\", \"<b>Optimized\", \"<b>Speedup\"], [\"3.76\", \"0.24\", \"x15.7\"], [\"2.07\", \"0.4\", \"x5.2\"], [\"26.87\", \"25.16\", \"x1.1\"], [\"21.44\", \"7.31\", \"x2.9\"], [\"17.51\", \"10.33\", \"x1.7\"]], \"fill\": {\"color\": \"#F5F8FF\"}, \"align\": [\"right\"], \"font\": {\"size\": 13}, \"height\": 35}}, {\"type\": \"bar\", \"x\": [\"2D\", \"Wstack\", \"Timeslice\", \"Facets\", \"WProject\"], \"y\": [\"3.76\", \"2.07\", \"26.87\", \"21.44\", \"17.51\"], \"name\": \"Origin\", \"marker\": {\"color\": \"rgb(54,141,202)\"}, \"width\": 0.35}, {\"type\": \"bar\", \"x\": [\"2D\", \"Wstack\", \"Timeslice\", \"Facets\", \"WProject\"], \"y\": [\"0.24\", \"0.4\", \"25.16\", \"7.31\", \"10.33\"], \"name\": \"Optimized\", \"marker\": {\"color\": \"rgb(104,85,201)\"}, \"width\": 0.35}], {\"width\": 950, \"height\": 400, \"autosize\": false, \"title\": \"<b>Imaging algorithm (Invert)\", \"margin\": {\"t\": 100, \"l\": 0, \"r\": 0, \"b\": 100}, \"xaxis\": {\"showline\": false, \"zeroline\": true, \"mirror\": false, \"ticklen\": 4, \"tickfont\": {\"size\": 11}, \"domain\": [0.62, 0.96]}, \"yaxis\": {\"showline\": false, \"zeroline\": true, \"mirror\": false, \"ticklen\": 4, \"tickfont\": {\"size\": 11}, \"domain\": [0.3, 1], \"title\": \"Time(s)\", \"titlefont\": {\"size\": 12}}, \"annotations\": [{\"showarrow\": false, \"font\": {\"size\": 15}, \"xref\": \"paper\", \"yref\": \"paper\", \"y\": 1.01, \"xanchor\": \"left\", \"yanchor\": \"bottom\", \"text\": \"<b>Running Time(s)\", \"x\": 0.2}, {\"showarrow\": false, \"font\": {\"size\": 15}, \"xref\": \"paper\", \"yref\": \"paper\", \"y\": 1.01, \"xanchor\": \"left\", \"yanchor\": \"bottom\", \"text\": \"<b>Compare\", \"x\": 0.73}]}, {\"showLink\": true, \"linkText\": \"Export to plot.ly\"})});</script>"
      ],
      "text/vnd.plotly.v1+html": [
       "<div id=\"073c14dc-5362-4156-ae21-b91f31d139e4\" style=\"height: 400px; width: 950px;\" class=\"plotly-graph-div\"></div><script type=\"text/javascript\">require([\"plotly\"], function(Plotly) { window.PLOTLYENV=window.PLOTLYENV || {};window.PLOTLYENV.BASE_URL=\"https://plot.ly\";Plotly.newPlot(\"073c14dc-5362-4156-ae21-b91f31d139e4\", [{\"type\": \"table\", \"domain\": {\"x\": [0.0, 0.5], \"y\": [0, 1.0]}, \"columnwidth\": [1.4, 1, 1, 1, 1, 1], \"header\": {\"values\": [\"\", \"<b>2D\", \"<b>Wstack\", \"<b>Timeslice\", \"<b>Facets\", \"<b>WProject\"], \"fill\": {\"color\": \"rgb(54,56,128)\"}, \"align\": [\"center\"], \"font\": {\"color\": \"white\", \"size\": 13}, \"height\": 35}, \"cells\": {\"values\": [[\"<b>Origin\", \"<b>Optimized\", \"<b>Speedup\"], [\"3.76\", \"0.24\", \"x15.7\"], [\"2.07\", \"0.4\", \"x5.2\"], [\"26.87\", \"25.16\", \"x1.1\"], [\"21.44\", \"7.31\", \"x2.9\"], [\"17.51\", \"10.33\", \"x1.7\"]], \"fill\": {\"color\": \"#F5F8FF\"}, \"align\": [\"right\"], \"font\": {\"size\": 13}, \"height\": 35}}, {\"type\": \"bar\", \"x\": [\"2D\", \"Wstack\", \"Timeslice\", \"Facets\", \"WProject\"], \"y\": [\"3.76\", \"2.07\", \"26.87\", \"21.44\", \"17.51\"], \"name\": \"Origin\", \"marker\": {\"color\": \"rgb(54,141,202)\"}, \"width\": 0.35}, {\"type\": \"bar\", \"x\": [\"2D\", \"Wstack\", \"Timeslice\", \"Facets\", \"WProject\"], \"y\": [\"0.24\", \"0.4\", \"25.16\", \"7.31\", \"10.33\"], \"name\": \"Optimized\", \"marker\": {\"color\": \"rgb(104,85,201)\"}, \"width\": 0.35}], {\"width\": 950, \"height\": 400, \"autosize\": false, \"title\": \"<b>Imaging algorithm (Invert)\", \"margin\": {\"t\": 100, \"l\": 0, \"r\": 0, \"b\": 100}, \"xaxis\": {\"showline\": false, \"zeroline\": true, \"mirror\": false, \"ticklen\": 4, \"tickfont\": {\"size\": 11}, \"domain\": [0.62, 0.96]}, \"yaxis\": {\"showline\": false, \"zeroline\": true, \"mirror\": false, \"ticklen\": 4, \"tickfont\": {\"size\": 11}, \"domain\": [0.3, 1], \"title\": \"Time(s)\", \"titlefont\": {\"size\": 12}}, \"annotations\": [{\"showarrow\": false, \"font\": {\"size\": 15}, \"xref\": \"paper\", \"yref\": \"paper\", \"y\": 1.01, \"xanchor\": \"left\", \"yanchor\": \"bottom\", \"text\": \"<b>Running Time(s)\", \"x\": 0.2}, {\"showarrow\": false, \"font\": {\"size\": 15}, \"xref\": \"paper\", \"yref\": \"paper\", \"y\": 1.01, \"xanchor\": \"left\", \"yanchor\": \"bottom\", \"text\": \"<b>Compare\", \"x\": 0.73}]}, {\"showLink\": true, \"linkText\": \"Export to plot.ly\"})});</script>"
      ]
     },
     "metadata": {},
     "output_type": "display_data"
    }
   ],
   "source": [
    "# Imaging algorithm\n",
    "\n",
    "# Predict\n",
    "\n",
    "origin = np.around(time_pred_ori, decimals=2)\n",
    "optimized = np.around(time_pred_opt, decimals=2)\n",
    "columns = ['2D', 'Wstack', 'Timeslice', 'Facets', 'WProject']\n",
    "fig_title = 'Imaging algorithm (Predict)'\n",
    "show(origin, optimized, columns, fig_title)\n",
    "\n",
    "# Invert\n",
    "origin = np.around(time_inv_ori, decimals=2)\n",
    "optimized = np.around(time_inv_opt, decimals=2)\n",
    "columns = ['2D', 'Wstack', 'Timeslice', 'Facets', 'WProject']\n",
    "fig_title = 'Imaging algorithm (Invert)'\n",
    "show(origin, optimized, columns, fig_title)"
   ]
  },
  {
   "cell_type": "code",
   "execution_count": null,
   "metadata": {},
   "outputs": [],
   "source": []
  }
 ],
 "metadata": {
  "kernelspec": {
   "display_name": "Python 3",
   "language": "python",
   "name": "python3"
  },
  "language_info": {
   "codemirror_mode": {
    "name": "ipython",
    "version": 3
   },
   "file_extension": ".py",
   "mimetype": "text/x-python",
   "name": "python",
   "nbconvert_exporter": "python",
   "pygments_lexer": "ipython3",
   "version": "3.6.3"
  }
 },
 "nbformat": 4,
 "nbformat_minor": 2
}
