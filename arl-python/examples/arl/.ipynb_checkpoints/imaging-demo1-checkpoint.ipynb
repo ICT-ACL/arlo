{
 "cells": [
  {
   "cell_type": "code",
   "execution_count": 1,
   "metadata": {},
   "outputs": [
    {
     "data": {
      "text/html": [
       "<script>requirejs.config({paths: { 'plotly': ['https://cdn.plot.ly/plotly-latest.min']},});if(!window.Plotly) {{require(['plotly'],function(plotly) {window.Plotly=plotly;});}}</script>"
      ],
      "text/vnd.plotly.v1+html": [
       "<script>requirejs.config({paths: { 'plotly': ['https://cdn.plot.ly/plotly-latest.min']},});if(!window.Plotly) {{require(['plotly'],function(plotly) {window.Plotly=plotly;});}}</script>"
      ]
     },
     "metadata": {},
     "output_type": "display_data"
    }
   ],
   "source": [
    "import os\n",
    "import sys\n",
    "import multiprocessing\n",
    "\n",
    "sys.path.append(os.path.join('..', '..'))\n",
    "\n",
    "from matplotlib import pylab\n",
    "\n",
    "pylab.rcParams['figure.figsize'] = (10.0, 10.0)\n",
    "pylab.rcParams['image.cmap'] = 'rainbow'\n",
    "\n",
    "import numpy as np\n",
    "import pandas as pd\n",
    "import logging\n",
    "import time\n",
    "import pickle\n",
    "\n",
    "from astropy.coordinates import SkyCoord\n",
    "from astropy import units as u\n",
    "from astropy import constants as const\n",
    "from astropy.wcs.utils import pixel_to_skycoord\n",
    "\n",
    "from arl.data.polarisation import PolarisationFrame\n",
    "from arl.visibility.base import create_visibility\n",
    "from arl.skycomponent.operations import create_skycomponent\n",
    "from arl.image.operations import show_image, import_image_from_fits, export_image_to_fits, \\\n",
    "    smooth_image, calculate_image_frequency_moments, calculate_image_from_frequency_moments\n",
    "from arl.image.deconvolution import deconvolve_cube, restore_cube\n",
    "from arl.image.iterators import  image_raster_iter\n",
    "from arl.image.solvers import solve_image\n",
    "from arl.visibility.iterators import vis_timeslice_iter\n",
    "# from arl.util.testing_support import create_named_configuration, \\\n",
    "#     create_low_test_image_from_gleam, create_low_test_beam\n",
    "from arl.imaging import *\n",
    "from arl.imaging.weighting import weight_visibility\n",
    "\n",
    "from IPython.display import display, HTML\n",
    "import plotly.offline as py\n",
    "\n",
    "from help.array import add_arr_sum\n",
    "from help.plot import plot_table_bar, show\n",
    "\n",
    "log = logging.getLogger()\n",
    "log.setLevel(logging.DEBUG)\n",
    "log.addHandler(logging.StreamHandler(sys.stdout))\n",
    "\n",
    "py.init_notebook_mode(connected=True)"
   ]
  },
  {
   "cell_type": "code",
   "execution_count": 2,
   "metadata": {},
   "outputs": [],
   "source": [
    "# construct low configuration\n",
    "results_dir = './results'\n",
    "data_dir = os.path.join('./examples/arl', results_dir)  # for import/export\n",
    "os.makedirs(results_dir, exist_ok=True)\n",
    "\n",
    "# low = create_named_configuration('LOWBD2-CORE')\n",
    "cellsize = 0.001\n",
    "npixel=512\n",
    "padding = 2\n",
    "oversampling = 32\n",
    "nchan = 7\n",
    "times = np.linspace(-3, +3, 5) * np.pi / 12.0\n",
    "frequency = np.linspace(0.8e8, 1.2e8, nchan)\n",
    "ntimes, nfreq = len(times), len(frequency)\n",
    "centre_frequency = np.array([np.average(frequency)])\n",
    "channel_bandwidth=np.array(nchan * [frequency[1]-frequency[0]])\n",
    "total_bandwidth = np.array([np.sum(channel_bandwidth)])\n",
    "polarisation_frame = PolarisationFrame('stokesI')"
   ]
  },
  {
   "cell_type": "code",
   "execution_count": 3,
   "metadata": {},
   "outputs": [],
   "source": [
    "# create visibility\n",
    "vt = pickle.load(open('%s/visibility.vis' % results_dir, 'rb'))"
   ]
  },
  {
   "cell_type": "code",
   "execution_count": 4,
   "metadata": {
    "scrolled": true
   },
   "outputs": [
    {
     "name": "stdout",
     "output_type": "stream",
     "text": [
      "import_image_from_fits: created >f8 image of shape (1, 1, 512, 512), size 0.002 (GB)\n",
      "import_image_from_fits: Max, min in ./examples/arl/./results/model_centrechannel.fits = 40.971054, -0.127373\n",
      "import_image_from_fits: created >f8 image of shape (7, 1, 512, 512), size 0.014 (GB)\n",
      "import_image_from_fits: Max, min in ./examples/arl/./results/model_multichannel.fits = 48.234946, -0.479117\n",
      "import_image_from_fits: created >f8 image of shape (7, 1, 512, 512), size 0.014 (GB)\n",
      "import_image_from_fits: Max, min in ./examples/arl/./results/beam.fits = 48.234946, -0.479117\n"
     ]
    }
   ],
   "source": [
    "# make a test image\n",
    "model_centrechannel = import_image_from_fits('%s/model_centrechannel.fits' % data_dir)\n",
    "model_multichannel = import_image_from_fits('%s/model_multichannel.fits' % data_dir)\n",
    "\n",
    "beam = import_image_from_fits('%s/beam.fits' % data_dir)\n",
    "model_multichannel.data *= beam.data"
   ]
  },
  {
   "cell_type": "code",
   "execution_count": 5,
   "metadata": {},
   "outputs": [
    {
     "name": "stdout",
     "output_type": "stream",
     "text": [
      "predict_2d: predict using 2d transform\n",
      "Using original algorithm\n",
      "shift_vis_from_image: shifting phasecentre from image phase centre <SkyCoord (ICRS): (ra, dec) in deg\n",
      "    (15., -35.)> to visibility phasecentre <SkyCoord (ICRS): (ra, dec) in deg\n",
      "    (15., -45.)>\n",
      "predict_2d: predict using 2d transform\n",
      "Using optimized algorithm\n",
      "shift_vis_from_image: shifting phasecentre from image phase centre <SkyCoord (ICRS): (ra, dec) in deg\n",
      "    (15., -35.)> to visibility phasecentre <SkyCoord (ICRS): (ra, dec) in deg\n",
      "    (15., -45.)>\n"
     ]
    },
    {
     "data": {
      "text/html": [
       "<h3> Predict Time (s)"
      ],
      "text/plain": [
       "<IPython.core.display.HTML object>"
      ]
     },
     "metadata": {},
     "output_type": "display_data"
    },
    {
     "data": {
      "text/html": [
       "<div>\n",
       "<style scoped>\n",
       "    .dataframe tbody tr th:only-of-type {\n",
       "        vertical-align: middle;\n",
       "    }\n",
       "\n",
       "    .dataframe tbody tr th {\n",
       "        vertical-align: top;\n",
       "    }\n",
       "\n",
       "    .dataframe thead th {\n",
       "        text-align: right;\n",
       "    }\n",
       "</style>\n",
       "<table border=\"1\" class=\"dataframe\">\n",
       "  <thead>\n",
       "    <tr style=\"text-align: right;\">\n",
       "      <th></th>\n",
       "      <th>Predict</th>\n",
       "      <th>Degrid</th>\n",
       "      <th>FFT</th>\n",
       "    </tr>\n",
       "  </thead>\n",
       "  <tbody>\n",
       "    <tr>\n",
       "      <th>Origin</th>\n",
       "      <td>22.63</td>\n",
       "      <td>12.42</td>\n",
       "      <td>1.36</td>\n",
       "    </tr>\n",
       "    <tr>\n",
       "      <th>Optimized</th>\n",
       "      <td>3.22</td>\n",
       "      <td>0.14</td>\n",
       "      <td>0.76</td>\n",
       "    </tr>\n",
       "  </tbody>\n",
       "</table>\n",
       "</div>"
      ],
      "text/plain": [
       "           Predict  Degrid   FFT\n",
       "Origin       22.63   12.42  1.36\n",
       "Optimized     3.22    0.14  0.76"
      ]
     },
     "metadata": {},
     "output_type": "display_data"
    }
   ],
   "source": [
    "# predict\n",
    "vt.data['vis'] *= 0.0\n",
    "\n",
    "start = time.time()\n",
    "vt0, time0 = \\\n",
    "    predict_2d(vt, model_multichannel, oversampling=oversampling,\n",
    "        polarisation_frame=polarisation_frame, timing=True)\n",
    "stop = time.time()\n",
    "time_degrid0, time_fft0 = time0\n",
    "time_pred0 = stop - start\n",
    "\n",
    "start = time.time()\n",
    "vt1, time1 = \\\n",
    "    predict_2d(vt, model_multichannel, oversampling=oversampling,\n",
    "        polarisation_frame=polarisation_frame, opt=True, timing=True)\n",
    "stop = time.time()\n",
    "time_degrid1, time_fft1 = time1\n",
    "time_pred1 = stop - start\n",
    "\n",
    "vt = vt0\n",
    "\n",
    "time_predict = [[time_pred0, time_degrid0, time_fft0], [time_pred1, time_degrid1, time_fft1]]\n",
    "display(HTML('<h3> Predict Time (s)'))\n",
    "display(pd.DataFrame(np.around(time_predict, decimals=2), \n",
    "                     columns=['Predict', 'Degrid', 'FFT'], index=['Origin', 'Optimized']))"
   ]
  },
  {
   "cell_type": "code",
   "execution_count": 6,
   "metadata": {},
   "outputs": [
    {
     "name": "stdout",
     "output_type": "stream",
     "text": [
      "invert_2d: inverting using 2d transform\n",
      "Using original algorithm\n",
      "invert_2d: inverting using 2d transform\n",
      "Using original algorithm\n",
      "invert_2d: inverting using 2d transform\n",
      "Using optimized algorithm\n",
      "invert_2d: inverting using 2d transform\n",
      "Using optimized algorithm\n"
     ]
    },
    {
     "data": {
      "text/html": [
       "<h3> Invert Time (s)"
      ],
      "text/plain": [
       "<IPython.core.display.HTML object>"
      ]
     },
     "metadata": {},
     "output_type": "display_data"
    },
    {
     "data": {
      "text/html": [
       "<div>\n",
       "<style scoped>\n",
       "    .dataframe tbody tr th:only-of-type {\n",
       "        vertical-align: middle;\n",
       "    }\n",
       "\n",
       "    .dataframe tbody tr th {\n",
       "        vertical-align: top;\n",
       "    }\n",
       "\n",
       "    .dataframe thead th {\n",
       "        text-align: right;\n",
       "    }\n",
       "</style>\n",
       "<table border=\"1\" class=\"dataframe\">\n",
       "  <thead>\n",
       "    <tr style=\"text-align: right;\">\n",
       "      <th></th>\n",
       "      <th>Invert</th>\n",
       "      <th>Grid</th>\n",
       "      <th>IFFT</th>\n",
       "    </tr>\n",
       "  </thead>\n",
       "  <tbody>\n",
       "    <tr>\n",
       "      <th>Origin</th>\n",
       "      <td>36.24</td>\n",
       "      <td>21.34</td>\n",
       "      <td>0.78</td>\n",
       "    </tr>\n",
       "    <tr>\n",
       "      <th>Optimized</th>\n",
       "      <td>2.08</td>\n",
       "      <td>0.80</td>\n",
       "      <td>0.25</td>\n",
       "    </tr>\n",
       "  </tbody>\n",
       "</table>\n",
       "</div>"
      ],
      "text/plain": [
       "           Invert   Grid  IFFT\n",
       "Origin      36.24  21.34  0.78\n",
       "Optimized    2.08   0.80  0.25"
      ]
     },
     "metadata": {},
     "output_type": "display_data"
    }
   ],
   "source": [
    "# invert\n",
    "\n",
    "start = time.time()\n",
    "dirty0, sumwt0, time00 = invert_2d(vt, model_multichannel, padding=1, timing=True)\n",
    "psf0, sumwt0, time01 = invert_2d(vt, model_multichannel, dopsf=True, padding=1, timing=True)\n",
    "stop = time.time()\n",
    "time_grid0 = time00[0] + time01[0]\n",
    "time_ifft0 = time00[1] + time01[1]\n",
    "time_inv0 = stop - start\n",
    "\n",
    "start = time.time()\n",
    "dirty1, sumwt1, time10 = invert_2d(vt, model_multichannel, padding=1, opt=True, timing=True)\n",
    "psf1, sumwt1, time11 = invert_2d(vt, model_multichannel, dopsf=True, padding=1, opt=True, timing=True)\n",
    "time_grid1 = time10[0] + time11[0]\n",
    "time_ifft1 = time10[1] + time11[1]\n",
    "stop = time.time()\n",
    "time_inv1 = stop - start\n",
    "\n",
    "dirty, sumwt = dirty0, sumwt0\n",
    "psf, sumwt = psf0, sumwt0\n",
    "\n",
    "time_invert = [[time_inv0, time_grid0, time_ifft0], [time_inv1, time_grid1, time_ifft1]]\n",
    "display(HTML('<h3> Invert Time (s)'))\n",
    "display(pd.DataFrame(np.around(time_invert, decimals=2), \n",
    "                     columns=['Invert', 'Grid', 'IFFT'], index=['Origin', 'Optimized']))"
   ]
  },
  {
   "cell_type": "code",
   "execution_count": 7,
   "metadata": {},
   "outputs": [
    {
     "name": "stdout",
     "output_type": "stream",
     "text": [
      "Using original algorithm\n",
      "deconvolve_cube: Multi-scale multi-frequency clean of each polarisation separately\n",
      "calculate_image_frequency_moments: Reference frequency = 100000000.000 (MHz)\n",
      "calculate_image_frequency_moments: Reference frequency = 100000000.000 (MHz)\n",
      "deconvolve_cube: Processing pol 0\n",
      "msmfsclean: Peak of PSF = 5.999537246933437 at (0, 256, 256)\n",
      "msmfsclean: Peak of Dirty = 2164.3772539660013 at (0, 310, 300)\n",
      "msmfsclean: Moment-moment coupling matrix[scale 0] =\n",
      " [[ 1.00000000e+00 -3.33333176e-02  1.40740746e-02]\n",
      " [-3.33333176e-02  1.40740746e-02 -1.33333308e-03]\n",
      " [ 1.40740746e-02 -1.33333308e-03  3.78600819e-04]]\n",
      "msmfsclean: Moment-moment coupling matrix[scale 1] =\n",
      " [[ 9.28544859e-01 -3.26696030e-02  1.31873151e-02]\n",
      " [-3.26696030e-02  1.31873151e-02 -1.28330142e-03]\n",
      " [ 1.31873151e-02 -1.28330142e-03  3.57193902e-04]]\n",
      "msmfsclean: Moment-moment coupling matrix[scale 2] =\n",
      " [[ 4.17266151e-01 -2.09217775e-02  6.43335158e-03]\n",
      " [-2.09217775e-02  6.43335158e-03 -7.49655619e-04]\n",
      " [ 6.43335158e-03 -7.49655619e-04  1.83980647e-04]]\n",
      "msmfsclean: Moment-moment coupling matrix[scale 3] =\n",
      " [[ 6.89004928e-02 -4.19117680e-03  1.13560137e-03]\n",
      " [-4.19117680e-03  1.13560137e-03 -1.45957461e-04]\n",
      " [ 1.13560137e-03 -1.45957461e-04  3.37097925e-05]]\n",
      "msmfsclean: Max abs in dirty Image = 360.757366\n",
      "msmfsclean: Start of minor cycle\n",
      "msmfsclean: This minor cycle will stop at 300 iterations or peak < 0.36075736592389457\n",
      "msmfsclean: Minor cycle 0, peak [ 340.10815194 -472.82164015  268.45814988] at [309, 306, 0]\n",
      "msmfsclean: Minor cycle 30, peak [ 111.51514006 -181.51583661  316.25377588] at [272, 318, 0]\n",
      "msmfsclean: Minor cycle 60, peak [  58.36121963 -117.11158898  -70.5265191 ] at [260, 234, 0]\n",
      "msmfsclean: Minor cycle 90, peak [ 65.44100072 -82.34472995 471.65656378] at [370, 395, 2]\n",
      "msmfsclean: Minor cycle 120, peak [ 35.40954405 -95.81492971 -34.93656074] at [5, 71, 0]\n",
      "msmfsclean: Minor cycle 150, peak [ 28.91962228 -22.75449834  78.61003879] at [261, 404, 0]\n",
      "msmfsclean: Minor cycle 180, peak [ 24.65727984  -2.94862613 113.95590677] at [288, 415, 0]\n",
      "msmfsclean: Minor cycle 210, peak [ 32.85962149  30.68553961 322.02873328] at [422, 323, 2]\n",
      "msmfsclean: Minor cycle 240, peak [  21.6587315   -39.50612745 -267.84555157] at [420, 474, 0]\n",
      "msmfsclean: Minor cycle 270, peak [-68.42220335  45.12304006 299.48935191] at [419, 0, 3]\n",
      "msmfsclean: End of minor cycles\n",
      "msmfsclean: Scale counts [195  66  18  21]\n",
      "msmfsclean: Scale flux [7613.18439154 4423.95132003  885.38112837  750.48629815]\n",
      "Deconvolve_cube: calculating spectral cubes\n",
      "calculate_image_from_frequency_moments: Reference frequency = 100000000.000 (MHz)\n",
      "calculate_image_from_frequency_moments: Reference frequency = 100000000.000 (MHz)\n",
      "Using optimized algorithm\n",
      "deconvolve_cube: Multi-scale multi-frequency clean of each polarisation separately\n",
      "calculate_image_frequency_moments: Reference frequency = 100000000.000 (MHz)\n",
      "calculate_image_frequency_moments: Reference frequency = 100000000.000 (MHz)\n",
      "deconvolve_cube: Processing pol 0\n",
      "msmfsclean: Peak of PSF = 5.999537246933437 at (0, 256, 256)\n",
      "msmfsclean: Peak of Dirty = 2164.3772539660013 at (0, 310, 300)\n",
      "msmfsclean: Moment-moment coupling matrix[scale 0] =\n",
      " [[ 1.00000000e+00 -3.33333176e-02  1.40740746e-02]\n",
      " [-3.33333176e-02  1.40740746e-02 -1.33333308e-03]\n",
      " [ 1.40740746e-02 -1.33333308e-03  3.78600819e-04]]\n",
      "msmfsclean: Moment-moment coupling matrix[scale 1] =\n",
      " [[ 9.28544859e-01 -3.26696030e-02  1.31873151e-02]\n",
      " [-3.26696030e-02  1.31873151e-02 -1.28330142e-03]\n",
      " [ 1.31873151e-02 -1.28330142e-03  3.57193902e-04]]\n",
      "msmfsclean: Moment-moment coupling matrix[scale 2] =\n",
      " [[ 4.17266151e-01 -2.09217775e-02  6.43335158e-03]\n",
      " [-2.09217775e-02  6.43335158e-03 -7.49655619e-04]\n",
      " [ 6.43335158e-03 -7.49655619e-04  1.83980647e-04]]\n",
      "msmfsclean: Moment-moment coupling matrix[scale 3] =\n",
      " [[ 6.89004928e-02 -4.19117680e-03  1.13560137e-03]\n",
      " [-4.19117680e-03  1.13560137e-03 -1.45957461e-04]\n",
      " [ 1.13560137e-03 -1.45957461e-04  3.37097925e-05]]\n",
      "msmfsclean: Max abs in dirty Image = 360.757366\n",
      "msmfsclean: Start of minor cycle\n",
      "msmfsclean: This minor cycle will stop at 300 iterations or peak < 0.36075736592389457\n",
      "Deconvolve_cube: calculating spectral cubes\n",
      "calculate_image_from_frequency_moments: Reference frequency = 100000000.000 (MHz)\n",
      "calculate_image_from_frequency_moments: Reference frequency = 100000000.000 (MHz)\n"
     ]
    },
    {
     "data": {
      "text/html": [
       "<h3> Deconvolve_cube Time"
      ],
      "text/plain": [
       "<IPython.core.display.HTML object>"
      ]
     },
     "metadata": {},
     "output_type": "display_data"
    },
    {
     "data": {
      "text/html": [
       "<div>\n",
       "<style scoped>\n",
       "    .dataframe tbody tr th:only-of-type {\n",
       "        vertical-align: middle;\n",
       "    }\n",
       "\n",
       "    .dataframe tbody tr th {\n",
       "        vertical-align: top;\n",
       "    }\n",
       "\n",
       "    .dataframe thead th {\n",
       "        text-align: right;\n",
       "    }\n",
       "</style>\n",
       "<table border=\"1\" class=\"dataframe\">\n",
       "  <thead>\n",
       "    <tr style=\"text-align: right;\">\n",
       "      <th></th>\n",
       "      <th>Origin</th>\n",
       "      <th>Optimized</th>\n",
       "    </tr>\n",
       "  </thead>\n",
       "  <tbody>\n",
       "    <tr>\n",
       "      <th>Time(s)</th>\n",
       "      <td>50.5</td>\n",
       "      <td>18.95</td>\n",
       "    </tr>\n",
       "  </tbody>\n",
       "</table>\n",
       "</div>"
      ],
      "text/plain": [
       "         Origin  Optimized\n",
       "Time(s)    50.5      18.95"
      ]
     },
     "metadata": {},
     "output_type": "display_data"
    },
    {
     "name": "stdout",
     "output_type": "stream",
     "text": [
      "restore_cube: psfwidth = Parameter('x_stddev', value=2.1550687817499004)\n"
     ]
    }
   ],
   "source": [
    "# deconvolution\n",
    "\n",
    "start = time.time()\n",
    "comp0, residual0 = deconvolve_cube(dirty, psf, niter=300, gain=0.7, algorithm='msmfsclean',\n",
    "                scales=[0, 3, 10, 30], threshold=0.01, fractional_threshold=0.001, nmoments=3)\n",
    "stop = time.time()\n",
    "time_deconv0 = stop - start\n",
    "\n",
    "start = time.time()\n",
    "comp1, residual1 = deconvolve_cube(dirty, psf, niter=300, gain=0.7, algorithm='msmfsclean',\n",
    "                scales=[0, 3, 10, 30], threshold=0.01, fractional_threshold=0.001, nmoments=3, opt=True)\n",
    "stop = time.time()\n",
    "time_deconv1 = stop - start\n",
    "\n",
    "comp, residual = comp0, residual0\n",
    "\n",
    "display(HTML('<h3> Deconvolve_cube Time'))\n",
    "display(pd.DataFrame(np.around([[time_deconv0, time_deconv1]], decimals=2), \n",
    "                     columns=['Origin', 'Optimized'], index=['Time(s)']))\n",
    "\n",
    "clean = restore_cube(model=comp, psf=psf, residual=residual)\n",
    "export_image_to_fits(clean, '%s/mfs_clean.fits' % (results_dir))"
   ]
  },
  {
   "cell_type": "code",
   "execution_count": 8,
   "metadata": {},
   "outputs": [
    {
     "data": {
      "application/vnd.plotly.v1+json": {
       "data": [
        {
         "cells": {
          "align": [
           "right"
          ],
          "fill": {
           "color": "#F5F8FF"
          },
          "font": {
           "size": 13
          },
          "height": 35,
          "values": [
           [
            "<b>Origin",
            "<b>Optimized",
            "<b>Speedup"
           ],
           [
            "22.63",
            "3.22",
            "x7.0"
           ],
           [
            "36.24",
            "2.08",
            "x17.4"
           ],
           [
            "50.5",
            "18.95",
            "x2.7"
           ],
           [
            "109.37",
            "24.25",
            "x4.5"
           ]
          ]
         },
         "columnwidth": [
          1.4,
          1,
          1,
          1,
          1
         ],
         "domain": {
          "x": [
           0,
           0.5
          ],
          "y": [
           0,
           1
          ]
         },
         "header": {
          "align": [
           "center"
          ],
          "fill": {
           "color": "rgb(54,56,128)"
          },
          "font": {
           "color": "white",
           "size": 13
          },
          "height": 35,
          "values": [
           "",
           "<b>Predict",
           "<b>Invert",
           "<b>Deconv",
           "<b>Total"
          ]
         },
         "type": "table"
        },
        {
         "marker": {
          "color": "rgb(54,141,202)"
         },
         "name": "Origin",
         "type": "bar",
         "width": 0.35,
         "x": [
          "Predict",
          "Invert",
          "Deconv",
          "Total"
         ],
         "y": [
          "22.63",
          "36.24",
          "50.5",
          "109.37"
         ]
        },
        {
         "marker": {
          "color": "rgb(104,85,201)"
         },
         "name": "Optimized",
         "type": "bar",
         "width": 0.35,
         "x": [
          "Predict",
          "Invert",
          "Deconv",
          "Total"
         ],
         "y": [
          "3.22",
          "2.08",
          "18.95",
          "24.25"
         ]
        }
       ],
       "layout": {
        "annotations": [
         {
          "font": {
           "size": 15
          },
          "showarrow": false,
          "text": "<b>Running Time(s)",
          "x": 0.2,
          "xanchor": "left",
          "xref": "paper",
          "y": 1.01,
          "yanchor": "bottom",
          "yref": "paper"
         },
         {
          "font": {
           "size": 15
          },
          "showarrow": false,
          "text": "<b>Compare",
          "x": 0.73,
          "xanchor": "left",
          "xref": "paper",
          "y": 1.01,
          "yanchor": "bottom",
          "yref": "paper"
         }
        ],
        "autosize": false,
        "height": 400,
        "margin": {
         "b": 100,
         "l": 0,
         "r": 0,
         "t": 100
        },
        "title": "<b>Single Image Processing Pipeline",
        "width": 950,
        "xaxis": {
         "domain": [
          0.62,
          0.96
         ],
         "mirror": false,
         "showline": false,
         "tickfont": {
          "size": 11
         },
         "ticklen": 4,
         "zeroline": true
        },
        "yaxis": {
         "domain": [
          0.3,
          1
         ],
         "mirror": false,
         "showline": false,
         "tickfont": {
          "size": 11
         },
         "ticklen": 4,
         "title": "Time(s)",
         "titlefont": {
          "size": 12
         },
         "zeroline": true
        }
       }
      },
      "text/html": [
       "<div id=\"52356c20-8795-47b1-b164-08ff2b3d761e\" style=\"height: 400px; width: 950px;\" class=\"plotly-graph-div\"></div><script type=\"text/javascript\">require([\"plotly\"], function(Plotly) { window.PLOTLYENV=window.PLOTLYENV || {};window.PLOTLYENV.BASE_URL=\"https://plot.ly\";Plotly.newPlot(\"52356c20-8795-47b1-b164-08ff2b3d761e\", [{\"type\": \"table\", \"domain\": {\"x\": [0.0, 0.5], \"y\": [0, 1.0]}, \"columnwidth\": [1.4, 1, 1, 1, 1], \"header\": {\"values\": [\"\", \"<b>Predict\", \"<b>Invert\", \"<b>Deconv\", \"<b>Total\"], \"fill\": {\"color\": \"rgb(54,56,128)\"}, \"align\": [\"center\"], \"font\": {\"color\": \"white\", \"size\": 13}, \"height\": 35}, \"cells\": {\"values\": [[\"<b>Origin\", \"<b>Optimized\", \"<b>Speedup\"], [\"22.63\", \"3.22\", \"x7.0\"], [\"36.24\", \"2.08\", \"x17.4\"], [\"50.5\", \"18.95\", \"x2.7\"], [\"109.37\", \"24.25\", \"x4.5\"]], \"fill\": {\"color\": \"#F5F8FF\"}, \"align\": [\"right\"], \"font\": {\"size\": 13}, \"height\": 35}}, {\"type\": \"bar\", \"x\": [\"Predict\", \"Invert\", \"Deconv\", \"Total\"], \"y\": [\"22.63\", \"36.24\", \"50.5\", \"109.37\"], \"name\": \"Origin\", \"marker\": {\"color\": \"rgb(54,141,202)\"}, \"width\": 0.35}, {\"type\": \"bar\", \"x\": [\"Predict\", \"Invert\", \"Deconv\", \"Total\"], \"y\": [\"3.22\", \"2.08\", \"18.95\", \"24.25\"], \"name\": \"Optimized\", \"marker\": {\"color\": \"rgb(104,85,201)\"}, \"width\": 0.35}], {\"width\": 950, \"height\": 400, \"autosize\": false, \"title\": \"<b>Single Image Processing Pipeline\", \"margin\": {\"t\": 100, \"l\": 0, \"r\": 0, \"b\": 100}, \"xaxis\": {\"showline\": false, \"zeroline\": true, \"mirror\": false, \"ticklen\": 4, \"tickfont\": {\"size\": 11}, \"domain\": [0.62, 0.96]}, \"yaxis\": {\"showline\": false, \"zeroline\": true, \"mirror\": false, \"ticklen\": 4, \"tickfont\": {\"size\": 11}, \"domain\": [0.3, 1], \"title\": \"Time(s)\", \"titlefont\": {\"size\": 12}}, \"annotations\": [{\"showarrow\": false, \"font\": {\"size\": 15}, \"xref\": \"paper\", \"yref\": \"paper\", \"y\": 1.01, \"xanchor\": \"left\", \"yanchor\": \"bottom\", \"text\": \"<b>Running Time(s)\", \"x\": 0.2}, {\"showarrow\": false, \"font\": {\"size\": 15}, \"xref\": \"paper\", \"yref\": \"paper\", \"y\": 1.01, \"xanchor\": \"left\", \"yanchor\": \"bottom\", \"text\": \"<b>Compare\", \"x\": 0.73}]}, {\"showLink\": true, \"linkText\": \"Export to plot.ly\"})});</script>"
      ],
      "text/vnd.plotly.v1+html": [
       "<div id=\"52356c20-8795-47b1-b164-08ff2b3d761e\" style=\"height: 400px; width: 950px;\" class=\"plotly-graph-div\"></div><script type=\"text/javascript\">require([\"plotly\"], function(Plotly) { window.PLOTLYENV=window.PLOTLYENV || {};window.PLOTLYENV.BASE_URL=\"https://plot.ly\";Plotly.newPlot(\"52356c20-8795-47b1-b164-08ff2b3d761e\", [{\"type\": \"table\", \"domain\": {\"x\": [0.0, 0.5], \"y\": [0, 1.0]}, \"columnwidth\": [1.4, 1, 1, 1, 1], \"header\": {\"values\": [\"\", \"<b>Predict\", \"<b>Invert\", \"<b>Deconv\", \"<b>Total\"], \"fill\": {\"color\": \"rgb(54,56,128)\"}, \"align\": [\"center\"], \"font\": {\"color\": \"white\", \"size\": 13}, \"height\": 35}, \"cells\": {\"values\": [[\"<b>Origin\", \"<b>Optimized\", \"<b>Speedup\"], [\"22.63\", \"3.22\", \"x7.0\"], [\"36.24\", \"2.08\", \"x17.4\"], [\"50.5\", \"18.95\", \"x2.7\"], [\"109.37\", \"24.25\", \"x4.5\"]], \"fill\": {\"color\": \"#F5F8FF\"}, \"align\": [\"right\"], \"font\": {\"size\": 13}, \"height\": 35}}, {\"type\": \"bar\", \"x\": [\"Predict\", \"Invert\", \"Deconv\", \"Total\"], \"y\": [\"22.63\", \"36.24\", \"50.5\", \"109.37\"], \"name\": \"Origin\", \"marker\": {\"color\": \"rgb(54,141,202)\"}, \"width\": 0.35}, {\"type\": \"bar\", \"x\": [\"Predict\", \"Invert\", \"Deconv\", \"Total\"], \"y\": [\"3.22\", \"2.08\", \"18.95\", \"24.25\"], \"name\": \"Optimized\", \"marker\": {\"color\": \"rgb(104,85,201)\"}, \"width\": 0.35}], {\"width\": 950, \"height\": 400, \"autosize\": false, \"title\": \"<b>Single Image Processing Pipeline\", \"margin\": {\"t\": 100, \"l\": 0, \"r\": 0, \"b\": 100}, \"xaxis\": {\"showline\": false, \"zeroline\": true, \"mirror\": false, \"ticklen\": 4, \"tickfont\": {\"size\": 11}, \"domain\": [0.62, 0.96]}, \"yaxis\": {\"showline\": false, \"zeroline\": true, \"mirror\": false, \"ticklen\": 4, \"tickfont\": {\"size\": 11}, \"domain\": [0.3, 1], \"title\": \"Time(s)\", \"titlefont\": {\"size\": 12}}, \"annotations\": [{\"showarrow\": false, \"font\": {\"size\": 15}, \"xref\": \"paper\", \"yref\": \"paper\", \"y\": 1.01, \"xanchor\": \"left\", \"yanchor\": \"bottom\", \"text\": \"<b>Running Time(s)\", \"x\": 0.2}, {\"showarrow\": false, \"font\": {\"size\": 15}, \"xref\": \"paper\", \"yref\": \"paper\", \"y\": 1.01, \"xanchor\": \"left\", \"yanchor\": \"bottom\", \"text\": \"<b>Compare\", \"x\": 0.73}]}, {\"showLink\": true, \"linkText\": \"Export to plot.ly\"})});</script>"
      ]
     },
     "metadata": {},
     "output_type": "display_data"
    },
    {
     "data": {
      "application/vnd.plotly.v1+json": {
       "data": [
        {
         "cells": {
          "align": [
           "right"
          ],
          "fill": {
           "color": "#F5F8FF"
          },
          "font": {
           "size": 13
          },
          "height": 35,
          "values": [
           [
            "<b>Origin",
            "<b>Optimized",
            "<b>Speedup"
           ],
           [
            "21.34",
            "0.8",
            "x26.7"
           ],
           [
            "12.42",
            "0.14",
            "x88.7"
           ]
          ]
         },
         "columnwidth": [
          1.4,
          1,
          1
         ],
         "domain": {
          "x": [
           0,
           0.5
          ],
          "y": [
           0,
           1
          ]
         },
         "header": {
          "align": [
           "center"
          ],
          "fill": {
           "color": "rgb(54,56,128)"
          },
          "font": {
           "color": "white",
           "size": 13
          },
          "height": 35,
          "values": [
           "",
           "<b>Gridding",
           "<b>Degridding"
          ]
         },
         "type": "table"
        },
        {
         "marker": {
          "color": "rgb(54,141,202)"
         },
         "name": "Origin",
         "type": "bar",
         "width": 0.35,
         "x": [
          "Gridding",
          "Degridding"
         ],
         "y": [
          "21.34",
          "12.42"
         ]
        },
        {
         "marker": {
          "color": "rgb(104,85,201)"
         },
         "name": "Optimized",
         "type": "bar",
         "width": 0.35,
         "x": [
          "Gridding",
          "Degridding"
         ],
         "y": [
          "0.8",
          "0.14"
         ]
        }
       ],
       "layout": {
        "annotations": [
         {
          "font": {
           "size": 15
          },
          "showarrow": false,
          "text": "<b>Running Time(s)",
          "x": 0.2,
          "xanchor": "left",
          "xref": "paper",
          "y": 1.01,
          "yanchor": "bottom",
          "yref": "paper"
         },
         {
          "font": {
           "size": 15
          },
          "showarrow": false,
          "text": "<b>Compare",
          "x": 0.73,
          "xanchor": "left",
          "xref": "paper",
          "y": 1.01,
          "yanchor": "bottom",
          "yref": "paper"
         }
        ],
        "autosize": false,
        "height": 400,
        "margin": {
         "b": 100,
         "l": 0,
         "r": 0,
         "t": 100
        },
        "title": "<b>Computational Kernel (Gridding)",
        "width": 950,
        "xaxis": {
         "domain": [
          0.62,
          0.96
         ],
         "mirror": false,
         "showline": false,
         "tickfont": {
          "size": 11
         },
         "ticklen": 4,
         "zeroline": true
        },
        "yaxis": {
         "domain": [
          0.3,
          1
         ],
         "mirror": false,
         "showline": false,
         "tickfont": {
          "size": 11
         },
         "ticklen": 4,
         "title": "Time(s)",
         "titlefont": {
          "size": 12
         },
         "zeroline": true
        }
       }
      },
      "text/html": [
       "<div id=\"bc3ae5b8-d661-43c0-b338-d02eee8c2208\" style=\"height: 400px; width: 950px;\" class=\"plotly-graph-div\"></div><script type=\"text/javascript\">require([\"plotly\"], function(Plotly) { window.PLOTLYENV=window.PLOTLYENV || {};window.PLOTLYENV.BASE_URL=\"https://plot.ly\";Plotly.newPlot(\"bc3ae5b8-d661-43c0-b338-d02eee8c2208\", [{\"type\": \"table\", \"domain\": {\"x\": [0.0, 0.5], \"y\": [0, 1.0]}, \"columnwidth\": [1.4, 1, 1], \"header\": {\"values\": [\"\", \"<b>Gridding\", \"<b>Degridding\"], \"fill\": {\"color\": \"rgb(54,56,128)\"}, \"align\": [\"center\"], \"font\": {\"color\": \"white\", \"size\": 13}, \"height\": 35}, \"cells\": {\"values\": [[\"<b>Origin\", \"<b>Optimized\", \"<b>Speedup\"], [\"21.34\", \"0.8\", \"x26.7\"], [\"12.42\", \"0.14\", \"x88.7\"]], \"fill\": {\"color\": \"#F5F8FF\"}, \"align\": [\"right\"], \"font\": {\"size\": 13}, \"height\": 35}}, {\"type\": \"bar\", \"x\": [\"Gridding\", \"Degridding\"], \"y\": [\"21.34\", \"12.42\"], \"name\": \"Origin\", \"marker\": {\"color\": \"rgb(54,141,202)\"}, \"width\": 0.35}, {\"type\": \"bar\", \"x\": [\"Gridding\", \"Degridding\"], \"y\": [\"0.8\", \"0.14\"], \"name\": \"Optimized\", \"marker\": {\"color\": \"rgb(104,85,201)\"}, \"width\": 0.35}], {\"width\": 950, \"height\": 400, \"autosize\": false, \"title\": \"<b>Computational Kernel (Gridding)\", \"margin\": {\"t\": 100, \"l\": 0, \"r\": 0, \"b\": 100}, \"xaxis\": {\"showline\": false, \"zeroline\": true, \"mirror\": false, \"ticklen\": 4, \"tickfont\": {\"size\": 11}, \"domain\": [0.62, 0.96]}, \"yaxis\": {\"showline\": false, \"zeroline\": true, \"mirror\": false, \"ticklen\": 4, \"tickfont\": {\"size\": 11}, \"domain\": [0.3, 1], \"title\": \"Time(s)\", \"titlefont\": {\"size\": 12}}, \"annotations\": [{\"showarrow\": false, \"font\": {\"size\": 15}, \"xref\": \"paper\", \"yref\": \"paper\", \"y\": 1.01, \"xanchor\": \"left\", \"yanchor\": \"bottom\", \"text\": \"<b>Running Time(s)\", \"x\": 0.2}, {\"showarrow\": false, \"font\": {\"size\": 15}, \"xref\": \"paper\", \"yref\": \"paper\", \"y\": 1.01, \"xanchor\": \"left\", \"yanchor\": \"bottom\", \"text\": \"<b>Compare\", \"x\": 0.73}]}, {\"showLink\": true, \"linkText\": \"Export to plot.ly\"})});</script>"
      ],
      "text/vnd.plotly.v1+html": [
       "<div id=\"bc3ae5b8-d661-43c0-b338-d02eee8c2208\" style=\"height: 400px; width: 950px;\" class=\"plotly-graph-div\"></div><script type=\"text/javascript\">require([\"plotly\"], function(Plotly) { window.PLOTLYENV=window.PLOTLYENV || {};window.PLOTLYENV.BASE_URL=\"https://plot.ly\";Plotly.newPlot(\"bc3ae5b8-d661-43c0-b338-d02eee8c2208\", [{\"type\": \"table\", \"domain\": {\"x\": [0.0, 0.5], \"y\": [0, 1.0]}, \"columnwidth\": [1.4, 1, 1], \"header\": {\"values\": [\"\", \"<b>Gridding\", \"<b>Degridding\"], \"fill\": {\"color\": \"rgb(54,56,128)\"}, \"align\": [\"center\"], \"font\": {\"color\": \"white\", \"size\": 13}, \"height\": 35}, \"cells\": {\"values\": [[\"<b>Origin\", \"<b>Optimized\", \"<b>Speedup\"], [\"21.34\", \"0.8\", \"x26.7\"], [\"12.42\", \"0.14\", \"x88.7\"]], \"fill\": {\"color\": \"#F5F8FF\"}, \"align\": [\"right\"], \"font\": {\"size\": 13}, \"height\": 35}}, {\"type\": \"bar\", \"x\": [\"Gridding\", \"Degridding\"], \"y\": [\"21.34\", \"12.42\"], \"name\": \"Origin\", \"marker\": {\"color\": \"rgb(54,141,202)\"}, \"width\": 0.35}, {\"type\": \"bar\", \"x\": [\"Gridding\", \"Degridding\"], \"y\": [\"0.8\", \"0.14\"], \"name\": \"Optimized\", \"marker\": {\"color\": \"rgb(104,85,201)\"}, \"width\": 0.35}], {\"width\": 950, \"height\": 400, \"autosize\": false, \"title\": \"<b>Computational Kernel (Gridding)\", \"margin\": {\"t\": 100, \"l\": 0, \"r\": 0, \"b\": 100}, \"xaxis\": {\"showline\": false, \"zeroline\": true, \"mirror\": false, \"ticklen\": 4, \"tickfont\": {\"size\": 11}, \"domain\": [0.62, 0.96]}, \"yaxis\": {\"showline\": false, \"zeroline\": true, \"mirror\": false, \"ticklen\": 4, \"tickfont\": {\"size\": 11}, \"domain\": [0.3, 1], \"title\": \"Time(s)\", \"titlefont\": {\"size\": 12}}, \"annotations\": [{\"showarrow\": false, \"font\": {\"size\": 15}, \"xref\": \"paper\", \"yref\": \"paper\", \"y\": 1.01, \"xanchor\": \"left\", \"yanchor\": \"bottom\", \"text\": \"<b>Running Time(s)\", \"x\": 0.2}, {\"showarrow\": false, \"font\": {\"size\": 15}, \"xref\": \"paper\", \"yref\": \"paper\", \"y\": 1.01, \"xanchor\": \"left\", \"yanchor\": \"bottom\", \"text\": \"<b>Compare\", \"x\": 0.73}]}, {\"showLink\": true, \"linkText\": \"Export to plot.ly\"})});</script>"
      ]
     },
     "metadata": {},
     "output_type": "display_data"
    },
    {
     "data": {
      "application/vnd.plotly.v1+json": {
       "data": [
        {
         "cells": {
          "align": [
           "right"
          ],
          "fill": {
           "color": "#F5F8FF"
          },
          "font": {
           "size": 13
          },
          "height": 35,
          "values": [
           [
            "<b>Origin",
            "<b>Optimized",
            "<b>Speedup"
           ],
           [
            "1.36",
            "0.76",
            "x1.8"
           ],
           [
            "0.78",
            "0.25",
            "x3.1"
           ]
          ]
         },
         "columnwidth": [
          1.4,
          1,
          1
         ],
         "domain": {
          "x": [
           0,
           0.5
          ],
          "y": [
           0,
           1
          ]
         },
         "header": {
          "align": [
           "center"
          ],
          "fill": {
           "color": "rgb(54,56,128)"
          },
          "font": {
           "color": "white",
           "size": 13
          },
          "height": 35,
          "values": [
           "",
           "<b>FFT",
           "<b>IFFT"
          ]
         },
         "type": "table"
        },
        {
         "marker": {
          "color": "rgb(54,141,202)"
         },
         "name": "Origin",
         "type": "bar",
         "width": 0.35,
         "x": [
          "FFT",
          "IFFT"
         ],
         "y": [
          "1.36",
          "0.78"
         ]
        },
        {
         "marker": {
          "color": "rgb(104,85,201)"
         },
         "name": "Optimized",
         "type": "bar",
         "width": 0.35,
         "x": [
          "FFT",
          "IFFT"
         ],
         "y": [
          "0.76",
          "0.25"
         ]
        }
       ],
       "layout": {
        "annotations": [
         {
          "font": {
           "size": 15
          },
          "showarrow": false,
          "text": "<b>Running Time(s)",
          "x": 0.2,
          "xanchor": "left",
          "xref": "paper",
          "y": 1.01,
          "yanchor": "bottom",
          "yref": "paper"
         },
         {
          "font": {
           "size": 15
          },
          "showarrow": false,
          "text": "<b>Compare",
          "x": 0.73,
          "xanchor": "left",
          "xref": "paper",
          "y": 1.01,
          "yanchor": "bottom",
          "yref": "paper"
         }
        ],
        "autosize": false,
        "height": 400,
        "margin": {
         "b": 100,
         "l": 0,
         "r": 0,
         "t": 100
        },
        "title": "<b>Computational Kernel (FFT)",
        "width": 950,
        "xaxis": {
         "domain": [
          0.62,
          0.96
         ],
         "mirror": false,
         "showline": false,
         "tickfont": {
          "size": 11
         },
         "ticklen": 4,
         "zeroline": true
        },
        "yaxis": {
         "domain": [
          0.3,
          1
         ],
         "mirror": false,
         "showline": false,
         "tickfont": {
          "size": 11
         },
         "ticklen": 4,
         "title": "Time(s)",
         "titlefont": {
          "size": 12
         },
         "zeroline": true
        }
       }
      },
      "text/html": [
       "<div id=\"e974862c-ae0a-4107-8409-4d2ec115f19d\" style=\"height: 400px; width: 950px;\" class=\"plotly-graph-div\"></div><script type=\"text/javascript\">require([\"plotly\"], function(Plotly) { window.PLOTLYENV=window.PLOTLYENV || {};window.PLOTLYENV.BASE_URL=\"https://plot.ly\";Plotly.newPlot(\"e974862c-ae0a-4107-8409-4d2ec115f19d\", [{\"type\": \"table\", \"domain\": {\"x\": [0.0, 0.5], \"y\": [0, 1.0]}, \"columnwidth\": [1.4, 1, 1], \"header\": {\"values\": [\"\", \"<b>FFT\", \"<b>IFFT\"], \"fill\": {\"color\": \"rgb(54,56,128)\"}, \"align\": [\"center\"], \"font\": {\"color\": \"white\", \"size\": 13}, \"height\": 35}, \"cells\": {\"values\": [[\"<b>Origin\", \"<b>Optimized\", \"<b>Speedup\"], [\"1.36\", \"0.76\", \"x1.8\"], [\"0.78\", \"0.25\", \"x3.1\"]], \"fill\": {\"color\": \"#F5F8FF\"}, \"align\": [\"right\"], \"font\": {\"size\": 13}, \"height\": 35}}, {\"type\": \"bar\", \"x\": [\"FFT\", \"IFFT\"], \"y\": [\"1.36\", \"0.78\"], \"name\": \"Origin\", \"marker\": {\"color\": \"rgb(54,141,202)\"}, \"width\": 0.35}, {\"type\": \"bar\", \"x\": [\"FFT\", \"IFFT\"], \"y\": [\"0.76\", \"0.25\"], \"name\": \"Optimized\", \"marker\": {\"color\": \"rgb(104,85,201)\"}, \"width\": 0.35}], {\"width\": 950, \"height\": 400, \"autosize\": false, \"title\": \"<b>Computational Kernel (FFT)\", \"margin\": {\"t\": 100, \"l\": 0, \"r\": 0, \"b\": 100}, \"xaxis\": {\"showline\": false, \"zeroline\": true, \"mirror\": false, \"ticklen\": 4, \"tickfont\": {\"size\": 11}, \"domain\": [0.62, 0.96]}, \"yaxis\": {\"showline\": false, \"zeroline\": true, \"mirror\": false, \"ticklen\": 4, \"tickfont\": {\"size\": 11}, \"domain\": [0.3, 1], \"title\": \"Time(s)\", \"titlefont\": {\"size\": 12}}, \"annotations\": [{\"showarrow\": false, \"font\": {\"size\": 15}, \"xref\": \"paper\", \"yref\": \"paper\", \"y\": 1.01, \"xanchor\": \"left\", \"yanchor\": \"bottom\", \"text\": \"<b>Running Time(s)\", \"x\": 0.2}, {\"showarrow\": false, \"font\": {\"size\": 15}, \"xref\": \"paper\", \"yref\": \"paper\", \"y\": 1.01, \"xanchor\": \"left\", \"yanchor\": \"bottom\", \"text\": \"<b>Compare\", \"x\": 0.73}]}, {\"showLink\": true, \"linkText\": \"Export to plot.ly\"})});</script>"
      ],
      "text/vnd.plotly.v1+html": [
       "<div id=\"e974862c-ae0a-4107-8409-4d2ec115f19d\" style=\"height: 400px; width: 950px;\" class=\"plotly-graph-div\"></div><script type=\"text/javascript\">require([\"plotly\"], function(Plotly) { window.PLOTLYENV=window.PLOTLYENV || {};window.PLOTLYENV.BASE_URL=\"https://plot.ly\";Plotly.newPlot(\"e974862c-ae0a-4107-8409-4d2ec115f19d\", [{\"type\": \"table\", \"domain\": {\"x\": [0.0, 0.5], \"y\": [0, 1.0]}, \"columnwidth\": [1.4, 1, 1], \"header\": {\"values\": [\"\", \"<b>FFT\", \"<b>IFFT\"], \"fill\": {\"color\": \"rgb(54,56,128)\"}, \"align\": [\"center\"], \"font\": {\"color\": \"white\", \"size\": 13}, \"height\": 35}, \"cells\": {\"values\": [[\"<b>Origin\", \"<b>Optimized\", \"<b>Speedup\"], [\"1.36\", \"0.76\", \"x1.8\"], [\"0.78\", \"0.25\", \"x3.1\"]], \"fill\": {\"color\": \"#F5F8FF\"}, \"align\": [\"right\"], \"font\": {\"size\": 13}, \"height\": 35}}, {\"type\": \"bar\", \"x\": [\"FFT\", \"IFFT\"], \"y\": [\"1.36\", \"0.78\"], \"name\": \"Origin\", \"marker\": {\"color\": \"rgb(54,141,202)\"}, \"width\": 0.35}, {\"type\": \"bar\", \"x\": [\"FFT\", \"IFFT\"], \"y\": [\"0.76\", \"0.25\"], \"name\": \"Optimized\", \"marker\": {\"color\": \"rgb(104,85,201)\"}, \"width\": 0.35}], {\"width\": 950, \"height\": 400, \"autosize\": false, \"title\": \"<b>Computational Kernel (FFT)\", \"margin\": {\"t\": 100, \"l\": 0, \"r\": 0, \"b\": 100}, \"xaxis\": {\"showline\": false, \"zeroline\": true, \"mirror\": false, \"ticklen\": 4, \"tickfont\": {\"size\": 11}, \"domain\": [0.62, 0.96]}, \"yaxis\": {\"showline\": false, \"zeroline\": true, \"mirror\": false, \"ticklen\": 4, \"tickfont\": {\"size\": 11}, \"domain\": [0.3, 1], \"title\": \"Time(s)\", \"titlefont\": {\"size\": 12}}, \"annotations\": [{\"showarrow\": false, \"font\": {\"size\": 15}, \"xref\": \"paper\", \"yref\": \"paper\", \"y\": 1.01, \"xanchor\": \"left\", \"yanchor\": \"bottom\", \"text\": \"<b>Running Time(s)\", \"x\": 0.2}, {\"showarrow\": false, \"font\": {\"size\": 15}, \"xref\": \"paper\", \"yref\": \"paper\", \"y\": 1.01, \"xanchor\": \"left\", \"yanchor\": \"bottom\", \"text\": \"<b>Compare\", \"x\": 0.73}]}, {\"showLink\": true, \"linkText\": \"Export to plot.ly\"})});</script>"
      ]
     },
     "metadata": {},
     "output_type": "display_data"
    }
   ],
   "source": [
    "# Single Image Processing Pipeline\n",
    "origin = add_arr_sum([time_pred0, time_inv0, time_deconv0])\n",
    "optimized = add_arr_sum([time_pred1, time_inv1, time_deconv1])\n",
    "columns = ['Predict', 'Invert', 'Deconv', 'Total']\n",
    "fig_title = 'Single Image Processing Pipeline'\n",
    "show(origin, optimized, columns, fig_title)\n",
    "\n",
    "\n",
    "# Computational Kernel\n",
    "origin = np.around([time_grid0, time_degrid0], decimals=2)\n",
    "optimized = np.around([time_grid1, time_degrid1], decimals=2)\n",
    "columns = ['Gridding', 'Degridding']\n",
    "fig_title = 'Computational Kernel (Gridding)'\n",
    "show(origin, optimized, columns, fig_title)\n",
    "\n",
    "origin = np.around([time_fft0, time_ifft0], decimals=2)\n",
    "optimized = np.around([time_fft1, time_ifft1], decimals=2)\n",
    "columns = ['FFT', 'IFFT']\n",
    "fig_title = 'Computational Kernel (FFT)'\n",
    "show(origin, optimized, columns, fig_title)"
   ]
  },
  {
   "cell_type": "code",
   "execution_count": null,
   "metadata": {},
   "outputs": [],
   "source": []
  }
 ],
 "metadata": {
  "kernelspec": {
   "display_name": "Python 3",
   "language": "python",
   "name": "python3"
  },
  "language_info": {
   "codemirror_mode": {
    "name": "ipython",
    "version": 3
   },
   "file_extension": ".py",
   "mimetype": "text/x-python",
   "name": "python",
   "nbconvert_exporter": "python",
   "pygments_lexer": "ipython3",
   "version": "3.6.3"
  }
 },
 "nbformat": 4,
 "nbformat_minor": 2
}
