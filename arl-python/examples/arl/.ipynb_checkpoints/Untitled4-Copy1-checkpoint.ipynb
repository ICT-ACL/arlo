{
 "cells": [
  {
   "cell_type": "code",
   "execution_count": 1,
   "metadata": {},
   "outputs": [
    {
     "data": {
      "text/html": [
       "<script>requirejs.config({paths: { 'plotly': ['https://cdn.plot.ly/plotly-latest.min']},});if(!window.Plotly) {{require(['plotly'],function(plotly) {window.Plotly=plotly;});}}</script>"
      ],
      "text/vnd.plotly.v1+html": [
       "<script>requirejs.config({paths: { 'plotly': ['https://cdn.plot.ly/plotly-latest.min']},});if(!window.Plotly) {{require(['plotly'],function(plotly) {window.Plotly=plotly;});}}</script>"
      ]
     },
     "metadata": {},
     "output_type": "display_data"
    }
   ],
   "source": [
    "import pandas as pd\n",
    "import numpy as np\n",
    "\n",
    "import plotly.offline as py\n",
    "import plotly.graph_objs as go\n",
    "\n",
    "py.init_notebook_mode(connected=True)"
   ]
  },
  {
   "cell_type": "code",
   "execution_count": 7,
   "metadata": {},
   "outputs": [],
   "source": [
    "# plot table and bar chart\n",
    "def plot_table_bar(time_array, columns, index, **titles):\n",
    "    fig_title = titles['fig_title']\n",
    "    table_title = titles['table_title']\n",
    "    bar_title = titles['bar_title']\n",
    "\n",
    "    # change numpy array to pandas dataFrame\n",
    "    df = pd.DataFrame(time_array, columns=columns, index=index)\n",
    "\n",
    "    # table trace\n",
    "    trace_table = go.Table(\n",
    "        domain=dict(x= [0.0, 0.5], y= [0, 1.0]),\n",
    "        columnwidth = [1.4] + [1] * len(columns),\n",
    "\n",
    "        header=dict(\n",
    "            values = [''] + ['<b>'+col for col in columns],\n",
    "            fill = dict(color='rgb(54,56,128)'),\n",
    "            align = ['center'],\n",
    "            font = dict(color='white', size=13),\n",
    "            height = 35,\n",
    "        ),\n",
    "\n",
    "        cells=dict(\n",
    "            values = [['<b>'+idx for idx in list(algorithms)]]\n",
    "                    + [df.iloc[:,j] for j in range(df.shape[1])],\n",
    "            fill = dict(color='#F5F8FF'),\n",
    "            align = ['right'],\n",
    "            font = dict(size=13),\n",
    "            height = 35,\n",
    "        )\n",
    "    )\n",
    "\n",
    "    # bar traces\n",
    "    trace_b1 = go.Bar(\n",
    "        x = columns, y = df.loc[index[0]], name = index[0],\n",
    "        marker=dict(color='rgb(54,141,202)'), width=0.35,\n",
    "    )\n",
    "    trace_b2 = go.Bar(\n",
    "        x = columns, y = df.loc[index[1]], name = index[1],\n",
    "        marker=dict(color='rgb(104,85,201)'), width=0.35,\n",
    "    )\n",
    "    trace_bar = [trace_b1, trace_b2]\n",
    "\n",
    "    # layout\n",
    "    axis=dict(showline=False, zeroline=True, mirror=False, \n",
    "        ticklen=4, tickfont=dict(size=11)\n",
    "    )\n",
    "    title = dict(showarrow=False, font=dict(size=15),\n",
    "        xref='paper', yref='paper', y=1.01,  \n",
    "        xanchor='left', yanchor='bottom',\n",
    "    )\n",
    "    layout = dict(width=950, height=400, autosize=False, \n",
    "        title='<b>' + fig_title,\n",
    "        margin = dict(t=100,l=0,r=0,b=100),\n",
    "        xaxis=dict(axis, **dict(domain=[0.62,0.96])),\n",
    "        yaxis=dict(axis, **dict(domain=[0.3,1], title='Time(s)', titlefont=dict(size=12))),\n",
    "        annotations=\n",
    "          [dict(title, **dict(text='<b>' + table_title, x=0.2)), \n",
    "           dict(title, **dict(text='<b>' + bar_title, x=0.73))]\n",
    "    )\n",
    "\n",
    "    # plot table and figure\n",
    "    fig = dict(data=[trace_table] + trace_bar, layout=layout)\n",
    "    py.iplot(fig)"
   ]
  },
  {
   "cell_type": "code",
   "execution_count": 8,
   "metadata": {},
   "outputs": [],
   "source": [
    "def get_time_array(*arrs):\n",
    "    time_array = np.array(arrs)\n",
    "    time_array = np.around(np.append(time_array, time_array.sum()), decimals=2)\n",
    "    return time_array"
   ]
  },
  {
   "cell_type": "code",
   "execution_count": 9,
   "metadata": {},
   "outputs": [],
   "source": [
    "elapsed_pred0 = 24.8564356\n",
    "elapsed_inv0 = 37.55436456\n",
    "elapsed_deconv0 = 136.26543645\n",
    "elapsed_pred1 = 1.6654363\n",
    "elapsed_inv1 = 2.1656534\n",
    "elapsed_deconv1 = 36.70543"
   ]
  },
  {
   "cell_type": "code",
   "execution_count": 10,
   "metadata": {},
   "outputs": [
    {
     "name": "stdout",
     "output_type": "stream",
     "text": [
      "{'titles': ['Single Image Processing Pipeline', 'Running Time(s)', 'Compare']}\n"
     ]
    },
    {
     "ename": "KeyError",
     "evalue": "'fig_title'",
     "output_type": "error",
     "traceback": [
      "\u001b[0;31m---------------------------------------------------------------------------\u001b[0m",
      "\u001b[0;31mKeyError\u001b[0m                                  Traceback (most recent call last)",
      "\u001b[0;32m<ipython-input-10-eb54a6ea00e0>\u001b[0m in \u001b[0;36m<module>\u001b[0;34m()\u001b[0m\n\u001b[1;32m     11\u001b[0m \u001b[0mbar_title\u001b[0m \u001b[0;34m=\u001b[0m \u001b[0;34m'Compare'\u001b[0m\u001b[0;34m\u001b[0m\u001b[0m\n\u001b[1;32m     12\u001b[0m \u001b[0;34m\u001b[0m\u001b[0m\n\u001b[0;32m---> 13\u001b[0;31m \u001b[0mplot_table_bar\u001b[0m\u001b[0;34m(\u001b[0m\u001b[0msummerize\u001b[0m\u001b[0;34m,\u001b[0m \u001b[0mcolumns\u001b[0m\u001b[0;34m,\u001b[0m \u001b[0malgorithms\u001b[0m\u001b[0;34m,\u001b[0m \u001b[0mtitles\u001b[0m\u001b[0;34m=\u001b[0m\u001b[0;34m[\u001b[0m\u001b[0mfig_title\u001b[0m\u001b[0;34m,\u001b[0m \u001b[0mtable_title\u001b[0m\u001b[0;34m,\u001b[0m \u001b[0mbar_title\u001b[0m\u001b[0;34m]\u001b[0m\u001b[0;34m)\u001b[0m\u001b[0;34m\u001b[0m\u001b[0m\n\u001b[0m",
      "\u001b[0;32m<ipython-input-7-7c69713dd18d>\u001b[0m in \u001b[0;36mplot_table_bar\u001b[0;34m(time_array, columns, index, **titles)\u001b[0m\n\u001b[1;32m      2\u001b[0m \u001b[0;32mdef\u001b[0m \u001b[0mplot_table_bar\u001b[0m\u001b[0;34m(\u001b[0m\u001b[0mtime_array\u001b[0m\u001b[0;34m,\u001b[0m \u001b[0mcolumns\u001b[0m\u001b[0;34m,\u001b[0m \u001b[0mindex\u001b[0m\u001b[0;34m,\u001b[0m \u001b[0;34m**\u001b[0m\u001b[0mtitles\u001b[0m\u001b[0;34m)\u001b[0m\u001b[0;34m:\u001b[0m\u001b[0;34m\u001b[0m\u001b[0m\n\u001b[1;32m      3\u001b[0m     \u001b[0mprint\u001b[0m\u001b[0;34m(\u001b[0m\u001b[0mtitles\u001b[0m\u001b[0;34m)\u001b[0m\u001b[0;34m\u001b[0m\u001b[0m\n\u001b[0;32m----> 4\u001b[0;31m     \u001b[0mfig_title\u001b[0m \u001b[0;34m=\u001b[0m \u001b[0mtitles\u001b[0m\u001b[0;34m[\u001b[0m\u001b[0;34m'fig_title'\u001b[0m\u001b[0;34m]\u001b[0m\u001b[0;34m\u001b[0m\u001b[0m\n\u001b[0m\u001b[1;32m      5\u001b[0m     \u001b[0mtable_title\u001b[0m \u001b[0;34m=\u001b[0m \u001b[0mtitles\u001b[0m\u001b[0;34m[\u001b[0m\u001b[0;34m'table_title'\u001b[0m\u001b[0;34m]\u001b[0m\u001b[0;34m\u001b[0m\u001b[0m\n\u001b[1;32m      6\u001b[0m     \u001b[0mbar_title\u001b[0m \u001b[0;34m=\u001b[0m \u001b[0mtitles\u001b[0m\u001b[0;34m[\u001b[0m\u001b[0;34m'bar_title'\u001b[0m\u001b[0;34m]\u001b[0m\u001b[0;34m\u001b[0m\u001b[0m\n",
      "\u001b[0;31mKeyError\u001b[0m: 'fig_title'"
     ]
    }
   ],
   "source": [
    "origin = get_time_array([elapsed_pred0, elapsed_inv0, elapsed_deconv0])\n",
    "optimized = get_time_array([elapsed_pred1, elapsed_inv1, elapsed_deconv1])\n",
    "speedup = ['x{:.1f}'.format(s) for s in origin / optimized]\n",
    "\n",
    "summerize = np.array([origin, optimized, speedup])\n",
    "columns = ['Predict', 'Invert', 'Deconv', 'Total']\n",
    "algorithms = ['Origin', 'Optimized', 'Speedup']\n",
    "\n",
    "fig_title = 'Single Image Processing Pipeline'\n",
    "table_title = 'Running Time(s)'\n",
    "bar_title = 'Compare'\n",
    "\n",
    "plot_table_bar(summerize, columns, algorithms, \n",
    "               fig_title=fig_title, table_title=table_title, bar_title=bar_title)"
   ]
  },
  {
   "cell_type": "code",
   "execution_count": null,
   "metadata": {},
   "outputs": [],
   "source": []
  }
 ],
 "metadata": {
  "kernelspec": {
   "display_name": "Python 3",
   "language": "python",
   "name": "python3"
  },
  "language_info": {
   "codemirror_mode": {
    "name": "ipython",
    "version": 3
   },
   "file_extension": ".py",
   "mimetype": "text/x-python",
   "name": "python",
   "nbconvert_exporter": "python",
   "pygments_lexer": "ipython3",
   "version": "3.6.4"
  }
 },
 "nbformat": 4,
 "nbformat_minor": 2
}
