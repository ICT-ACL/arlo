{
 "cells": [
  {
   "cell_type": "markdown",
   "metadata": {},
   "source": [
    "# Calibration using graphs"
   ]
  },
  {
   "cell_type": "code",
   "execution_count": null,
   "metadata": {},
   "outputs": [],
   "source": [
    "%matplotlib inline\n",
    "\n",
    "import os\n",
    "import sys\n",
    "\n",
    "results_dir = './results'\n",
    "os.makedirs(results_dir, exist_ok=True)\n",
    "\n",
    "from functools import partial\n",
    "from dask import delayed\n",
    "from distributed import progress\n",
    "import dask.bag as bag\n",
    "\n",
    "sys.path.append(os.path.join('..', '..'))\n",
    "\n",
    "results_dir = './results'\n",
    "os.makedirs(results_dir, exist_ok=True)\n",
    "\n",
    "from matplotlib import pylab\n",
    "\n",
    "pylab.rcParams['figure.figsize'] = (12.0, 12.0)\n",
    "pylab.rcParams['image.cmap'] = 'rainbow'\n",
    "\n",
    "import numpy\n",
    "\n",
    "from astropy.coordinates import SkyCoord\n",
    "from astropy import units as u\n",
    "from astropy.wcs.utils import pixel_to_skycoord\n",
    "\n",
    "from matplotlib import pyplot as plt\n",
    "\n",
    "from arl.calibration.solvers import solve_gaintable\n",
    "from arl.calibration.operations import apply_gaintable\n",
    "from arl.data.data_models import Image\n",
    "from arl.data.polarisation import PolarisationFrame\n",
    "from arl.data.parameters import get_parameter\n",
    "from arl.visibility.base import create_blockvisibility\n",
    "from arl.skycomponent.operations import create_skycomponent\n",
    "from arl.image.deconvolution import deconvolve_cube\n",
    "from arl.image.operations import show_image\n",
    "from arl.image.iterators import  image_raster_iter\n",
    "from arl.visibility.iterators import vis_timeslice_iter\n",
    "from arl.util.testing_support import create_named_configuration\n",
    "from arl.imaging import predict_2d, advise_wide_field\n",
    "    \n",
    "from arl.graphs.dask_init import get_dask_Client\n",
    "from arl.graphs.graphs import create_invert_wstack_graph, create_predict_wstack_graph, \\\n",
    "    create_selfcal_graph_list\n",
    "from arl.graphs.generic_graphs import create_generic_image_graph\n",
    "from arl.util.graph_support import create_simulate_vis_graph, \\\n",
    "    create_predict_gleam_model_graph, create_corrupt_vis_graph, \\\n",
    "    create_gleam_model_graph\n",
    "from arl.pipelines.graphs import create_continuum_imaging_pipeline_graph\n",
    "from arl.graphs.vis import simple_vis\n",
    "\n",
    "import logging\n",
    "\n",
    "log = logging.getLogger()\n",
    "log.setLevel(logging.DEBUG)\n",
    "log.addHandler(logging.StreamHandler(sys.stdout))"
   ]
  },
  {
   "cell_type": "code",
   "execution_count": null,
   "metadata": {
    "scrolled": false
   },
   "outputs": [],
   "source": [
    "c=get_dask_Client()"
   ]
  },
  {
   "cell_type": "markdown",
   "metadata": {},
   "source": [
    "We create a graph to make the visibility "
   ]
  },
  {
   "cell_type": "code",
   "execution_count": null,
   "metadata": {
    "scrolled": false
   },
   "outputs": [],
   "source": [
    "nfreqwin=3\n",
    "ntimes=5\n",
    "frequency=numpy.linspace(0.8e8,1.2e8,nfreqwin)\n",
    "if nfreqwin > 1:\n",
    "    channel_bandwidth=numpy.array(nfreqwin*[frequency[1]-frequency[0]])\n",
    "else:\n",
    "    channel_bandwidth=numpy.array([1e7])\n",
    "times = numpy.linspace(-numpy.pi/3.0, numpy.pi/3.0, ntimes)\n",
    "phasecentre=SkyCoord(ra=+30.0 * u.deg, dec=-60.0 * u.deg, frame='icrs', equinox='J2000')\n",
    "\n",
    "vis_graph_list=create_simulate_vis_graph('LOWBD2-CORE',\n",
    "                                         frequency=frequency, \n",
    "                                         channel_bandwidth=channel_bandwidth,\n",
    "                                         times=times,\n",
    "                                         phasecentre=phasecentre)"
   ]
  },
  {
   "cell_type": "markdown",
   "metadata": {},
   "source": [
    "Find the optimum values for wide field imaging"
   ]
  },
  {
   "cell_type": "code",
   "execution_count": null,
   "metadata": {
    "scrolled": false
   },
   "outputs": [],
   "source": [
    "wprojection_planes=1\n",
    "advice=advise_wide_field(vis_graph_list[0].compute(), guard_band_image=4.0, delA=0.02,\n",
    "                         wprojection_planes=wprojection_planes)\n",
    "vis_slices = advice['vis_slices']"
   ]
  },
  {
   "cell_type": "markdown",
   "metadata": {},
   "source": [
    "Now make a graph to fill with a model drawn from GLEAM. We then add phase errors of off 1 radian rms to each station. We will compute this graph in order not to confuse it's processing with the imaging. "
   ]
  },
  {
   "cell_type": "code",
   "execution_count": null,
   "metadata": {},
   "outputs": [],
   "source": [
    "corrupted_vis_graph_list = create_predict_gleam_model_graph(vis_graph_list,\n",
    "                                                            frequency=[frequency[len(frequency)//2]],\n",
    "                                                            channel_bandwidth=[channel_bandwidth[len(frequency)//2]],\n",
    "                                                            c_predict_graph=create_predict_wstack_graph,\n",
    "                                                                vis_slices=vis_slices)\n",
    "corrupted_vis_graph_list = create_corrupt_vis_graph(corrupted_vis_graph_list, \n",
    "                                                    phase_error=1.0)\n",
    "corrupted_vis_graph_list=c.compute(corrupted_vis_graph_list)"
   ]
  },
  {
   "cell_type": "markdown",
   "metadata": {},
   "source": [
    "Now make a graph to construct the LSM. The LSM is drawn from GLEAM as well but only includes sources brighter than 1 Jy"
   ]
  },
  {
   "cell_type": "code",
   "execution_count": null,
   "metadata": {
    "scrolled": false
   },
   "outputs": [],
   "source": [
    "LSM_graph=create_gleam_model_graph(vis_graph_list[len(vis_graph_list)//2],\n",
    "                                   frequency=[frequency[len(frequency)//2]],\n",
    "                                   channel_bandwidth=[channel_bandwidth[len(frequency)//2]],\n",
    "                                   flux_limit=1.0).compute()"
   ]
  },
  {
   "cell_type": "markdown",
   "metadata": {},
   "source": [
    "Now make a dirty image to see the effect of the phase errors introduced"
   ]
  },
  {
   "cell_type": "code",
   "execution_count": null,
   "metadata": {
    "scrolled": false
   },
   "outputs": [],
   "source": [
    "dirty_graph = create_invert_wstack_graph(corrupted_vis_graph_list, LSM_graph,\n",
    "                                         vis_slices=vis_slices, dopsf=False)\n",
    "future=c.compute(dirty_graph)\n",
    "dirty=future.result()[0]\n",
    "show_image(dirty, title='No selfcal')\n",
    "plt.show()"
   ]
  },
  {
   "cell_type": "markdown",
   "metadata": {},
   "source": [
    "First make a selfcal graph in which the different Visibility's are selfcal'ed independently. We will look at the graph for just one Visibility."
   ]
  },
  {
   "cell_type": "code",
   "execution_count": null,
   "metadata": {
    "scrolled": false
   },
   "outputs": [],
   "source": [
    "selfcal_vis_graph_list = create_selfcal_graph_list(corrupted_vis_graph_list, LSM_graph,\n",
    "                                                   c_predict_graph=create_predict_wstack_graph,\n",
    "                                                   vis_slices=vis_slices,\n",
    "                                                   global_solution=False)\n",
    "simple_vis(selfcal_vis_graph_list[0])"
   ]
  },
  {
   "cell_type": "markdown",
   "metadata": {},
   "source": [
    "Now make a global solution. Note that all Visibilities are now coupled."
   ]
  },
  {
   "cell_type": "code",
   "execution_count": null,
   "metadata": {
    "scrolled": false
   },
   "outputs": [],
   "source": [
    "selfcal_vis_graph_list = create_selfcal_graph_list(corrupted_vis_graph_list, LSM_graph,\n",
    "                                                   c_predict_graph=create_predict_wstack_graph,\n",
    "                                                   vis_slices=vis_slices,\n",
    "                                                   global_solution=True)\n",
    "simple_vis(selfcal_vis_graph_list[0])"
   ]
  },
  {
   "cell_type": "markdown",
   "metadata": {},
   "source": [
    "The graph for making the dirty image now shows a global synchronisation point. We alleviate this by only sending averaged visibilities to the gather step before averaging over the solution interval, the model visibility is divided out. Only the gaintable is sent back for application."
   ]
  },
  {
   "cell_type": "code",
   "execution_count": null,
   "metadata": {
    "scrolled": false
   },
   "outputs": [],
   "source": [
    "dirty_graph = create_invert_wstack_graph(selfcal_vis_graph_list, LSM_graph, facets=2,\n",
    "                                         vis_slices=vis_slices, dopsf=False)\n",
    "simple_vis(dirty_graph)"
   ]
  },
  {
   "cell_type": "code",
   "execution_count": null,
   "metadata": {
    "scrolled": false
   },
   "outputs": [],
   "source": [
    "future=c.compute(dirty_graph)\n",
    "dirty=future.result()[0]\n",
    "show_image(dirty, title='With selfcal')\n",
    "plt.show()"
   ]
  },
  {
   "cell_type": "code",
   "execution_count": null,
   "metadata": {
    "scrolled": true
   },
   "outputs": [],
   "source": [
    "c.shutdown()"
   ]
  },
  {
   "cell_type": "code",
   "execution_count": null,
   "metadata": {},
   "outputs": [],
   "source": []
  }
 ],
 "metadata": {
  "kernelspec": {
   "display_name": "Python 3",
   "language": "python",
   "name": "python3"
  },
  "language_info": {
   "codemirror_mode": {
    "name": "ipython",
    "version": 3
   },
   "file_extension": ".py",
   "mimetype": "text/x-python",
   "name": "python",
   "nbconvert_exporter": "python",
   "pygments_lexer": "ipython3",
   "version": "3.6.1"
  }
 },
 "nbformat": 4,
 "nbformat_minor": 1
}
