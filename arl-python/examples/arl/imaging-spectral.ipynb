{
 "cells": [
  {
   "cell_type": "markdown",
   "metadata": {},
   "source": [
    "# Spectral line imaging demonstration\n",
    "\n",
    "Create a spectral line data set, add a grid components, multiply by the low BEAM, transform exactly to visibilities.\n",
    "\n",
    "We remove the continuum in the image plane and in the visibility plane, using a second order term in frequency.\n",
    "\n",
    "We will make use to graphs to speed the processing. These are based on dask.delayed."
   ]
  },
  {
   "cell_type": "code",
   "execution_count": null,
   "metadata": {},
   "outputs": [],
   "source": [
    "%matplotlib inline\n",
    "\n",
    "import os\n",
    "import sys\n",
    "\n",
    "sys.path.append(os.path.join('..', '..'))\n",
    "\n",
    "results_dir = './results'\n",
    "os.makedirs(results_dir, exist_ok=True)\n",
    "\n",
    "from matplotlib import pylab\n",
    "\n",
    "pylab.rcParams['figure.figsize'] = (12.0, 12.0)\n",
    "pylab.rcParams['image.cmap'] = 'rainbow'\n",
    "\n",
    "import numpy\n",
    "\n",
    "from scipy.interpolate import interp1d\n",
    "\n",
    "from astropy.coordinates import SkyCoord\n",
    "from astropy import units as u\n",
    "from astropy.wcs.utils import pixel_to_skycoord\n",
    "\n",
    "from matplotlib import pyplot as plt\n",
    "\n",
    "from arl.data.polarisation import PolarisationFrame\n",
    "from arl.data.parameters import get_parameter\n",
    "from arl.data.data_models import Visibility\n",
    "from arl.visibility.base import create_visibility, create_blockvisibility\n",
    "from arl.visibility.operations import remove_continuum_blockvisibility\n",
    "from arl.visibility.coalesce import convert_blockvisibility_to_visibility\n",
    "from arl.skycomponent.operations import create_skycomponent\n",
    "from arl.skycomponent.operations import create_skycomponent, apply_beam_to_skycomponent\n",
    "\n",
    "from arl.image.deconvolution import deconvolve_cube, restore_cube\n",
    "from arl.image.operations import show_image, export_image_to_fits, qa_image, remove_continuum_image\n",
    "from arl.image.iterators import  image_raster_iter\n",
    "from arl.visibility.iterators import vis_timeslice_iter\n",
    "from arl.util.testing_support import create_named_configuration, create_low_test_beam\n",
    "from arl.imaging import predict_2d, invert_timeslice, create_image_from_visibility, \\\n",
    "    predict_skycomponent_blockvisibility\n",
    "\n",
    "import logging\n",
    "\n",
    "log = logging.getLogger()\n",
    "log.setLevel(logging.INFO)\n",
    "log.addHandler(logging.StreamHandler(sys.stdout))"
   ]
  },
  {
   "cell_type": "markdown",
   "metadata": {},
   "source": [
    "We create the visibility. "
   ]
  },
  {
   "cell_type": "code",
   "execution_count": null,
   "metadata": {},
   "outputs": [],
   "source": [
    "lowcore = create_named_configuration('LOWBD2-CORE')\n",
    "times = numpy.linspace(-3,+3,3) * (numpy.pi / 12.0)\n",
    "vnchan=33\n",
    "frequency = numpy.linspace(1e8, 1.5e8, vnchan)\n",
    "fitting_mask = numpy.ones([vnchan], dtype='bool')\n",
    "fitting_mask[vnchan//4:3*vnchan//4] = False\n",
    "print(fitting_mask)\n",
    "\n",
    "channel_bandwidth = numpy.array(vnchan*[(frequency[1]-frequency[0])])\n",
    "phasecentre = SkyCoord(ra=+15.0 * u.deg, dec=-45.0 * u.deg, frame='icrs', equinox='J2000')\n",
    "vt = create_blockvisibility(lowcore, times, frequency, channel_bandwidth=channel_bandwidth,\n",
    "                       weight=1.0, phasecentre=phasecentre, polarisation_frame=PolarisationFrame(\"stokesI\"))"
   ]
  },
  {
   "cell_type": "markdown",
   "metadata": {},
   "source": [
    "Create a grid of components"
   ]
  },
  {
   "cell_type": "code",
   "execution_count": null,
   "metadata": {
    "scrolled": false
   },
   "outputs": [],
   "source": [
    "npixel = 256\n",
    "cellsize=0.001\n",
    "flux = numpy.array(vnchan*[[100.0]])\n",
    "facets = 4\n",
    "model = create_image_from_visibility(vt, npixel=npixel, cellsize=cellsize, npol=1, frequency=frequency,\n",
    "                                    polarisation_frame=PolarisationFrame(\"stokesI\"))\n",
    "spacing_pixels = npixel // facets\n",
    "log.info('Spacing in pixels = %s' % spacing_pixels)\n",
    "spacing = 180.0 * cellsize * spacing_pixels / numpy.pi\n",
    "centers = -1.5, -0.5, +0.5, +1.5\n",
    "comps = list()\n",
    "for iy in centers:\n",
    "    for ix in centers:\n",
    "        pra =  int(round(npixel // 2 + ix * spacing_pixels - 1))\n",
    "        pdec = int(round(npixel // 2 + iy * spacing_pixels - 1))\n",
    "        sc = pixel_to_skycoord(pra, pdec, model.wcs)\n",
    "        log.info(\"Component at (%f, %f) %s\" % (pra, pdec, str(sc)))\n",
    "        comps.append(create_skycomponent(flux=flux, frequency=frequency, direction=sc, \n",
    "                                         polarisation_frame=PolarisationFrame(\"stokesI\")))\n",
    "\n",
    "continuum_model = create_image_from_visibility(vt, npixel=npixel, cellsize=cellsize, npol=1, \n",
    "                                               frequency=[frequency[vnchan//2]], nchan=1,\n",
    "                                               polarisation_frame=PolarisationFrame(\"stokesI\"))"
   ]
  },
  {
   "cell_type": "markdown",
   "metadata": {},
   "source": [
    "Apply LOW Beam to components and predict the visibilities."
   ]
  },
  {
   "cell_type": "code",
   "execution_count": null,
   "metadata": {},
   "outputs": [],
   "source": [
    "bm = create_low_test_beam(model=model)\n",
    "sc = apply_beam_to_skycomponent(comps, bm)\n",
    "vt = predict_skycomponent_blockvisibility(vt, sc=comps)"
   ]
  },
  {
   "cell_type": "code",
   "execution_count": null,
   "metadata": {},
   "outputs": [],
   "source": [
    "dirty_imlin, sumwt = invert_timeslice(vt, model)"
   ]
  },
  {
   "cell_type": "markdown",
   "metadata": {},
   "source": [
    "Fit and remove the continuum in the dirty image. This is usually called IMLIN."
   ]
  },
  {
   "cell_type": "code",
   "execution_count": null,
   "metadata": {},
   "outputs": [],
   "source": [
    "dirty_imlin = remove_continuum_image(dirty_imlin, degree=2, mask=fitting_mask)\n",
    "print(qa_image(dirty_imlin))"
   ]
  },
  {
   "cell_type": "code",
   "execution_count": null,
   "metadata": {
    "scrolled": false
   },
   "outputs": [],
   "source": [
    "show_image(dirty_imlin, chan=0, title='IMLIN: Channel 0')\n",
    "plt.show()\n",
    "show_image(dirty_imlin, chan=16, title='IMLIN: Channel 16')\n",
    "plt.show()\n",
    "show_image(dirty_imlin, chan=32, title='IMLIN: Channel 32')\n",
    "plt.show()\n",
    "\n",
    "export_image_to_fits(dirty_imlin, '%s/imaging-spectral-imlin.fits' % (results_dir))"
   ]
  },
  {
   "cell_type": "markdown",
   "metadata": {},
   "source": [
    "Fit and remove the continuum in the visibility. This is usually called UVLIN."
   ]
  },
  {
   "cell_type": "code",
   "execution_count": null,
   "metadata": {
    "scrolled": false
   },
   "outputs": [],
   "source": [
    "vt=remove_continuum_blockvisibility(vt, degree=5, mask=fitting_mask)"
   ]
  },
  {
   "cell_type": "code",
   "execution_count": null,
   "metadata": {},
   "outputs": [],
   "source": [
    "dirty_uvlin, sumwt=invert_timeslice(vt, model)\n",
    "print(qa_image(dirty_uvlin))"
   ]
  },
  {
   "cell_type": "code",
   "execution_count": null,
   "metadata": {
    "scrolled": false
   },
   "outputs": [],
   "source": [
    "show_image(dirty_uvlin, chan=0, title='UVLIN: Channel 0')\n",
    "plt.show()\n",
    "show_image(dirty_uvlin, chan=16, title='UVLIN: Channel 16')\n",
    "plt.show()\n",
    "show_image(dirty_uvlin, chan=32, title='UVLIN: Channel 32')\n",
    "plt.show()\n",
    "\n",
    "export_image_to_fits(dirty_uvlin, '%s/imaging-spectral-uvlin.fits' % (results_dir))"
   ]
  }
 ],
 "metadata": {
  "kernelspec": {
   "display_name": "Python 3",
   "language": "python",
   "name": "python3"
  },
  "language_info": {
   "codemirror_mode": {
    "name": "ipython",
    "version": 3
   },
   "file_extension": ".py",
   "mimetype": "text/x-python",
   "name": "python",
   "nbconvert_exporter": "python",
   "pygments_lexer": "ipython3",
   "version": "3.6.1"
  }
 },
 "nbformat": 4,
 "nbformat_minor": 1
}
