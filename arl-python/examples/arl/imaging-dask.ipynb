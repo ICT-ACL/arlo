{
 "cells": [
  {
   "cell_type": "markdown",
   "metadata": {},
   "source": [
    "# Dask imaging demonstration\n",
    "\n",
    "This notebook explores the use of dask for parallelisation. We show the graphs for various types of predict and invert. \n",
    "\n",
    "See imaging-pipelines notebook for pipeline processing with dask."
   ]
  },
  {
   "cell_type": "code",
   "execution_count": null,
   "metadata": {},
   "outputs": [],
   "source": [
    "%matplotlib inline\n",
    "\n",
    "import os\n",
    "import sys\n",
    "\n",
    "from dask import delayed\n",
    "\n",
    "sys.path.append(os.path.join('..', '..'))\n",
    "\n",
    "results_dir = './results'\n",
    "os.makedirs(results_dir, exist_ok=True)\n",
    "\n",
    "from matplotlib import pylab\n",
    "\n",
    "pylab.rcParams['figure.figsize'] = (12.0, 12.0)\n",
    "pylab.rcParams['image.cmap'] = 'rainbow'\n",
    "\n",
    "import numpy\n",
    "\n",
    "from astropy.coordinates import SkyCoord\n",
    "from astropy import units as u\n",
    "from astropy.wcs.utils import pixel_to_skycoord\n",
    "\n",
    "from matplotlib import pyplot as plt\n",
    "\n",
    "from arl.calibration.operations import apply_gaintable\n",
    "from arl.data.polarisation import PolarisationFrame\n",
    "from arl.visibility.base import create_blockvisibility\n",
    "from arl.skycomponent.operations import create_skycomponent\n",
    "from arl.image.operations import show_image, qa_image\n",
    "from arl.util.testing_support import create_named_configuration\n",
    "from arl.imaging import create_image_from_visibility, predict_skycomponent_blockvisibility, \\\n",
    "    advise_wide_field\n",
    "from arl.imaging.weighting import weight_visibility\n",
    "from arl.graphs.dask_init import get_dask_Client\n",
    "from arl.graphs.graphs import create_deconvolve_facet_graph, create_invert_facet_graph, \\\n",
    "    create_invert_wstack_graph, create_predict_facet_graph, compute_list, \\\n",
    "    create_predict_wstack_graph, create_invert_facet_wstack_graph\n",
    "from arl.pipelines.graphs import create_continuum_imaging_pipeline_graph\n",
    "\n",
    "\n",
    "import logging\n",
    "\n",
    "log = logging.getLogger()\n",
    "log.setLevel(logging.DEBUG)\n",
    "log.addHandler(logging.StreamHandler(sys.stdout))"
   ]
  },
  {
   "cell_type": "markdown",
   "metadata": {},
   "source": [
    "We create the visibility and fill in values with the transform of a number of point sources. "
   ]
  },
  {
   "cell_type": "code",
   "execution_count": null,
   "metadata": {},
   "outputs": [],
   "source": [
    "def ingest_visibility(freq=1e8, chan_width=1e6, time=0.0, reffrequency=[1e8]):\n",
    "    lowcore = create_named_configuration('LOWBD2-CORE')\n",
    "    times = [time]\n",
    "    frequency = numpy.array([freq])\n",
    "    channel_bandwidth = numpy.array([chan_width])\n",
    "\n",
    "    phasecentre = SkyCoord(ra=+15.0 * u.deg, dec=-26.7 * u.deg, frame='icrs', equinox='J2000')\n",
    "    vt = create_blockvisibility(lowcore, times, frequency, channel_bandwidth=channel_bandwidth,\n",
    "                                weight=1.0, phasecentre=phasecentre, \n",
    "                                polarisation_frame=PolarisationFrame(\"stokesI\"))\n",
    "    npixel = 256\n",
    "    cellsize=0.001\n",
    "    model = create_image_from_visibility(vt, npixel=npixel, cellsize=cellsize, npol=1, frequency=reffrequency,\n",
    "                                        polarisation_frame=PolarisationFrame(\"stokesI\"))\n",
    "    flux = numpy.array([[100.0]])\n",
    "    facets = 4\n",
    "\n",
    "    spacing_pixels = npixel // facets\n",
    "    spacing = 180.0 * cellsize * spacing_pixels / numpy.pi\n",
    "    centers = -1.5, -0.5, +0.5, +1.5\n",
    "    comps = list()\n",
    "    for iy in centers:\n",
    "        for ix in centers:\n",
    "            pra =  int(round(npixel // 2 + ix * spacing_pixels - 1))\n",
    "            pdec = int(round(npixel // 2 + iy * spacing_pixels - 1))\n",
    "            sc = pixel_to_skycoord(pra, pdec, model.wcs)\n",
    "            comps.append(create_skycomponent(flux=flux, frequency=vt.frequency, direction=sc, \n",
    "                                             polarisation_frame=PolarisationFrame(\"stokesI\")))\n",
    "    predict_skycomponent_blockvisibility(vt, comps)\n",
    "\n",
    "    return vt"
   ]
  },
  {
   "cell_type": "markdown",
   "metadata": {},
   "source": [
    "Get the Local Sky Model. It is empty."
   ]
  },
  {
   "cell_type": "code",
   "execution_count": null,
   "metadata": {
    "scrolled": false
   },
   "outputs": [],
   "source": [
    "def get_LSM(vt, npixel = 256, cellsize=0.001, reffrequency=[1e8]):\n",
    "    model = create_image_from_visibility(vt, npixel=npixel, cellsize=cellsize, npol=1, frequency=reffrequency,\n",
    "                                        polarisation_frame=PolarisationFrame(\"stokesI\"))\n",
    "    return model"
   ]
  },
  {
   "cell_type": "code",
   "execution_count": null,
   "metadata": {
    "scrolled": false
   },
   "outputs": [],
   "source": [
    "c=get_dask_Client()"
   ]
  },
  {
   "cell_type": "code",
   "execution_count": null,
   "metadata": {},
   "outputs": [],
   "source": [
    "nfreqwin=7\n",
    "vis_graph_list=list()\n",
    "for freq in numpy.linspace(0.8e8,1.2e8,nfreqwin):\n",
    "    vis_graph_list.append(delayed(ingest_visibility)(freq, time=0.0))\n",
    "nvis=len(vis_graph_list)\n",
    "vis_graph_list = compute_list(c, vis_graph_list)\n",
    "\n",
    "npixel=256\n",
    "facets=4\n",
    "model_graph = delayed(get_LSM)(vis_graph_list[nvis//2], npixel=npixel)"
   ]
  },
  {
   "cell_type": "markdown",
   "metadata": {},
   "source": [
    "Calculate optimum parameters for wide field imaging"
   ]
  },
  {
   "cell_type": "code",
   "execution_count": null,
   "metadata": {
    "scrolled": false
   },
   "outputs": [],
   "source": [
    "advice=advise_wide_field(vis_graph_list[0], guard_band_image=4.0)"
   ]
  },
  {
   "cell_type": "markdown",
   "metadata": {},
   "source": [
    "Make and display a graph to predict using facets"
   ]
  },
  {
   "cell_type": "code",
   "execution_count": null,
   "metadata": {
    "scrolled": false
   },
   "outputs": [],
   "source": [
    "from arl.graphs.vis import simple_vis\n",
    "predict_graph = create_predict_facet_graph(vis_graph_list, model_graph, facets=2)\n",
    "simple_vis(predict_graph[0])"
   ]
  },
  {
   "cell_type": "markdown",
   "metadata": {},
   "source": [
    "Make and display a graph for predict using w stacking"
   ]
  },
  {
   "cell_type": "code",
   "execution_count": null,
   "metadata": {
    "scrolled": false
   },
   "outputs": [],
   "source": [
    "predict_graph = create_predict_wstack_graph(vis_graph_list, model_graph, vis_slices=11)\n",
    "simple_vis(predict_graph[0])"
   ]
  },
  {
   "cell_type": "code",
   "execution_count": null,
   "metadata": {},
   "outputs": [],
   "source": [
    "predict_graph = create_predict_wstack_graph(vis_graph_list, model_graph, vis_slices=11)\n",
    "predicted_vis_graph_list = compute_list(c, predict_graph)"
   ]
  },
  {
   "cell_type": "markdown",
   "metadata": {},
   "source": [
    "Do the same for invert. note the difference in structure of the graphs."
   ]
  },
  {
   "cell_type": "code",
   "execution_count": null,
   "metadata": {
    "scrolled": false
   },
   "outputs": [],
   "source": [
    "dirty_graph = create_invert_wstack_graph(vis_graph_list, model_graph, vis_slices=11, \n",
    "                                         wstep=8.0, kernel='wprojection', dopsf=False)\n",
    "simple_vis(dirty_graph)"
   ]
  },
  {
   "cell_type": "code",
   "execution_count": null,
   "metadata": {
    "scrolled": false
   },
   "outputs": [],
   "source": [
    "dirty_graph = create_invert_facet_graph(vis_graph_list, model_graph, dopsf=False, \n",
    "                                        facets=4)\n",
    "simple_vis(dirty_graph)"
   ]
  },
  {
   "cell_type": "code",
   "execution_count": null,
   "metadata": {
    "scrolled": false
   },
   "outputs": [],
   "source": [
    "dirty_graph = create_invert_facet_wstack_graph(vis_graph_list, model_graph, vis_slices=11, \n",
    "                                         wstep=8.0, facets=4, dopsf=False)\n",
    "simple_vis(dirty_graph)"
   ]
  },
  {
   "cell_type": "markdown",
   "metadata": {},
   "source": [
    "Now compute the dirty image. At this scale, the FFTs are so cheap that we can make the graph with many more w-slices than we need. There is little immediate overhead for using too many slices but do not try to make a diagram of it!"
   ]
  },
  {
   "cell_type": "code",
   "execution_count": null,
   "metadata": {},
   "outputs": [],
   "source": [
    "dirty_graph = create_invert_wstack_graph(vis_graph_list, model_graph, vis_slices=1000, dopsf=False)"
   ]
  },
  {
   "cell_type": "code",
   "execution_count": null,
   "metadata": {
    "scrolled": false
   },
   "outputs": [],
   "source": [
    "future=c.compute(dirty_graph)\n",
    "dirty, sumwt=future.result()\n",
    "print(qa_image(dirty, context='Dirty image'))\n",
    "show_image(dirty, title='Dirty')\n",
    "plt.show()"
   ]
  },
  {
   "cell_type": "code",
   "execution_count": null,
   "metadata": {
    "scrolled": true
   },
   "outputs": [],
   "source": [
    "c.shutdown()"
   ]
  },
  {
   "cell_type": "code",
   "execution_count": null,
   "metadata": {},
   "outputs": [],
   "source": []
  }
 ],
 "metadata": {
  "kernelspec": {
   "display_name": "Python 3",
   "language": "python",
   "name": "python3"
  },
  "language_info": {
   "codemirror_mode": {
    "name": "ipython",
    "version": 3
   },
   "file_extension": ".py",
   "mimetype": "text/x-python",
   "name": "python",
   "nbconvert_exporter": "python",
   "pygments_lexer": "ipython3",
   "version": "3.6.1"
  }
 },
 "nbformat": 4,
 "nbformat_minor": 1
}
