{
 "cells": [
  {
   "cell_type": "markdown",
   "metadata": {},
   "source": [
    "# Set up and run a simple real-time calibration pipeline, RCAL."
   ]
  },
  {
   "cell_type": "code",
   "execution_count": null,
   "metadata": {
    "collapsed": true
   },
   "outputs": [],
   "source": [
    "%matplotlib inline\n",
    "\n",
    "import os\n",
    "import sys\n",
    "import multiprocessing\n",
    "\n",
    "sys.path.append(os.path.join('..', '..'))\n",
    "\n",
    "from matplotlib import pylab\n",
    "\n",
    "pylab.rcParams['figure.figsize'] = (8.0, 8.0)\n",
    "pylab.rcParams['image.cmap'] = 'rainbow'\n",
    "\n",
    "import matplotlib.pyplot as plt\n",
    "\n",
    "import numpy\n",
    "\n",
    "import numpy\n",
    "\n",
    "from astropy.coordinates import SkyCoord\n",
    "from astropy import units as u\n",
    "from astropy import constants as const\n",
    "from astropy.wcs.utils import pixel_to_skycoord\n",
    "\n",
    "from arl.data.polarisation import PolarisationFrame\n",
    "from arl.pipelines.functions import rcal\n",
    "from arl.skycomponent.operations import create_skycomponent\n",
    "from arl.util.run_unittests import run_unittests\n",
    "from arl.util.testing_support import create_named_configuration, create_blockvisibility_iterator"
   ]
  },
  {
   "cell_type": "markdown",
   "metadata": {},
   "source": [
    "Define the data to be generated"
   ]
  },
  {
   "cell_type": "code",
   "execution_count": null,
   "metadata": {},
   "outputs": [],
   "source": [
    "lowcore = create_named_configuration('LOWBD2-CORE')\n",
    "times = numpy.linspace(-3.0, +3.0, 7) * numpy.pi / 12.0\n",
    "frequency = numpy.linspace(1.0e8, 1.50e8, 3)\n",
    "channel_bandwidth = numpy.array([5e7, 5e7, 5e7])\n",
    "\n",
    "# Define the component and give it some polarisation and spectral behaviour\n",
    "f = numpy.array([100.0, 20.0, -10.0, 1.0])\n",
    "flux = numpy.array([f, 0.8 * f, 0.6 * f])\n",
    "\n",
    "phasecentre = SkyCoord(ra=+15.0 * u.deg, dec=-35.0 * u.deg, frame='icrs', equinox='J2000')\n",
    "compdirection = SkyCoord(ra=17.0 * u.deg, dec=-36.5 * u.deg, frame='icrs', equinox='J2000')\n",
    "comp = create_skycomponent(flux=flux, frequency=frequency, direction=compdirection)"
   ]
  },
  {
   "cell_type": "code",
   "execution_count": null,
   "metadata": {
    "collapsed": true
   },
   "outputs": [],
   "source": [
    "def plotgain(gt, title=''):\n",
    "    plt.clf()\n",
    "    plt.plot(numpy.real(gt.gain[...,0,0]).flat, numpy.imag(gt.gain[...,0,0]).flat, '.')\n",
    "    plt.plot(numpy.real(gt.gain[...,1,1]).flat, numpy.imag(gt.gain[...,1,1]).flat, '.')\n",
    "    plt.title(title)\n",
    "    plt.xlabel('Real part of gain')\n",
    "    plt.ylabel('Imaginary part of gain')\n",
    "    plt.show()"
   ]
  },
  {
   "cell_type": "markdown",
   "metadata": {},
   "source": [
    "To do the simulation, we define a python generator that mimics an ingest. This generator creates, fills in visibilities, and applies gain errors. The generator only makes the data as needed. Hence the RCAL pipeline calls the generator repeatedly until all data have been constructed. \n",
    "\n",
    "To consume the data from the ingest, we define another generator, RCAL, that performs calibration and returns a gaintable.\n",
    "\n",
    "RCAL is itself a python generator so nothing happens until the pipeline is iterated.\n",
    "\n",
    "The simulation includes amplitude and phase errors of 0.01 and 0.1 radians. The plot shows the recovered gains."
   ]
  },
  {
   "cell_type": "code",
   "execution_count": null,
   "metadata": {
    "scrolled": false
   },
   "outputs": [],
   "source": [
    "ingest = create_blockvisibility_iterator(lowcore, times=times, \n",
    "                                         frequency=frequency, \n",
    "                                         channel_bandwidth=channel_bandwidth, phasecentre=phasecentre, \n",
    "                                         weight=1, polarisation_frame=PolarisationFrame('linear'), \n",
    "                                         integration_time=1.0, number_integrations=1,\n",
    "                                         components=comp, phase_error=0.1, amplitude_error=0.01)\n",
    "\n",
    "rcal_pipeline = rcal(vis=ingest, components=comp, phase_only=False)\n",
    "\n",
    "print(\"Starting pipeline\")\n",
    "for igt, gt in enumerate(rcal_pipeline):\n",
    "    plotgain(gt, title=\"Chunk %d, time %s,  residual %.3g (Jy)\" % (igt, numpy.unique(gt.time), \n",
    "                                                                numpy.average(gt.residual)))\n",
    "    \n",
    "print(\"Ingest and RCAL pipelines are empty, stopping\")"
   ]
  },
  {
   "cell_type": "code",
   "execution_count": null,
   "metadata": {
    "collapsed": true
   },
   "outputs": [],
   "source": []
  }
 ],
 "metadata": {
  "kernelspec": {
   "display_name": "Python 3",
   "language": "python",
   "name": "python3"
  },
  "language_info": {
   "codemirror_mode": {
    "name": "ipython",
    "version": 3
   },
   "file_extension": ".py",
   "mimetype": "text/x-python",
   "name": "python",
   "nbconvert_exporter": "python",
   "pygments_lexer": "ipython3",
   "version": "3.6.1"
  }
 },
 "nbformat": 4,
 "nbformat_minor": 1
}
