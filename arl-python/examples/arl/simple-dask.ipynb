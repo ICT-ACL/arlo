{
 "cells": [
  {
   "cell_type": "markdown",
   "metadata": {},
   "source": [
    "### Simple demonstration of the use of generic dask functions"
   ]
  },
  {
   "cell_type": "code",
   "execution_count": null,
   "metadata": {
    "collapsed": true,
    "scrolled": true
   },
   "outputs": [],
   "source": [
    "import os\n",
    "import sys\n",
    "import numpy\n",
    "\n",
    "sys.path.append(os.path.join('..', '..'))\n",
    "\n",
    "import astropy.units as u\n",
    "\n",
    "from dask import delayed\n",
    "from distributed import Client, progress\n",
    "\n",
    "from astropy.coordinates import SkyCoord\n",
    "\n",
    "from arl.data.polarisation import PolarisationFrame\n",
    "from arl.graphs.generic_graphs import create_generic_image_graph\n",
    "from arl.graphs.dask_init import get_dask_Client\n",
    "from arl.image.iterators import  image_raster_iter\n",
    "from arl.image.operations import qa_image\n",
    "from arl.util.testing_support import create_test_image\n",
    "\n",
    "frequency = numpy.array([1e8])\n",
    "\n",
    "phasecentre = SkyCoord(ra=+15.0 * u.deg, dec=-35.0 * u.deg, frame='icrs', equinox='J2000')\n",
    "test_image = create_test_image(frequency=frequency, phasecentre=phasecentre,\n",
    "                               cellsize=0.001,\n",
    "                               polarisation_frame=PolarisationFrame('stokesI'))\n",
    "\n",
    "image_graph = delayed(create_test_image)(frequency=frequency, phasecentre=phasecentre, cellsize=0.001,\n",
    "                                         polarisation_frame=PolarisationFrame('stokesI'))"
   ]
  },
  {
   "cell_type": "markdown",
   "metadata": {},
   "source": [
    "Define a simple function to take the square root of an image"
   ]
  },
  {
   "cell_type": "code",
   "execution_count": null,
   "metadata": {
    "scrolled": true
   },
   "outputs": [],
   "source": [
    "def imagerooter(im, **kwargs):\n",
    "    im.data = numpy.sqrt(numpy.abs(im.data))\n",
    "    return im\n",
    "\n",
    "root = create_generic_image_graph(imagerooter, test_image, facets=4)\n",
    "root.visualize()"
   ]
  },
  {
   "cell_type": "markdown",
   "metadata": {},
   "source": [
    "Run the graph directly and then via a scheduler created via Client."
   ]
  },
  {
   "cell_type": "code",
   "execution_count": null,
   "metadata": {},
   "outputs": [],
   "source": [
    "result = root.compute()\n",
    "numpy.testing.assert_array_almost_equal_nulp(result.data**2, numpy.abs(test_image.data), 7)\n",
    "\n",
    "c = get_dask_Client()\n",
    "print(c)\n",
    "future=c.compute(root)\n",
    "result=future.result()\n",
    "numpy.testing.assert_array_almost_equal_nulp(result.data**2, numpy.abs(test_image.data), 7)\n",
    "c.shutdown()"
   ]
  },
  {
   "cell_type": "code",
   "execution_count": null,
   "metadata": {
    "collapsed": true
   },
   "outputs": [],
   "source": []
  }
 ],
 "metadata": {
  "kernelspec": {
   "display_name": "Python 3",
   "language": "python",
   "name": "python3"
  },
  "language_info": {
   "codemirror_mode": {
    "name": "ipython",
    "version": 3
   },
   "file_extension": ".py",
   "mimetype": "text/x-python",
   "name": "python",
   "nbconvert_exporter": "python",
   "pygments_lexer": "ipython3",
   "version": "3.6.1"
  }
 },
 "nbformat": 4,
 "nbformat_minor": 1
}
