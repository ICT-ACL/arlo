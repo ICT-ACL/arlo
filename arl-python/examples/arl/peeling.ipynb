{
 "cells": [
  {
   "cell_type": "markdown",
   "metadata": {},
   "source": [
    "# Demonstration of peeling"
   ]
  },
  {
   "cell_type": "code",
   "execution_count": null,
   "metadata": {
    "collapsed": true
   },
   "outputs": [],
   "source": [
    "%matplotlib inline\n",
    "\n",
    "import os\n",
    "import sys\n",
    "\n",
    "sys.path.append(os.path.join('..', '..'))\n",
    "\n",
    "results_dir = './results'\n",
    "os.makedirs(results_dir, exist_ok=True)\n",
    "\n",
    "\n",
    "from matplotlib import pylab\n",
    "\n",
    "pylab.rcParams['agg.path.chunksize'] = 10000\n",
    "pylab.rcParams['figure.figsize'] = (12.0, 12.0)\n",
    "pylab.rcParams['image.cmap'] = 'rainbow'\n",
    "\n",
    "import numpy\n",
    "\n",
    "from astropy.coordinates import SkyCoord\n",
    "from astropy import units as u\n",
    "from astropy.wcs.utils import pixel_to_skycoord\n",
    "\n",
    "from matplotlib import pyplot as plt\n",
    "from matplotlib.pyplot import cm\n",
    "\n",
    "from arl.data.data_models import Skycomponent\n",
    "from arl.data.polarisation import PolarisationFrame\n",
    "from arl.visibility.base import create_blockvisibility  \n",
    "from arl.skycomponent.operations import create_skycomponent, apply_beam_to_skycomponent\n",
    "from arl.image.operations import show_image, export_image_to_fits, qa_image\n",
    "from arl.imaging.base import create_image_from_visibility\n",
    "from arl.fourier_transforms.fft_support import extract_mid\n",
    "from arl.visibility.coalesce import coalesce_visibility, convert_blockvisibility_to_visibility\n",
    "from arl.image.iterators import  image_raster_iter\n",
    "from arl.visibility.iterators import vis_timeslice_iter\n",
    "from arl.util.testing_support import create_named_configuration, create_low_test_beam, \\\n",
    "    create_low_test_skycomponents_from_gleam, simulate_gaintable\n",
    "from arl.imaging import *\n",
    "from arl.calibration.operations import create_gaintable_from_blockvisibility, apply_gaintable\n",
    "from arl.calibration.peeling import peel_skycomponent_blockvisibility\n",
    "\n",
    "import logging\n",
    "log = logging.getLogger()\n",
    "log.setLevel(logging.DEBUG)\n",
    "log.addHandler(logging.StreamHandler(sys.stdout))"
   ]
  },
  {
   "cell_type": "markdown",
   "metadata": {},
   "source": [
    "Make the visibility dataset"
   ]
  },
  {
   "cell_type": "code",
   "execution_count": null,
   "metadata": {},
   "outputs": [],
   "source": [
    "df = 1e6\n",
    "frequency = numpy.array([1e8 - df, 1e8, 1e8 + df])\n",
    "channel_bandwidth = numpy.array([df, df, df])\n",
    "\n",
    "# Define the component and give it some spectral behaviour\n",
    "f = numpy.array([100.0, 20.0, -10.0, 1.0])\n",
    "flux = numpy.array([f, 0.8 * f, 0.6 * f])\n",
    "phasecentre = SkyCoord(0 * u.deg, -45.0 * u.deg)\n",
    "\n",
    "config = create_named_configuration('LOWBD2-CORE')\n",
    "\n",
    "times = numpy.linspace(-3.0, 3.0, 7) * numpy.pi / 12.0\n",
    "vis = create_blockvisibility(config, times, frequency,\n",
    "                                  channel_bandwidth=channel_bandwidth,\n",
    "                                  phasecentre=phasecentre, weight=1.0,\n",
    "                                  polarisation_frame=PolarisationFrame('linear'))\n",
    "vis.data['vis'][...]=0.0"
   ]
  },
  {
   "cell_type": "markdown",
   "metadata": {},
   "source": [
    "Create a peelable source, predict the visibility, simulate a gain table and then apply it to the visibilities. "
   ]
  },
  {
   "cell_type": "code",
   "execution_count": null,
   "metadata": {},
   "outputs": [],
   "source": [
    "peeldirection = SkyCoord(+10 * u.deg, -35.0 * u.deg)\n",
    "peel = Skycomponent(direction=peeldirection, frequency=frequency, flux=flux,\n",
    "                    polarisation_frame=PolarisationFrame(\"stokesIQUV\"))\n",
    "\n",
    "vis = predict_skycomponent_blockvisibility(vis, peel)\n",
    "gt = create_gaintable_from_blockvisibility(vis)\n",
    "gt = simulate_gaintable(gt, phase_error=1.0, amplitude_error=0.01)\n",
    "vis = apply_gaintable(vis, gt)"
   ]
  },
  {
   "cell_type": "markdown",
   "metadata": {},
   "source": [
    "Make the set of components that will define the main field. Then just add their visibilities to the data set."
   ]
  },
  {
   "cell_type": "code",
   "execution_count": null,
   "metadata": {
    "scrolled": false
   },
   "outputs": [],
   "source": [
    "sc = create_low_test_skycomponents_from_gleam(flux_limit=1.0,\n",
    "                                              polarisation_frame=PolarisationFrame(\"stokesIQUV\"),\n",
    "                                              frequency=frequency, kind='cubic',\n",
    "                                              phasecentre=phasecentre,\n",
    "                                              radius=0.1)\n",
    "model = create_image_from_visibility(vis, cellsize=0.001, npixel=512, frequency=frequency,\n",
    "                                     polarisation_frame=PolarisationFrame('stokesIQUV'))\n",
    "\n",
    "bm = create_low_test_beam(model=model)\n",
    "sc = apply_beam_to_skycomponent(sc, bm)\n",
    "vis = predict_skycomponent_blockvisibility(vis, sc)"
   ]
  },
  {
   "cell_type": "markdown",
   "metadata": {},
   "source": [
    "Make the dirty image"
   ]
  },
  {
   "cell_type": "code",
   "execution_count": null,
   "metadata": {
    "scrolled": false
   },
   "outputs": [],
   "source": [
    "dirty, sumwt = invert_timeslice(vis, model)\n",
    "show_image(dirty)\n",
    "export_image_to_fits(dirty, \"%s/peeling_dirty.fits\" % (results_dir))"
   ]
  },
  {
   "cell_type": "markdown",
   "metadata": {},
   "source": [
    "Finally we can peel out the source."
   ]
  },
  {
   "cell_type": "code",
   "execution_count": null,
   "metadata": {},
   "outputs": [],
   "source": [
    "vis, peel_gts = peel_skycomponent_blockvisibility(vis, peel)\n",
    "\n",
    "print(peel_gts[0].residual[:,0,...,0,0])"
   ]
  },
  {
   "cell_type": "code",
   "execution_count": null,
   "metadata": {
    "scrolled": false
   },
   "outputs": [],
   "source": [
    "dirty, sumwt=invert_timeslice(vis, model)\n",
    "show_image(dirty)\n",
    "export_image_to_fits(dirty, \"%s/peeling_dirty_peeled.fits\" % (results_dir))"
   ]
  },
  {
   "cell_type": "code",
   "execution_count": null,
   "metadata": {},
   "outputs": [],
   "source": [
    "print(qa_image(dirty))"
   ]
  },
  {
   "cell_type": "code",
   "execution_count": null,
   "metadata": {
    "collapsed": true
   },
   "outputs": [],
   "source": []
  }
 ],
 "metadata": {
  "kernelspec": {
   "display_name": "Python 3",
   "language": "python",
   "name": "python3"
  },
  "language_info": {
   "codemirror_mode": {
    "name": "ipython",
    "version": 3
   },
   "file_extension": ".py",
   "mimetype": "text/x-python",
   "name": "python",
   "nbconvert_exporter": "python",
   "pygments_lexer": "ipython3",
   "version": "3.6.1"
  }
 },
 "nbformat": 4,
 "nbformat_minor": 1
}
