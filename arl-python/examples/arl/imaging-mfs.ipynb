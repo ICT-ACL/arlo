{
 "cells": [
  {
   "cell_type": "markdown",
   "metadata": {},
   "source": [
    "# MFS demonstration"
   ]
  },
  {
   "cell_type": "markdown",
   "metadata": {},
   "source": [
    "This script makes a fake data set and then deconvolves it. Finally the full and residual visibility are plotted."
   ]
  },
  {
   "cell_type": "code",
   "execution_count": 10,
   "metadata": {
    "collapsed": true
   },
   "outputs": [],
   "source": [
    "%matplotlib inline\n",
    "\n",
    "import os\n",
    "import sys\n",
    "import multiprocessing\n",
    "\n",
    "sys.path.append(os.path.join('..', '..'))\n",
    "\n",
    "results_dir = './results'\n",
    "os.makedirs(results_dir, exist_ok=True)\n",
    "\n",
    "from matplotlib import pylab\n",
    "\n",
    "pylab.rcParams['figure.figsize'] = (10.0, 10.0)\n",
    "pylab.rcParams['image.cmap'] = 'rainbow'\n",
    "\n",
    "import numpy\n",
    "\n",
    "from astropy.coordinates import SkyCoord\n",
    "from astropy import units as u\n",
    "from astropy import constants as const\n",
    "from astropy.wcs.utils import pixel_to_skycoord\n",
    "\n",
    "from matplotlib import pyplot as plt\n",
    "\n",
    "from arl.data.polarisation import PolarisationFrame\n",
    "from arl.visibility.base import create_visibility\n",
    "from arl.skycomponent.operations import create_skycomponent\n",
    "from arl.image.operations import show_image, export_image_to_fits, smooth_image, \\\n",
    "    calculate_image_frequency_moments, calculate_image_from_frequency_moments\n",
    "from arl.image.deconvolution import deconvolve_cube, restore_cube\n",
    "from arl.image.iterators import  image_raster_iter\n",
    "from arl.image.solvers import solve_image\n",
    "from arl.visibility.iterators import vis_timeslice_iter\n",
    "from arl.util.testing_support import create_named_configuration, \\\n",
    "    create_low_test_image_from_gleam, create_low_test_beam\n",
    "from arl.imaging import *\n",
    "from arl.imaging.weighting import weight_visibility\n",
    "\n",
    "import logging\n",
    "\n",
    "log = logging.getLogger()\n",
    "log.setLevel(logging.DEBUG)\n",
    "log.addHandler(logging.StreamHandler(sys.stdout))"
   ]
  },
  {
   "cell_type": "markdown",
   "metadata": {},
   "source": [
    "Construct LOW configuration"
   ]
  },
  {
   "cell_type": "markdown",
   "metadata": {},
   "source": [
    "We create the visibility. This just makes the uvw, time, antenna1, antenna2, weight columns in a table"
   ]
  },
  {
   "cell_type": "code",
   "execution_count": 11,
   "metadata": {},
   "outputs": [
    {
     "name": "stdout",
     "output_type": "stream",
     "text": [
      "Observing times [-0.78539816 -0.39269908  0.          0.39269908  0.78539816]\n",
      "Observing times [-0.78539816 -0.39269908  0.          0.39269908  0.78539816]\n",
      "Observing frequencies [  8.00000000e+07   8.66666667e+07   9.33333333e+07   1.00000000e+08\n",
      "   1.06666667e+08   1.13333333e+08   1.20000000e+08] Hz\n",
      "Observing frequencies [  8.00000000e+07   8.66666667e+07   9.33333333e+07   1.00000000e+08\n",
      "   1.06666667e+08   1.13333333e+08   1.20000000e+08] Hz\n",
      "Channel bandwidths [ 6666666.66666667  6666666.66666667  6666666.66666667  6666666.66666667\n",
      "  6666666.66666667  6666666.66666667  6666666.66666667] Hz\n",
      "Channel bandwidths [ 6666666.66666667  6666666.66666667  6666666.66666667  6666666.66666667\n",
      "  6666666.66666667  6666666.66666667  6666666.66666667] Hz\n",
      "Centre frequency [  1.00000000e+08] Hz\n",
      "Centre frequency [  1.00000000e+08] Hz\n",
      "Cellsize = 0.000010 radians\n",
      "Cellsize = 0.000010 radians\n"
     ]
    }
   ],
   "source": [
    "config = 'full'\n",
    "if config == 'full':\n",
    "    low = create_named_configuration('LOWBD2')\n",
    "    b = 8e4\n",
    "    cellsize = 0.00001\n",
    "    npixel=5 * 2048\n",
    "    padding = 1\n",
    "    invert = invert_2d\n",
    "    predict = predict_2d\n",
    "\n",
    "else:\n",
    "    low = create_named_configuration('LOWBD2-CORE')\n",
    "    b = 4e3\n",
    "    cellsize = 0.001\n",
    "    npixel=512\n",
    "    padding = 2\n",
    "    invert = invert_2d\n",
    "    predict = predict_2d\n",
    "\n",
    "    \n",
    "oversampling = 32\n",
    "\n",
    "nchan = 7\n",
    "frequency = numpy.linspace(0.8e8, 1.2e8, nchan)\n",
    "centre_frequency = numpy.array([numpy.average(frequency)])\n",
    "channel_bandwidth=numpy.array(nchan * [frequency[1]-frequency[0]])\n",
    "total_bandwidth = numpy.array([numpy.sum(channel_bandwidth)])\n",
    "\n",
    "times = numpy.linspace(-3, +3, 5) * numpy.pi / 12.0\n",
    "log.info('Observing times %s' % (times))\n",
    "log.info(\"Observing frequencies %s Hz\" % (frequency))\n",
    "log.info(\"Channel bandwidths %s Hz\" % (channel_bandwidth))\n",
    "log.info(\"Centre frequency %s Hz\" % (centre_frequency))\n",
    "log.info(\"Cellsize = %.6f radians\" % (cellsize))"
   ]
  },
  {
   "cell_type": "code",
   "execution_count": 12,
   "metadata": {},
   "outputs": [
    {
     "name": "stdout",
     "output_type": "stream",
     "text": [
      "create_visibility: 4578560 rows, 0.478 GB\n",
      "create_visibility: 4578560 rows, 0.478 GB\n"
     ]
    }
   ],
   "source": [
    "phasecentre = SkyCoord(ra=+15.0 * u.deg, dec=-35.0 * u.deg, frame='icrs', equinox='J2000')\n",
    "vt = create_visibility(low, times, frequency, channel_bandwidth=channel_bandwidth,\n",
    "                       weight=1.0, phasecentre=phasecentre, \n",
    "                       polarisation_frame=PolarisationFrame('stokesI'))"
   ]
  },
  {
   "cell_type": "markdown",
   "metadata": {},
   "source": [
    "Plot the synthesized uv coverage"
   ]
  },
  {
   "cell_type": "code",
   "execution_count": 13,
   "metadata": {
    "scrolled": false
   },
   "outputs": [
    {
     "data": {
      "image/png": "[encoded data removed]",
      "text/plain": [
       "<matplotlib.figure.Figure at 0x7fd14f67a0f0>"
      ]
     },
     "metadata": {},
     "output_type": "display_data"
    }
   ],
   "source": [
    "plt.clf()\n",
    "plt.plot(vt.uvw[:,0],   vt.uvw[:,1], '.', color='b')\n",
    "plt.plot(-vt.uvw[:,0], -vt.uvw[:,1], '.', color='b')\n",
    "plt.xlabel(\"U (wavelengths)\")\n",
    "plt.ylabel(\"V (wavelengths)\")\n",
    "plt.show()"
   ]
  },
  {
   "cell_type": "markdown",
   "metadata": {},
   "source": [
    "Make a test image"
   ]
  },
  {
   "cell_type": "code",
   "execution_count": 14,
   "metadata": {},
   "outputs": [
    {
     "name": "stdout",
     "output_type": "stream",
     "text": [
      "create_low_test_image_from_gleam: 678 sources inside the image\n",
      "create_low_test_image_from_gleam: 678 sources inside the image\n",
      "create_low_test_image_from_gleam: Average flux per channel in image = 203.716\n",
      "create_low_test_image_from_gleam: Average flux per channel in image = 203.716\n"
     ]
    }
   ],
   "source": [
    "model_centrechannel = create_low_test_image_from_gleam(npixel=npixel, \n",
    "                                                       frequency=centre_frequency, \n",
    "                                                       channel_bandwidth=total_bandwidth, \n",
    "                                                       cellsize=cellsize, \n",
    "                                                       phasecentre=phasecentre)\n",
    "export_image_to_fits(model_centrechannel, '%s/imaging-mfs-model_centre_channel.fits' % \n",
    "                     (results_dir))"
   ]
  },
  {
   "cell_type": "code",
   "execution_count": 15,
   "metadata": {
    "scrolled": true
   },
   "outputs": [
    {
     "name": "stdout",
     "output_type": "stream",
     "text": [
      "create_image_from_array: created float64 image of shape (7, 1, 10240, 10240), size 5.469 (GB)\n",
      "create_image_from_array: created float64 image of shape (7, 1, 10240, 10240), size 5.469 (GB)\n",
      "create_low_test_image_from_gleam: 678 sources inside the image\n",
      "create_low_test_image_from_gleam: 678 sources inside the image\n",
      "create_low_test_image_from_gleam: Average flux per channel in image = 207.344\n",
      "create_low_test_image_from_gleam: Average flux per channel in image = 207.344\n"
     ]
    }
   ],
   "source": [
    "model_multichannel = create_low_test_image_from_gleam(npixel=npixel, frequency=frequency, \n",
    "                                                      channel_bandwidth=channel_bandwidth, \n",
    "                                                      cellsize=cellsize, \n",
    "                                                      phasecentre=phasecentre)"
   ]
  },
  {
   "cell_type": "code",
   "execution_count": 16,
   "metadata": {},
   "outputs": [
    {
     "name": "stdout",
     "output_type": "stream",
     "text": [
      "import_image_from_fits: created >f4 image of shape (1, 1, 256, 256), size 0.000 (GB)\n",
      "import_image_from_fits: created >f4 image of shape (1, 1, 256, 256), size 0.000 (GB)\n",
      "import_image_from_fits: Max, min in /home/yangrunkai/data/ska/arl_code/arl-new/algorithm-reference-library/data/models/SKA1_LOW_beam.fits = 0.997918, 0.000000\n",
      "import_image_from_fits: Max, min in /home/yangrunkai/data/ska/arl_code/arl-new/algorithm-reference-library/data/models/SKA1_LOW_beam.fits = 0.997918, 0.000000\n",
      "create_low_test_beam: primary beam is defined at 100.000 MHz\n",
      "create_low_test_beam: primary beam is defined at 100.000 MHz\n",
      "create_empty_image_like: created float64 image of shape (7, 1, 10240, 10240), size 5.469 (GB)\n",
      "create_empty_image_like: created float64 image of shape (7, 1, 10240, 10240), size 5.469 (GB)\n"
     ]
    },
    {
     "ename": "KeyboardInterrupt",
     "evalue": "",
     "traceback": [
      "\u001b[0;31m---------------------------------------------------------------------------\u001b[0m",
      "\u001b[0;31mKeyboardInterrupt\u001b[0m                         Traceback (most recent call last)",
      "\u001b[0;32m<ipython-input-16-e7b0386351fe>\u001b[0m in \u001b[0;36m<module>\u001b[0;34m()\u001b[0m\n\u001b[1;32m      1\u001b[0m \u001b[0;32mimport\u001b[0m \u001b[0mtime\u001b[0m\u001b[0;34m\u001b[0m\u001b[0m\n\u001b[1;32m      2\u001b[0m \u001b[0mstart\u001b[0m \u001b[0;34m=\u001b[0m \u001b[0mtime\u001b[0m\u001b[0;34m.\u001b[0m\u001b[0mtime\u001b[0m\u001b[0;34m(\u001b[0m\u001b[0;34m)\u001b[0m\u001b[0;34m\u001b[0m\u001b[0m\n\u001b[0;32m----> 3\u001b[0;31m \u001b[0mbeam\u001b[0m\u001b[0;34m=\u001b[0m\u001b[0mcreate_low_test_beam\u001b[0m\u001b[0;34m(\u001b[0m\u001b[0mmodel_multichannel\u001b[0m\u001b[0;34m)\u001b[0m\u001b[0;34m\u001b[0m\u001b[0m\n\u001b[0m\u001b[1;32m      4\u001b[0m \u001b[0mmodel_multichannel\u001b[0m\u001b[0;34m.\u001b[0m\u001b[0mdata\u001b[0m\u001b[0;34m*=\u001b[0m\u001b[0mbeam\u001b[0m\u001b[0;34m.\u001b[0m\u001b[0mdata\u001b[0m\u001b[0;34m\u001b[0m\u001b[0m\n\u001b[1;32m      5\u001b[0m \u001b[0mprint\u001b[0m\u001b[0;34m(\u001b[0m\u001b[0;34m\"Model * beam has %.3f Jy\"\u001b[0m \u001b[0;34m%\u001b[0m \u001b[0;34m(\u001b[0m\u001b[0mnumpy\u001b[0m\u001b[0;34m.\u001b[0m\u001b[0msum\u001b[0m\u001b[0;34m(\u001b[0m\u001b[0mmodel_multichannel\u001b[0m\u001b[0;34m.\u001b[0m\u001b[0mdata\u001b[0m\u001b[0;34m[\u001b[0m\u001b[0;36m0\u001b[0m\u001b[0;34m,\u001b[0m\u001b[0;36m0\u001b[0m\u001b[0;34m,\u001b[0m\u001b[0;34m:\u001b[0m\u001b[0;34m,\u001b[0m\u001b[0;34m:\u001b[0m\u001b[0;34m]\u001b[0m\u001b[0;34m)\u001b[0m\u001b[0;34m)\u001b[0m\u001b[0;34m)\u001b[0m\u001b[0;34m\u001b[0m\u001b[0m\n",
      "\u001b[0;32m/home/yangrunkai/data/ska/arl_code/arl-new/algorithm-reference-library/arl/util/testing_support.py\u001b[0m in \u001b[0;36mcreate_low_test_beam\u001b[0;34m(model)\u001b[0m\n\u001b[1;32m    555\u001b[0m \u001b[0;34m\u001b[0m\u001b[0m\n\u001b[1;32m    556\u001b[0m         \u001b[0mbeam2d\u001b[0m \u001b[0;34m=\u001b[0m \u001b[0mcreate_image_from_array\u001b[0m\u001b[0;34m(\u001b[0m\u001b[0mbeam\u001b[0m\u001b[0;34m.\u001b[0m\u001b[0mdata\u001b[0m\u001b[0;34m[\u001b[0m\u001b[0;36m0\u001b[0m\u001b[0;34m,\u001b[0m \u001b[0;36m0\u001b[0m\u001b[0;34m,\u001b[0m \u001b[0;34m:\u001b[0m\u001b[0;34m,\u001b[0m \u001b[0;34m:\u001b[0m\u001b[0;34m]\u001b[0m\u001b[0;34m,\u001b[0m \u001b[0mbeam2dwcs\u001b[0m\u001b[0;34m)\u001b[0m\u001b[0;34m\u001b[0m\u001b[0m\n\u001b[0;32m--> 557\u001b[0;31m         \u001b[0mreprojected_beam2d\u001b[0m\u001b[0;34m,\u001b[0m \u001b[0mfootprint\u001b[0m \u001b[0;34m=\u001b[0m \u001b[0mreproject_image\u001b[0m\u001b[0;34m(\u001b[0m\u001b[0mbeam2d\u001b[0m\u001b[0;34m,\u001b[0m \u001b[0mmodel2dwcs\u001b[0m\u001b[0;34m,\u001b[0m \u001b[0mshape\u001b[0m\u001b[0;34m=\u001b[0m\u001b[0mmodel2dshape\u001b[0m\u001b[0;34m)\u001b[0m\u001b[0;34m\u001b[0m\u001b[0m\n\u001b[0m\u001b[1;32m    558\u001b[0m         \u001b[0;32massert\u001b[0m \u001b[0mnumpy\u001b[0m\u001b[0;34m.\u001b[0m\u001b[0mmax\u001b[0m\u001b[0;34m(\u001b[0m\u001b[0mfootprint\u001b[0m\u001b[0;34m.\u001b[0m\u001b[0mdata\u001b[0m\u001b[0;34m)\u001b[0m \u001b[0;34m>\u001b[0m \u001b[0;36m0.0\u001b[0m\u001b[0;34m,\u001b[0m \u001b[0;34m\"No overlap between beam and model\"\u001b[0m\u001b[0;34m\u001b[0m\u001b[0m\n\u001b[1;32m    559\u001b[0m \u001b[0;34m\u001b[0m\u001b[0m\n",
      "\u001b[0;32m/home/yangrunkai/data/ska/arl_code/arl-new/algorithm-reference-library/arl/image/operations.py\u001b[0m in \u001b[0;36mreproject_image\u001b[0;34m(im, newwcs, shape)\u001b[0m\n\u001b[1;32m    211\u001b[0m     \u001b[0;32massert\u001b[0m \u001b[0misinstance\u001b[0m\u001b[0;34m(\u001b[0m\u001b[0mim\u001b[0m\u001b[0;34m,\u001b[0m \u001b[0mImage\u001b[0m\u001b[0;34m)\u001b[0m\u001b[0;34m\u001b[0m\u001b[0m\n\u001b[1;32m    212\u001b[0m     rep, foot = reproject_interp((im.data, im.wcs), newwcs, shape, order='bicubic',\n\u001b[0;32m--> 213\u001b[0;31m                                  independent_celestial_slices=True)\n\u001b[0m\u001b[1;32m    214\u001b[0m     \u001b[0;32mreturn\u001b[0m \u001b[0mcreate_image_from_array\u001b[0m\u001b[0;34m(\u001b[0m\u001b[0mrep\u001b[0m\u001b[0;34m,\u001b[0m \u001b[0mnewwcs\u001b[0m\u001b[0;34m)\u001b[0m\u001b[0;34m,\u001b[0m \u001b[0mcreate_image_from_array\u001b[0m\u001b[0;34m(\u001b[0m\u001b[0mfoot\u001b[0m\u001b[0;34m,\u001b[0m \u001b[0mnewwcs\u001b[0m\u001b[0;34m)\u001b[0m\u001b[0;34m\u001b[0m\u001b[0m\n\u001b[1;32m    215\u001b[0m \u001b[0;34m\u001b[0m\u001b[0m\n",
      "\u001b[0;32m/home/yangrunkai/myinstall/.pyenv/versions/anaconda3-4.4.0/lib/python3.6/site-packages/reproject/interpolation/high_level.py\u001b[0m in \u001b[0;36mreproject_interp\u001b[0;34m(input_data, output_projection, shape_out, hdu_in, order, independent_celestial_slices)\u001b[0m\n\u001b[1;32m     90\u001b[0m \u001b[0;34m\u001b[0m\u001b[0m\n\u001b[1;32m     91\u001b[0m     \u001b[0;32mif\u001b[0m \u001b[0;34m(\u001b[0m\u001b[0mwcs_in\u001b[0m\u001b[0;34m.\u001b[0m\u001b[0mis_celestial\u001b[0m \u001b[0;32mand\u001b[0m \u001b[0mwcs_in\u001b[0m\u001b[0;34m.\u001b[0m\u001b[0mnaxis\u001b[0m \u001b[0;34m==\u001b[0m \u001b[0;36m2\u001b[0m\u001b[0;34m)\u001b[0m \u001b[0;32mor\u001b[0m \u001b[0mindependent_celestial_slices\u001b[0m\u001b[0;34m:\u001b[0m\u001b[0;34m\u001b[0m\u001b[0m\n\u001b[0;32m---> 92\u001b[0;31m         \u001b[0;32mreturn\u001b[0m \u001b[0m_reproject_celestial\u001b[0m\u001b[0;34m(\u001b[0m\u001b[0marray_in\u001b[0m\u001b[0;34m,\u001b[0m \u001b[0mwcs_in\u001b[0m\u001b[0;34m,\u001b[0m \u001b[0mwcs_out\u001b[0m\u001b[0;34m,\u001b[0m \u001b[0mshape_out\u001b[0m\u001b[0;34m=\u001b[0m\u001b[0mshape_out\u001b[0m\u001b[0;34m,\u001b[0m \u001b[0morder\u001b[0m\u001b[0;34m=\u001b[0m\u001b[0morder\u001b[0m\u001b[0;34m)\u001b[0m\u001b[0;34m\u001b[0m\u001b[0m\n\u001b[0m\u001b[1;32m     93\u001b[0m     \u001b[0;32melse\u001b[0m\u001b[0;34m:\u001b[0m\u001b[0;34m\u001b[0m\u001b[0m\n\u001b[1;32m     94\u001b[0m         \u001b[0;32mreturn\u001b[0m \u001b[0m_reproject_full\u001b[0m\u001b[0;34m(\u001b[0m\u001b[0marray_in\u001b[0m\u001b[0;34m,\u001b[0m \u001b[0mwcs_in\u001b[0m\u001b[0;34m,\u001b[0m \u001b[0mwcs_out\u001b[0m\u001b[0;34m,\u001b[0m \u001b[0mshape_out\u001b[0m\u001b[0;34m=\u001b[0m\u001b[0mshape_out\u001b[0m\u001b[0;34m,\u001b[0m \u001b[0morder\u001b[0m\u001b[0;34m=\u001b[0m\u001b[0morder\u001b[0m\u001b[0;34m)\u001b[0m\u001b[0;34m\u001b[0m\u001b[0m\n",
      "\u001b[0;32m/home/yangrunkai/myinstall/.pyenv/versions/anaconda3-4.4.0/lib/python3.6/site-packages/reproject/interpolation/core_celestial.py\u001b[0m in \u001b[0;36m_reproject_celestial\u001b[0;34m(array, wcs_in, wcs_out, shape_out, order)\u001b[0m\n\u001b[1;32m     65\u001b[0m             xp_in, yp_in = _get_input_pixels_celestial(wcs_in.celestial,\n\u001b[1;32m     66\u001b[0m                                                        \u001b[0mwcs_out\u001b[0m\u001b[0;34m.\u001b[0m\u001b[0mcelestial\u001b[0m\u001b[0;34m,\u001b[0m\u001b[0;34m\u001b[0m\u001b[0m\n\u001b[0;32m---> 67\u001b[0;31m                                                        slice_out.shape)\n\u001b[0m\u001b[1;32m     68\u001b[0m             \u001b[0mcoordinates\u001b[0m \u001b[0;34m=\u001b[0m \u001b[0mnp\u001b[0m\u001b[0;34m.\u001b[0m\u001b[0marray\u001b[0m\u001b[0;34m(\u001b[0m\u001b[0;34m[\u001b[0m\u001b[0myp_in\u001b[0m\u001b[0;34m.\u001b[0m\u001b[0mravel\u001b[0m\u001b[0;34m(\u001b[0m\u001b[0;34m)\u001b[0m\u001b[0;34m,\u001b[0m \u001b[0mxp_in\u001b[0m\u001b[0;34m.\u001b[0m\u001b[0mravel\u001b[0m\u001b[0;34m(\u001b[0m\u001b[0;34m)\u001b[0m\u001b[0;34m]\u001b[0m\u001b[0;34m)\u001b[0m\u001b[0;34m\u001b[0m\u001b[0m\n\u001b[1;32m     69\u001b[0m \u001b[0;34m\u001b[0m\u001b[0m\n",
      "\u001b[0;32m/home/yangrunkai/myinstall/.pyenv/versions/anaconda3-4.4.0/lib/python3.6/site-packages/reproject/interpolation/core_celestial.py\u001b[0m in \u001b[0;36m_get_input_pixels_celestial\u001b[0;34m(wcs_in, wcs_out, shape_out)\u001b[0m\n\u001b[1;32m    128\u001b[0m     \u001b[0;31m# Convert output pixel coordinates to pixel coordinates in original image\u001b[0m\u001b[0;34m\u001b[0m\u001b[0;34m\u001b[0m\u001b[0m\n\u001b[1;32m    129\u001b[0m     \u001b[0;31m# (using pixel centers).\u001b[0m\u001b[0;34m\u001b[0m\u001b[0;34m\u001b[0m\u001b[0m\n\u001b[0;32m--> 130\u001b[0;31m     \u001b[0mxw_out\u001b[0m\u001b[0;34m,\u001b[0m \u001b[0myw_out\u001b[0m \u001b[0;34m=\u001b[0m \u001b[0mwcs_out\u001b[0m\u001b[0;34m.\u001b[0m\u001b[0mwcs_pix2world\u001b[0m\u001b[0;34m(\u001b[0m\u001b[0mxp_out\u001b[0m\u001b[0;34m,\u001b[0m \u001b[0myp_out\u001b[0m\u001b[0;34m,\u001b[0m \u001b[0;36m0\u001b[0m\u001b[0;34m)\u001b[0m\u001b[0;34m\u001b[0m\u001b[0m\n\u001b[0m\u001b[1;32m    131\u001b[0m \u001b[0;34m\u001b[0m\u001b[0m\n\u001b[1;32m    132\u001b[0m     \u001b[0mxw_in\u001b[0m\u001b[0;34m,\u001b[0m \u001b[0myw_in\u001b[0m \u001b[0;34m=\u001b[0m \u001b[0mconvert_world_coordinates\u001b[0m\u001b[0;34m(\u001b[0m\u001b[0mxw_out\u001b[0m\u001b[0;34m,\u001b[0m \u001b[0myw_out\u001b[0m\u001b[0;34m,\u001b[0m \u001b[0mwcs_out\u001b[0m\u001b[0;34m,\u001b[0m \u001b[0mwcs_in\u001b[0m\u001b[0;34m)\u001b[0m\u001b[0;34m\u001b[0m\u001b[0m\n",
      "\u001b[0;32m/home/yangrunkai/myinstall/.pyenv/versions/anaconda3-4.4.0/lib/python3.6/site-packages/astropy/wcs/wcs.py\u001b[0m in \u001b[0;36mwcs_pix2world\u001b[0;34m(self, *args, **kwargs)\u001b[0m\n\u001b[1;32m   1354\u001b[0m         return self._array_converter(\n\u001b[1;32m   1355\u001b[0m             \u001b[0;32mlambda\u001b[0m \u001b[0mxy\u001b[0m\u001b[0;34m,\u001b[0m \u001b[0mo\u001b[0m\u001b[0;34m:\u001b[0m \u001b[0mself\u001b[0m\u001b[0;34m.\u001b[0m\u001b[0mwcs\u001b[0m\u001b[0;34m.\u001b[0m\u001b[0mp2s\u001b[0m\u001b[0;34m(\u001b[0m\u001b[0mxy\u001b[0m\u001b[0;34m,\u001b[0m \u001b[0mo\u001b[0m\u001b[0;34m)\u001b[0m\u001b[0;34m[\u001b[0m\u001b[0;34m'world'\u001b[0m\u001b[0;34m]\u001b[0m\u001b[0;34m,\u001b[0m\u001b[0;34m\u001b[0m\u001b[0m\n\u001b[0;32m-> 1356\u001b[0;31m             'output', *args, **kwargs)\n\u001b[0m\u001b[1;32m   1357\u001b[0m     wcs_pix2world.__doc__ = \"\"\"\n\u001b[1;32m   1358\u001b[0m         \u001b[0mTransforms\u001b[0m \u001b[0mpixel\u001b[0m \u001b[0mcoordinates\u001b[0m \u001b[0mto\u001b[0m \u001b[0mworld\u001b[0m \u001b[0mcoordinates\u001b[0m \u001b[0mby\u001b[0m \u001b[0mdoing\u001b[0m\u001b[0;34m\u001b[0m\u001b[0m\n",
      "\u001b[0;32m/home/yangrunkai/myinstall/.pyenv/versions/anaconda3-4.4.0/lib/python3.6/site-packages/astropy/wcs/wcs.py\u001b[0m in \u001b[0;36m_array_converter\u001b[0;34m(self, func, sky, *args, **kwargs)\u001b[0m\n\u001b[1;32m   1269\u001b[0m                     \"a 1-D array for each axis, followed by an origin.\")\n\u001b[1;32m   1270\u001b[0m \u001b[0;34m\u001b[0m\u001b[0m\n\u001b[0;32m-> 1271\u001b[0;31m             \u001b[0;32mreturn\u001b[0m \u001b[0m_return_list_of_arrays\u001b[0m\u001b[0;34m(\u001b[0m\u001b[0maxes\u001b[0m\u001b[0;34m,\u001b[0m \u001b[0morigin\u001b[0m\u001b[0;34m)\u001b[0m\u001b[0;34m\u001b[0m\u001b[0m\n\u001b[0m\u001b[1;32m   1272\u001b[0m \u001b[0;34m\u001b[0m\u001b[0m\n\u001b[1;32m   1273\u001b[0m         raise TypeError(\n",
      "\u001b[0;32m/home/yangrunkai/myinstall/.pyenv/versions/anaconda3-4.4.0/lib/python3.6/site-packages/astropy/wcs/wcs.py\u001b[0m in \u001b[0;36m_return_list_of_arrays\u001b[0;34m(axes, origin)\u001b[0m\n\u001b[1;32m   1225\u001b[0m             \u001b[0;32mif\u001b[0m \u001b[0mra_dec_order\u001b[0m \u001b[0;32mand\u001b[0m \u001b[0msky\u001b[0m \u001b[0;34m==\u001b[0m \u001b[0;34m'input'\u001b[0m\u001b[0;34m:\u001b[0m\u001b[0;34m\u001b[0m\u001b[0m\n\u001b[1;32m   1226\u001b[0m                 \u001b[0mxy\u001b[0m \u001b[0;34m=\u001b[0m \u001b[0mself\u001b[0m\u001b[0;34m.\u001b[0m\u001b[0m_denormalize_sky\u001b[0m\u001b[0;34m(\u001b[0m\u001b[0mxy\u001b[0m\u001b[0;34m)\u001b[0m\u001b[0;34m\u001b[0m\u001b[0m\n\u001b[0;32m-> 1227\u001b[0;31m             \u001b[0moutput\u001b[0m \u001b[0;34m=\u001b[0m \u001b[0mfunc\u001b[0m\u001b[0;34m(\u001b[0m\u001b[0mxy\u001b[0m\u001b[0;34m,\u001b[0m \u001b[0morigin\u001b[0m\u001b[0;34m)\u001b[0m\u001b[0;34m\u001b[0m\u001b[0m\n\u001b[0m\u001b[1;32m   1228\u001b[0m             \u001b[0;32mif\u001b[0m \u001b[0mra_dec_order\u001b[0m \u001b[0;32mand\u001b[0m \u001b[0msky\u001b[0m \u001b[0;34m==\u001b[0m \u001b[0;34m'output'\u001b[0m\u001b[0;34m:\u001b[0m\u001b[0;34m\u001b[0m\u001b[0m\n\u001b[1;32m   1229\u001b[0m                 \u001b[0moutput\u001b[0m \u001b[0;34m=\u001b[0m \u001b[0mself\u001b[0m\u001b[0;34m.\u001b[0m\u001b[0m_normalize_sky\u001b[0m\u001b[0;34m(\u001b[0m\u001b[0moutput\u001b[0m\u001b[0;34m)\u001b[0m\u001b[0;34m\u001b[0m\u001b[0m\n",
      "\u001b[0;32m/home/yangrunkai/myinstall/.pyenv/versions/anaconda3-4.4.0/lib/python3.6/site-packages/astropy/wcs/wcs.py\u001b[0m in \u001b[0;36m<lambda>\u001b[0;34m(xy, o)\u001b[0m\n\u001b[1;32m   1353\u001b[0m             \u001b[0;32mraise\u001b[0m \u001b[0mValueError\u001b[0m\u001b[0;34m(\u001b[0m\u001b[0;34m\"No basic WCS settings were created.\"\u001b[0m\u001b[0;34m)\u001b[0m\u001b[0;34m\u001b[0m\u001b[0m\n\u001b[1;32m   1354\u001b[0m         return self._array_converter(\n\u001b[0;32m-> 1355\u001b[0;31m             \u001b[0;32mlambda\u001b[0m \u001b[0mxy\u001b[0m\u001b[0;34m,\u001b[0m \u001b[0mo\u001b[0m\u001b[0;34m:\u001b[0m \u001b[0mself\u001b[0m\u001b[0;34m.\u001b[0m\u001b[0mwcs\u001b[0m\u001b[0;34m.\u001b[0m\u001b[0mp2s\u001b[0m\u001b[0;34m(\u001b[0m\u001b[0mxy\u001b[0m\u001b[0;34m,\u001b[0m \u001b[0mo\u001b[0m\u001b[0;34m)\u001b[0m\u001b[0;34m[\u001b[0m\u001b[0;34m'world'\u001b[0m\u001b[0;34m]\u001b[0m\u001b[0;34m,\u001b[0m\u001b[0;34m\u001b[0m\u001b[0m\n\u001b[0m\u001b[1;32m   1356\u001b[0m             'output', *args, **kwargs)\n\u001b[1;32m   1357\u001b[0m     wcs_pix2world.__doc__ = \"\"\"\n",
      "\u001b[0;31mKeyboardInterrupt\u001b[0m: "
     ],
     "output_type": "error"
    }
   ],
   "source": [
    "import time\n",
    "start = time.time()\n",
    "beam=create_low_test_beam(model_multichannel)\n",
    "model_multichannel.data*=beam.data\n",
    "print(\"Model * beam has %.3f Jy\" % (numpy.sum(model_multichannel.data[0,0,:,:])))\n",
    "cmodel = smooth_image(model_multichannel)\n",
    "show_image(cmodel)\n",
    "plt.title(\"Smoothed model image\")\n",
    "plt.show()\n",
    "export_image_to_fits(cmodel, '%s/imaging-mfs-cmodel.fits' % (results_dir))\n",
    "beam = None\n",
    "cmodel = None\n",
    "stop = time.time()\n",
    "print('beam time:', stop - start)"
   ]
  },
  {
   "cell_type": "code",
   "execution_count": null,
   "metadata": {
    "collapsed": true,
    "scrolled": true
   },
   "outputs": [],
   "source": [
    "export_image_to_fits(model_multichannel, '%s/imaging-mfs-multi_channel.fits' % (results_dir))\n",
    "moment_cube = calculate_image_frequency_moments(model_multichannel,nmoments=3)\n",
    "export_image_to_fits(moment_cube, '%s/imaging-mfs-moment_cube.fits' % (results_dir))"
   ]
  },
  {
   "cell_type": "code",
   "execution_count": null,
   "metadata": {
    "collapsed": true
   },
   "outputs": [],
   "source": [
    "reconstructed_cube = calculate_image_from_frequency_moments(model_multichannel, moment_cube)\n",
    "export_image_to_fits(reconstructed_cube, '%s/imaging-mfs-reconstructed_cube.fits' % \n",
    "                     (results_dir))"
   ]
  },
  {
   "cell_type": "code",
   "execution_count": null,
   "metadata": {
    "collapsed": true,
    "scrolled": false
   },
   "outputs": [],
   "source": [
    "vt.data['vis'] *= 0.0\n",
    "vt = predict(vt, model_multichannel)\n",
    "\n",
    "# To check that we got the prediction right, plot the amplitude of the visibility.\n",
    "uvdist=numpy.sqrt(vt.data['uvw'][:,0]**2+vt.data['uvw'][:,1]**2)\n",
    "plt.clf()\n",
    "plt.plot(uvdist, numpy.abs(vt.data['vis']), '.')\n",
    "plt.xlabel('uvdist')\n",
    "plt.ylabel('Amp Visibility')\n",
    "plt.show()"
   ]
  },
  {
   "cell_type": "markdown",
   "metadata": {},
   "source": [
    "Weight the data"
   ]
  },
  {
   "cell_type": "code",
   "execution_count": null,
   "metadata": {
    "collapsed": true
   },
   "outputs": [],
   "source": [
    "vt, density, densitygrid = weight_visibility(vt, model_centrechannel)\n",
    "plt.clf()\n",
    "plt.semilogy(uvdist, density, '.')\n",
    "plt.xlabel('uvdist')\n",
    "plt.ylabel('Sample density')\n",
    "plt.show()\n",
    "density = None\n",
    "densitygrid = None"
   ]
  },
  {
   "cell_type": "markdown",
   "metadata": {},
   "source": [
    "Make the dirty image and point spread function"
   ]
  },
  {
   "cell_type": "code",
   "execution_count": null,
   "metadata": {
    "collapsed": true,
    "scrolled": false
   },
   "outputs": [],
   "source": [
    "dirty, sumwt = invert(vt, model_multichannel, padding=1)\n",
    "show_image(dirty)\n",
    "psf, sumwt = invert(vt, model_multichannel, dopsf=True, padding=1)\n",
    "\n",
    "print(\"Max, min in dirty image = %.6f, %.6f, sumwt = %s\" % \n",
    "      (dirty.data.max(), dirty.data.min(), sumwt))\n",
    "print(\"Max, min in PSF         = %.6f, %.6f, sumwt = %s\" % \n",
    "      (psf.data.max(), psf.data.min(), sumwt))\n",
    "\n",
    "export_image_to_fits(dirty, '%s/imaging-mfs-dirty.fits' % (results_dir))\n",
    "export_image_to_fits(psf, '%s/imaging-mfs-psf.fits' % (results_dir))"
   ]
  },
  {
   "cell_type": "code",
   "execution_count": null,
   "metadata": {
    "collapsed": true,
    "scrolled": false
   },
   "outputs": [],
   "source": [
    "comp, residual = deconvolve_cube(dirty, psf, niter=1000, gain=0.7, algorithm='msmfsclean',\n",
    "                scales=[0, 3, 10, 30], threshold=0.01, fractional_threshold=0.001, nmoments=3)\n",
    "export_image_to_fits(comp, '%s/imaging-mfs-comp.fits' % (results_dir))\n",
    "clean = restore_cube(model=comp, psf=psf, residual=residual)\n",
    "export_image_to_fits(residual, '%s/imaging-mfs-residual.fits' % (results_dir))\n",
    "export_image_to_fits(clean, '%s/imaging-mfs-clean.fits' % (results_dir))\n",
    "show_image(clean)\n",
    "plt.show()"
   ]
  },
  {
   "cell_type": "markdown",
   "metadata": {},
   "source": [
    "Predict the visibility of the model"
   ]
  },
  {
   "cell_type": "code",
   "execution_count": null,
   "metadata": {
    "collapsed": true
   },
   "outputs": [],
   "source": [
    "vtmodel = create_visibility(low, times, frequency, channel_bandwidth=channel_bandwidth,\n",
    "                            weight=1.0, phasecentre=phasecentre, \n",
    "                            polarisation_frame=PolarisationFrame('stokesI'))\n",
    "vtmodel=predict(vtmodel, comp)"
   ]
  },
  {
   "cell_type": "markdown",
   "metadata": {
    "collapsed": true
   },
   "source": [
    "Now we will plot the original visibility and the residual visibility."
   ]
  },
  {
   "cell_type": "code",
   "execution_count": null,
   "metadata": {
    "collapsed": true
   },
   "outputs": [],
   "source": [
    "uvdist=numpy.sqrt(vt.data['uvw'][:,0]**2+vt.data['uvw'][:,1]**2)\n",
    "plt.clf()\n",
    "plt.plot(uvdist, numpy.abs(vt.data['vis']), '.', color='b', label='Original')\n",
    "plt.plot(uvdist, numpy.abs(vt.data['vis']-vtmodel.data['vis']), '.', color='r', \n",
    "         label='Residual')\n",
    "\n",
    "plt.xlabel('uvdist')\n",
    "plt.ylabel('Amp Visibility')\n",
    "plt.legend()\n",
    "plt.show()"
   ]
  },
  {
   "cell_type": "code",
   "execution_count": null,
   "metadata": {
    "collapsed": true
   },
   "outputs": [],
   "source": []
  }
 ],
 "metadata": {
  "kernelspec": {
   "display_name": "Python 3",
   "language": "python",
   "name": "python3"
  },
  "language_info": {
   "codemirror_mode": {
    "name": "ipython",
    "version": 3
   },
   "file_extension": ".py",
   "mimetype": "text/x-python",
   "name": "python",
   "nbconvert_exporter": "python",
   "pygments_lexer": "ipython3",
   "version": "3.6.1"
  }
 },
 "nbformat": 4,
 "nbformat_minor": 1
}
